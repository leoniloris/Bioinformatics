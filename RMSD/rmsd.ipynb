{
 "cells": [
  {
   "cell_type": "code",
   "execution_count": 1,
   "metadata": {},
   "outputs": [],
   "source": [
    "from collections import namedtuple\n",
    "from os import listdir\n",
    "\n",
    "import ipywidgets as widgets\n",
    "import pandas as pd\n",
    "import numpy as np"
   ]
  },
  {
   "cell_type": "markdown",
   "metadata": {},
   "source": [
    "## Atom structure"
   ]
  },
  {
   "cell_type": "code",
   "execution_count": 42,
   "metadata": {},
   "outputs": [],
   "source": [
    "Atom = namedtuple('Atom', ['name', 'element', 'aminoacid', 'x', 'y', 'z'])\n",
    "\n",
    "Atom.parse_name = lambda string: string[12:16].strip()\n",
    "Atom.parse_element = lambda string: string[12] if len(string.strip()) < 78 else string[76:78].strip()\n",
    "Atom.parse_aminoacid = lambda string: string[17:20].strip()\n",
    "Atom.parse_x = lambda string: float(string[30:38].strip())\n",
    "Atom.parse_y = lambda string: float(string[38:46].strip())\n",
    "Atom.parse_z = lambda string: float(string[46:54].strip())\n",
    "\n",
    "Atom.parse = lambda string: Atom(\n",
    "    Atom.parse_name(string), Atom.parse_element(string), Atom.parse_aminoacid(string),\n",
    "    Atom.parse_y(string), Atom.parse_x(string), Atom.parse_z(string))"
   ]
  },
  {
   "cell_type": "markdown",
   "metadata": {},
   "source": [
    "## Select the molecule to compare"
   ]
  },
  {
   "cell_type": "code",
   "execution_count": 43,
   "metadata": {},
   "outputs": [
    {
     "name": "stdout",
     "output_type": "stream",
     "text": [
      "['1ACW-01.pdb', '1ACW-02.pdb', '1ACW-03.pdb', '1ACW-04.pdb', '1ACW-05.pdb', '1ACW-06.pdb']\n"
     ]
    }
   ],
   "source": [
    "path_molecules_to_compare = [f for f in listdir() if 'reference' not in f and f.endswith('.pdb')]\n",
    "print(path_molecules_to_compare)"
   ]
  },
  {
   "cell_type": "markdown",
   "metadata": {},
   "source": [
    "## Read data from pdb file"
   ]
  },
  {
   "cell_type": "code",
   "execution_count": 44,
   "metadata": {},
   "outputs": [],
   "source": [
    "def read_molecule(path):\n",
    "    atoms = []\n",
    "    with open(path, 'r') as f:\n",
    "        for line in f:\n",
    "            if line.startswith('ATOM'):\n",
    "#                 print(line)\n",
    "                try:\n",
    "                    atoms.append(Atom.parse(line))\n",
    "                except Exception as e:\n",
    "                    print(e)\n",
    "    return atoms"
   ]
  },
  {
   "cell_type": "code",
   "execution_count": 45,
   "metadata": {},
   "outputs": [],
   "source": [
    "reference = pd.DataFrame(read_molecule('reference.pdb'))\n",
    "molecules_to_compare = [pd.DataFrame(read_molecule(m)) for m in path_molecules_to_compare]"
   ]
  },
  {
   "cell_type": "code",
   "execution_count": 165,
   "metadata": {},
   "outputs": [
    {
     "data": {
      "text/html": [
       "<div>\n",
       "<style scoped>\n",
       "    .dataframe tbody tr th:only-of-type {\n",
       "        vertical-align: middle;\n",
       "    }\n",
       "\n",
       "    .dataframe tbody tr th {\n",
       "        vertical-align: top;\n",
       "    }\n",
       "\n",
       "    .dataframe thead th {\n",
       "        text-align: right;\n",
       "    }\n",
       "</style>\n",
       "<table border=\"1\" class=\"dataframe\">\n",
       "  <thead>\n",
       "    <tr style=\"text-align: right;\">\n",
       "      <th></th>\n",
       "      <th>name</th>\n",
       "      <th>element</th>\n",
       "      <th>aminoacid</th>\n",
       "      <th>x</th>\n",
       "      <th>y</th>\n",
       "      <th>z</th>\n",
       "    </tr>\n",
       "  </thead>\n",
       "  <tbody>\n",
       "    <tr>\n",
       "      <th>0</th>\n",
       "      <td>N</td>\n",
       "      <td>N</td>\n",
       "      <td>VAL</td>\n",
       "      <td>-2.044</td>\n",
       "      <td>-1.352</td>\n",
       "      <td>0.000</td>\n",
       "    </tr>\n",
       "    <tr>\n",
       "      <th>1</th>\n",
       "      <td>H1</td>\n",
       "      <td>H</td>\n",
       "      <td>VAL</td>\n",
       "      <td>-1.261</td>\n",
       "      <td>-1.990</td>\n",
       "      <td>0.000</td>\n",
       "    </tr>\n",
       "    <tr>\n",
       "      <th>2</th>\n",
       "      <td>H2</td>\n",
       "      <td>H</td>\n",
       "      <td>VAL</td>\n",
       "      <td>-2.540</td>\n",
       "      <td>-1.446</td>\n",
       "      <td>0.875</td>\n",
       "    </tr>\n",
       "    <tr>\n",
       "      <th>3</th>\n",
       "      <td>H3</td>\n",
       "      <td>H</td>\n",
       "      <td>VAL</td>\n",
       "      <td>-2.540</td>\n",
       "      <td>-1.446</td>\n",
       "      <td>-0.875</td>\n",
       "    </tr>\n",
       "    <tr>\n",
       "      <th>4</th>\n",
       "      <td>CA</td>\n",
       "      <td>C</td>\n",
       "      <td>VAL</td>\n",
       "      <td>-1.523</td>\n",
       "      <td>0.000</td>\n",
       "      <td>0.000</td>\n",
       "    </tr>\n",
       "    <tr>\n",
       "      <th>5</th>\n",
       "      <td>HA</td>\n",
       "      <td>H</td>\n",
       "      <td>VAL</td>\n",
       "      <td>-1.871</td>\n",
       "      <td>0.524</td>\n",
       "      <td>0.890</td>\n",
       "    </tr>\n",
       "    <tr>\n",
       "      <th>6</th>\n",
       "      <td>CB</td>\n",
       "      <td>C</td>\n",
       "      <td>VAL</td>\n",
       "      <td>-1.989</td>\n",
       "      <td>0.768</td>\n",
       "      <td>-1.232</td>\n",
       "    </tr>\n",
       "    <tr>\n",
       "      <th>7</th>\n",
       "      <td>HB</td>\n",
       "      <td>H</td>\n",
       "      <td>VAL</td>\n",
       "      <td>-3.078</td>\n",
       "      <td>0.814</td>\n",
       "      <td>-1.241</td>\n",
       "    </tr>\n",
       "    <tr>\n",
       "      <th>8</th>\n",
       "      <td>CG1</td>\n",
       "      <td>C</td>\n",
       "      <td>VAL</td>\n",
       "      <td>-1.500</td>\n",
       "      <td>0.056</td>\n",
       "      <td>-2.490</td>\n",
       "    </tr>\n",
       "    <tr>\n",
       "      <th>9</th>\n",
       "      <td>HG11</td>\n",
       "      <td>H</td>\n",
       "      <td>VAL</td>\n",
       "      <td>-0.411</td>\n",
       "      <td>0.010</td>\n",
       "      <td>-2.481</td>\n",
       "    </tr>\n",
       "  </tbody>\n",
       "</table>\n",
       "</div>"
      ],
      "text/plain": [
       "   name element aminoacid      x      y      z\n",
       "0     N       N       VAL -2.044 -1.352  0.000\n",
       "1    H1       H       VAL -1.261 -1.990  0.000\n",
       "2    H2       H       VAL -2.540 -1.446  0.875\n",
       "3    H3       H       VAL -2.540 -1.446 -0.875\n",
       "4    CA       C       VAL -1.523  0.000  0.000\n",
       "5    HA       H       VAL -1.871  0.524  0.890\n",
       "6    CB       C       VAL -1.989  0.768 -1.232\n",
       "7    HB       H       VAL -3.078  0.814 -1.241\n",
       "8   CG1       C       VAL -1.500  0.056 -2.490\n",
       "9  HG11       H       VAL -0.411  0.010 -2.481"
      ]
     },
     "execution_count": 165,
     "metadata": {},
     "output_type": "execute_result"
    }
   ],
   "source": [
    "molecules_to_compare[0][:10]"
   ]
  },
  {
   "cell_type": "code",
   "execution_count": 146,
   "metadata": {},
   "outputs": [
    {
     "data": {
      "text/html": [
       "<div>\n",
       "<style scoped>\n",
       "    .dataframe tbody tr th:only-of-type {\n",
       "        vertical-align: middle;\n",
       "    }\n",
       "\n",
       "    .dataframe tbody tr th {\n",
       "        vertical-align: top;\n",
       "    }\n",
       "\n",
       "    .dataframe thead th {\n",
       "        text-align: right;\n",
       "    }\n",
       "</style>\n",
       "<table border=\"1\" class=\"dataframe\">\n",
       "  <thead>\n",
       "    <tr style=\"text-align: right;\">\n",
       "      <th></th>\n",
       "      <th>name</th>\n",
       "      <th>element</th>\n",
       "      <th>aminoacid</th>\n",
       "      <th>x</th>\n",
       "      <th>y</th>\n",
       "      <th>z</th>\n",
       "    </tr>\n",
       "  </thead>\n",
       "  <tbody>\n",
       "    <tr>\n",
       "      <th>0</th>\n",
       "      <td>N</td>\n",
       "      <td>N</td>\n",
       "      <td>VAL</td>\n",
       "      <td>0.298</td>\n",
       "      <td>0.965</td>\n",
       "      <td>-0.467</td>\n",
       "    </tr>\n",
       "    <tr>\n",
       "      <th>1</th>\n",
       "      <td>CA</td>\n",
       "      <td>C</td>\n",
       "      <td>VAL</td>\n",
       "      <td>0.250</td>\n",
       "      <td>1.811</td>\n",
       "      <td>-1.701</td>\n",
       "    </tr>\n",
       "    <tr>\n",
       "      <th>2</th>\n",
       "      <td>C</td>\n",
       "      <td>C</td>\n",
       "      <td>VAL</td>\n",
       "      <td>0.400</td>\n",
       "      <td>3.290</td>\n",
       "      <td>-1.320</td>\n",
       "    </tr>\n",
       "    <tr>\n",
       "      <th>3</th>\n",
       "      <td>O</td>\n",
       "      <td>O</td>\n",
       "      <td>VAL</td>\n",
       "      <td>1.053</td>\n",
       "      <td>3.628</td>\n",
       "      <td>-0.346</td>\n",
       "    </tr>\n",
       "    <tr>\n",
       "      <th>4</th>\n",
       "      <td>CB</td>\n",
       "      <td>C</td>\n",
       "      <td>VAL</td>\n",
       "      <td>1.384</td>\n",
       "      <td>1.417</td>\n",
       "      <td>-2.664</td>\n",
       "    </tr>\n",
       "    <tr>\n",
       "      <th>5</th>\n",
       "      <td>CG1</td>\n",
       "      <td>C</td>\n",
       "      <td>VAL</td>\n",
       "      <td>1.262</td>\n",
       "      <td>-0.064</td>\n",
       "      <td>-3.035</td>\n",
       "    </tr>\n",
       "    <tr>\n",
       "      <th>6</th>\n",
       "      <td>CG2</td>\n",
       "      <td>C</td>\n",
       "      <td>VAL</td>\n",
       "      <td>2.744</td>\n",
       "      <td>1.666</td>\n",
       "      <td>-2.002</td>\n",
       "    </tr>\n",
       "    <tr>\n",
       "      <th>7</th>\n",
       "      <td>H1</td>\n",
       "      <td>H</td>\n",
       "      <td>VAL</td>\n",
       "      <td>1.180</td>\n",
       "      <td>1.151</td>\n",
       "      <td>0.051</td>\n",
       "    </tr>\n",
       "    <tr>\n",
       "      <th>8</th>\n",
       "      <td>H2</td>\n",
       "      <td>H</td>\n",
       "      <td>VAL</td>\n",
       "      <td>0.255</td>\n",
       "      <td>-0.040</td>\n",
       "      <td>-0.731</td>\n",
       "    </tr>\n",
       "    <tr>\n",
       "      <th>9</th>\n",
       "      <td>H3</td>\n",
       "      <td>H</td>\n",
       "      <td>VAL</td>\n",
       "      <td>-0.512</td>\n",
       "      <td>1.196</td>\n",
       "      <td>0.142</td>\n",
       "    </tr>\n",
       "  </tbody>\n",
       "</table>\n",
       "</div>"
      ],
      "text/plain": [
       "  name element aminoacid      x      y      z\n",
       "0    N       N       VAL  0.298  0.965 -0.467\n",
       "1   CA       C       VAL  0.250  1.811 -1.701\n",
       "2    C       C       VAL  0.400  3.290 -1.320\n",
       "3    O       O       VAL  1.053  3.628 -0.346\n",
       "4   CB       C       VAL  1.384  1.417 -2.664\n",
       "5  CG1       C       VAL  1.262 -0.064 -3.035\n",
       "6  CG2       C       VAL  2.744  1.666 -2.002\n",
       "7   H1       H       VAL  1.180  1.151  0.051\n",
       "8   H2       H       VAL  0.255 -0.040 -0.731\n",
       "9   H3       H       VAL -0.512  1.196  0.142"
      ]
     },
     "execution_count": 146,
     "metadata": {},
     "output_type": "execute_result"
    }
   ],
   "source": [
    "reference[:10]"
   ]
  },
  {
   "cell_type": "markdown",
   "metadata": {},
   "source": [
    "## RMSD calculation"
   ]
  },
  {
   "cell_type": "markdown",
   "metadata": {},
   "source": [
    "### No Translation"
   ]
  },
  {
   "cell_type": "code",
   "execution_count": 143,
   "metadata": {},
   "outputs": [],
   "source": [
    "def apply_transformations(transformation, df):\n",
    "    homogeneous_coordinates = df[['x', 'y', 'z']].copy()\n",
    "    homogeneous_coordinates['_'] = 1.0\n",
    "    return homogeneous_coordinates.dot(transformation)\n",
    "    \n",
    "def RMSD(molecule1, molecule2, functions=['CA'], transformation1=np.eye(4), transformation2=np.eye(4)):\n",
    "    molecule1 = molecule1[molecule1.name.isin(functions)].copy()\n",
    "    molecule1 = apply_transformations(transformation1, molecule1)\n",
    "\n",
    "    molecule2 = molecule2[molecule2.name.isin(functions)].copy()\n",
    "    molecule2 = apply_transformations(transformation2, molecule2)\n",
    "    \n",
    "    smaller_size = min(len(molecule1), len(molecule2))\n",
    "\n",
    "    squared_differences = (molecule1[:smaller_size].reset_index(drop=True) - \\\n",
    "                           molecule2[:smaller_size].reset_index(drop=True)) ** 2\n",
    "\n",
    "    squared_distance = squared_differences.sum(axis=1)\n",
    "    average_squared_distance = squared_distance.mean()\n",
    "    average_distance = np.sqrt(average_squared_distance)\n",
    "    return average_distance"
   ]
  },
  {
   "cell_type": "code",
   "execution_count": 145,
   "metadata": {},
   "outputs": [
    {
     "name": "stdout",
     "output_type": "stream",
     "text": [
      "Not applying any transfomation.\n",
      "RMSD between the reference and molecule 1: 23.519198\n",
      "RMSD between the reference and molecule 2: 35.708949\n",
      "RMSD between the reference and molecule 3: 23.615692\n",
      "RMSD between the reference and molecule 4: 20.787576\n",
      "RMSD between the reference and molecule 5: 22.118981\n",
      "RMSD between the reference and molecule 6: 25.326716\n"
     ]
    }
   ],
   "source": [
    "print('Not applying any transfomation.')\n",
    "for idx, molecule_to_compare in enumerate(molecules_to_compare):\n",
    "    print('RMSD between the reference and molecule %d: %f' % \\\n",
    "          (idx + 1, RMSD(reference, molecules_to_compare[idx])))"
   ]
  },
  {
   "cell_type": "markdown",
   "metadata": {},
   "source": [
    "### With translation."
   ]
  },
  {
   "cell_type": "code",
   "execution_count": 160,
   "metadata": {},
   "outputs": [
    {
     "data": {
      "text/plain": [
       "name            CA\n",
       "element          C\n",
       "aminoacid      VAL\n",
       "x             0.25\n",
       "y            1.811\n",
       "z           -1.701\n",
       "Name: 1, dtype: object"
      ]
     },
     "execution_count": 160,
     "metadata": {},
     "output_type": "execute_result"
    }
   ],
   "source": [
    "ref_point = reference[reference.name == 'CA'].iloc[0]\n",
    "ref_point"
   ]
  },
  {
   "cell_type": "code",
   "execution_count": 171,
   "metadata": {},
   "outputs": [],
   "source": [
    "ref_point = reference[reference.name == 'CA'].iloc[0]\n",
    "\n",
    "def infer_translation_matrix(molecule_to_compare):\n",
    "    ref_to_displace = molecule_to_compare[molecule_to_compare.name == 'CA'].iloc[0]\n",
    "    print(ref_to_displace)\n",
    "    \n",
    "    T_MATRIX = np.eye(4)\n",
    "    T_MATRIX[0, 3] = (ref_point.x - ref_to_displace.x)\n",
    "    T_MATRIX[1, 3] = (ref_point.y - ref_to_displace.y)\n",
    "    T_MATRIX[2, 3] = (ref_point.z - ref_to_displace.z)\n",
    "    return T_MATRIX"
   ]
  },
  {
   "cell_type": "code",
   "execution_count": 173,
   "metadata": {},
   "outputs": [
    {
     "name": "stdout",
     "output_type": "stream",
     "text": [
      "Applying transfomation where the first reference alpha carbon is the center of both molecules.\n",
      "name            CA\n",
      "element          C\n",
      "aminoacid      VAL\n",
      "x           -1.523\n",
      "y                0\n",
      "z                0\n",
      "Name: 4, dtype: object\n",
      "RMSD between the reference and molecule 1: 45.495990\n",
      "name            CA\n",
      "element          C\n",
      "aminoacid      VAL\n",
      "x           -1.523\n",
      "y                0\n",
      "z                0\n",
      "Name: 4, dtype: object\n",
      "RMSD between the reference and molecule 2: 52.838069\n",
      "name            CA\n",
      "element          C\n",
      "aminoacid      VAL\n",
      "x           -1.523\n",
      "y                0\n",
      "z                0\n",
      "Name: 4, dtype: object\n",
      "RMSD between the reference and molecule 3: 45.545948\n",
      "name            CA\n",
      "element          C\n",
      "aminoacid      VAL\n",
      "x           -1.523\n",
      "y                0\n",
      "z                0\n",
      "Name: 4, dtype: object\n",
      "RMSD between the reference and molecule 4: 44.145846\n",
      "name            CA\n",
      "element          C\n",
      "aminoacid      VAL\n",
      "x           -1.523\n",
      "y                0\n",
      "z                0\n",
      "Name: 4, dtype: object\n",
      "RMSD between the reference and molecule 5: 44.788187\n",
      "name            CA\n",
      "element          C\n",
      "aminoacid      VAL\n",
      "x           -1.523\n",
      "y                0\n",
      "z                0\n",
      "Name: 4, dtype: object\n",
      "RMSD between the reference and molecule 6: 46.456162\n"
     ]
    }
   ],
   "source": [
    "print('Applying transfomation where the first reference alpha carbon is the center of both molecules.')\n",
    "for idx, molecule_to_compare in enumerate(molecules_to_compare):\n",
    "    translation = infer_translation_matrix(molecule_to_compare)\n",
    "    print('RMSD between the reference and molecule %d: %f' % \\\n",
    "          (idx + 1, RMSD(reference, molecules_to_compare[idx], transformation1=translation)))"
   ]
  },
  {
   "cell_type": "code",
   "execution_count": null,
   "metadata": {},
   "outputs": [],
   "source": []
  }
 ],
 "metadata": {
  "kernelspec": {
   "display_name": "Python 3",
   "language": "python",
   "name": "python3"
  },
  "language_info": {
   "codemirror_mode": {
    "name": "ipython",
    "version": 3
   },
   "file_extension": ".py",
   "mimetype": "text/x-python",
   "name": "python",
   "nbconvert_exporter": "python",
   "pygments_lexer": "ipython3",
   "version": "3.6.8"
  }
 },
 "nbformat": 4,
 "nbformat_minor": 2
}

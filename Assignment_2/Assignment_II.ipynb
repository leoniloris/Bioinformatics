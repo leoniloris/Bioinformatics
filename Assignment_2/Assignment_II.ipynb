{
 "cells": [
  {
   "cell_type": "markdown",
   "metadata": {},
   "source": [
    "# Assignment II\n",
    "* Leoni Mota Loris"
   ]
  },
  {
   "cell_type": "markdown",
   "metadata": {},
   "source": [
    "* At first, Load the data."
   ]
  },
  {
   "cell_type": "code",
   "execution_count": 2,
   "metadata": {},
   "outputs": [],
   "source": [
    "import pandas as pd\n",
    "import numpy as np"
   ]
  },
  {
   "cell_type": "code",
   "execution_count": 3,
   "metadata": {},
   "outputs": [],
   "source": [
    "from collections import namedtuple\n",
    "\n",
    "Atom = namedtuple('Atom', ['name', 'element', 'aminoacid', 'x', 'y', 'z', 'residue_seq_number'])\n",
    "\n",
    "Atom.parse_name = lambda string: string[12:16].strip()\n",
    "Atom.parse_element = lambda string: string[12] if len(string.strip()) < 78 \\\n",
    "                     else string[76:78].strip()\n",
    "Atom.parse_aminoacid = lambda string: string[17:20].strip()\n",
    "Atom.parse_x = lambda string: float(string[30:38].strip())\n",
    "Atom.parse_y = lambda string: float(string[38:46].strip())\n",
    "Atom.parse_z = lambda string: float(string[46:54].strip())\n",
    "Atom.parse_residue_seq_number = lambda string: int(string[23:30].strip())\n",
    "\n",
    "Atom.parse = lambda string: Atom(\n",
    "    Atom.parse_name(string), Atom.parse_element(string), Atom.parse_aminoacid(string),\n",
    "    Atom.parse_y(string), Atom.parse_x(string), Atom.parse_z(string), Atom.parse_residue_seq_number(string))"
   ]
  },
  {
   "cell_type": "code",
   "execution_count": 4,
   "metadata": {},
   "outputs": [],
   "source": [
    "def read_molecule(path):\n",
    "    atoms = []\n",
    "    with open(path, 'r') as f:\n",
    "        for line in f:\n",
    "            if line.startswith('ATOM'):\n",
    "                try:\n",
    "                    atoms.append(Atom.parse(line))\n",
    "                except Exception as e:\n",
    "                    print(e)\n",
    "    return pd.DataFrame(atoms)"
   ]
  },
  {
   "cell_type": "code",
   "execution_count": 28,
   "metadata": {},
   "outputs": [
    {
     "data": {
      "text/html": [
       "<div>\n",
       "<style scoped>\n",
       "    .dataframe tbody tr th:only-of-type {\n",
       "        vertical-align: middle;\n",
       "    }\n",
       "\n",
       "    .dataframe tbody tr th {\n",
       "        vertical-align: top;\n",
       "    }\n",
       "\n",
       "    .dataframe thead th {\n",
       "        text-align: right;\n",
       "    }\n",
       "</style>\n",
       "<table border=\"1\" class=\"dataframe\">\n",
       "  <thead>\n",
       "    <tr style=\"text-align: right;\">\n",
       "      <th></th>\n",
       "      <th>name</th>\n",
       "      <th>element</th>\n",
       "      <th>aminoacid</th>\n",
       "      <th>x</th>\n",
       "      <th>y</th>\n",
       "      <th>z</th>\n",
       "      <th>residue_seq_number</th>\n",
       "    </tr>\n",
       "  </thead>\n",
       "  <tbody>\n",
       "    <tr>\n",
       "      <th>0</th>\n",
       "      <td>N</td>\n",
       "      <td>N</td>\n",
       "      <td>THR</td>\n",
       "      <td>14.099</td>\n",
       "      <td>17.047</td>\n",
       "      <td>3.625</td>\n",
       "      <td>1</td>\n",
       "    </tr>\n",
       "    <tr>\n",
       "      <th>1</th>\n",
       "      <td>CA</td>\n",
       "      <td>C</td>\n",
       "      <td>THR</td>\n",
       "      <td>12.784</td>\n",
       "      <td>16.967</td>\n",
       "      <td>4.338</td>\n",
       "      <td>1</td>\n",
       "    </tr>\n",
       "    <tr>\n",
       "      <th>2</th>\n",
       "      <td>C</td>\n",
       "      <td>C</td>\n",
       "      <td>THR</td>\n",
       "      <td>12.755</td>\n",
       "      <td>15.685</td>\n",
       "      <td>5.133</td>\n",
       "      <td>1</td>\n",
       "    </tr>\n",
       "    <tr>\n",
       "      <th>3</th>\n",
       "      <td>O</td>\n",
       "      <td>O</td>\n",
       "      <td>THR</td>\n",
       "      <td>13.825</td>\n",
       "      <td>15.268</td>\n",
       "      <td>5.594</td>\n",
       "      <td>1</td>\n",
       "    </tr>\n",
       "    <tr>\n",
       "      <th>4</th>\n",
       "      <td>CB</td>\n",
       "      <td>C</td>\n",
       "      <td>THR</td>\n",
       "      <td>12.703</td>\n",
       "      <td>18.170</td>\n",
       "      <td>5.337</td>\n",
       "      <td>1</td>\n",
       "    </tr>\n",
       "    <tr>\n",
       "      <th>5</th>\n",
       "      <td>OG1</td>\n",
       "      <td>O</td>\n",
       "      <td>THR</td>\n",
       "      <td>12.829</td>\n",
       "      <td>19.334</td>\n",
       "      <td>4.463</td>\n",
       "      <td>1</td>\n",
       "    </tr>\n",
       "    <tr>\n",
       "      <th>6</th>\n",
       "      <td>CG2</td>\n",
       "      <td>C</td>\n",
       "      <td>THR</td>\n",
       "      <td>11.546</td>\n",
       "      <td>18.150</td>\n",
       "      <td>6.304</td>\n",
       "      <td>1</td>\n",
       "    </tr>\n",
       "    <tr>\n",
       "      <th>7</th>\n",
       "      <td>N</td>\n",
       "      <td>N</td>\n",
       "      <td>THR</td>\n",
       "      <td>11.555</td>\n",
       "      <td>15.115</td>\n",
       "      <td>5.265</td>\n",
       "      <td>2</td>\n",
       "    </tr>\n",
       "    <tr>\n",
       "      <th>8</th>\n",
       "      <td>CA</td>\n",
       "      <td>C</td>\n",
       "      <td>THR</td>\n",
       "      <td>11.469</td>\n",
       "      <td>13.856</td>\n",
       "      <td>6.066</td>\n",
       "      <td>2</td>\n",
       "    </tr>\n",
       "    <tr>\n",
       "      <th>9</th>\n",
       "      <td>C</td>\n",
       "      <td>C</td>\n",
       "      <td>THR</td>\n",
       "      <td>10.785</td>\n",
       "      <td>14.164</td>\n",
       "      <td>7.379</td>\n",
       "      <td>2</td>\n",
       "    </tr>\n",
       "  </tbody>\n",
       "</table>\n",
       "</div>"
      ],
      "text/plain": [
       "  name element aminoacid       x       y      z  residue_seq_number\n",
       "0    N       N       THR  14.099  17.047  3.625                   1\n",
       "1   CA       C       THR  12.784  16.967  4.338                   1\n",
       "2    C       C       THR  12.755  15.685  5.133                   1\n",
       "3    O       O       THR  13.825  15.268  5.594                   1\n",
       "4   CB       C       THR  12.703  18.170  5.337                   1\n",
       "5  OG1       O       THR  12.829  19.334  4.463                   1\n",
       "6  CG2       C       THR  11.546  18.150  6.304                   1\n",
       "7    N       N       THR  11.555  15.115  5.265                   2\n",
       "8   CA       C       THR  11.469  13.856  6.066                   2\n",
       "9    C       C       THR  10.785  14.164  7.379                   2"
      ]
     },
     "execution_count": 28,
     "metadata": {},
     "output_type": "execute_result"
    }
   ],
   "source": [
    "crambin = read_molecule('assets/1crn.pdb')\n",
    "crambin[:10]"
   ]
  },
  {
   "cell_type": "code",
   "execution_count": null,
   "metadata": {},
   "outputs": [],
   "source": [
    "nucleophilic addition elimination \n",
    "\n",
    "resonance delocalization"
   ]
  },
  {
   "cell_type": "markdown",
   "metadata": {},
   "source": [
    "## Question 1"
   ]
  },
  {
   "cell_type": "markdown",
   "metadata": {},
   "source": [
    "### a)"
   ]
  },
  {
   "cell_type": "markdown",
   "metadata": {},
   "source": [
    "* I) First we need to map the sequence of characters as in:\n",
    "**TTCCPSIVARSNFNVCRLPGTPEAICATYTGCIIIPGATTCPGDYAN**\n",
    "to a sequence of amino acids \n",
    "\n",
    "* II) And then, infer the position of each atom of the amino acid from a standard reference ($\\alpha$ carbon) \n",
    "\n",
    "\n",
    "* III) Infer the position of multiple amino acids based on the peptide bond."
   ]
  },
  {
   "cell_type": "markdown",
   "metadata": {},
   "source": [
    "I) map the sequence of characters"
   ]
  },
  {
   "cell_type": "code",
   "execution_count": 29,
   "metadata": {},
   "outputs": [],
   "source": [
    "def map_to_aminoacids(sequence):\n",
    "    aminoacid_mapping = {'T': 'THR', 'C': 'CYS', 'P': 'PRO', 'S': 'SER', 'I': 'ILE',\n",
    "                         'V': 'VAL', 'A': 'ALA', 'R': 'ARG', 'N': 'ASN', 'F': 'PHE',\n",
    "                         'L': 'LEU', 'G': 'GLY', 'E': 'GLU', 'D': 'ASP', 'Y': 'TYR'}\n",
    "    \n",
    "    return list(map(lambda char: aminoacid_mapping[char], sequence))"
   ]
  },
  {
   "cell_type": "code",
   "execution_count": 30,
   "metadata": {},
   "outputs": [],
   "source": [
    "aminoacid_sequence = 'TTCCPSIVARSNFNVCRLPGTPEAICATYTGCIIIPGATTCPGDYAN'"
   ]
  },
  {
   "cell_type": "code",
   "execution_count": 31,
   "metadata": {},
   "outputs": [],
   "source": [
    "aminoacids = map_to_aminoacids(aminoacid_sequence)"
   ]
  },
  {
   "cell_type": "markdown",
   "metadata": {},
   "source": [
    "II) infer the position of each atom of the amino acid. For this part, it is not well defined on how to infer the positions.\n",
    "\n",
    "\n",
    "* We could map this sequence to known sequences of the PDB and hope it is a known protein. This is called \n",
    "**Homology Modelling** (**SWISS-MODEL** is an example).\n",
    "\n",
    "\n",
    "* *Or*, we could predict the protein structure using an any number of softwares such as **I-TASSER (Iterative Threading ASSEmbly Refinement)**\n",
    "\n",
    "\n",
    "We're are going to use both and compare the results."
   ]
  },
  {
   "attachments": {},
   "cell_type": "markdown",
   "metadata": {},
   "source": [
    "I-TASSER:\n",
    "![assets/TASSER.png](assets/TASSER.png)"
   ]
  },
  {
   "cell_type": "markdown",
   "metadata": {},
   "source": [
    "* Thus, given that we already "
   ]
  },
  {
   "cell_type": "code",
   "execution_count": null,
   "metadata": {},
   "outputs": [],
   "source": []
  },
  {
   "cell_type": "code",
   "execution_count": null,
   "metadata": {},
   "outputs": [],
   "source": []
  },
  {
   "cell_type": "code",
   "execution_count": null,
   "metadata": {},
   "outputs": [],
   "source": []
  },
  {
   "cell_type": "code",
   "execution_count": null,
   "metadata": {},
   "outputs": [],
   "source": []
  },
  {
   "cell_type": "code",
   "execution_count": null,
   "metadata": {},
   "outputs": [],
   "source": []
  },
  {
   "cell_type": "code",
   "execution_count": null,
   "metadata": {},
   "outputs": [],
   "source": []
  },
  {
   "cell_type": "code",
   "execution_count": null,
   "metadata": {},
   "outputs": [],
   "source": []
  },
  {
   "cell_type": "code",
   "execution_count": null,
   "metadata": {},
   "outputs": [],
   "source": []
  },
  {
   "cell_type": "code",
   "execution_count": null,
   "metadata": {},
   "outputs": [],
   "source": []
  },
  {
   "cell_type": "code",
   "execution_count": null,
   "metadata": {},
   "outputs": [],
   "source": []
  },
  {
   "cell_type": "code",
   "execution_count": null,
   "metadata": {},
   "outputs": [],
   "source": []
  },
  {
   "cell_type": "code",
   "execution_count": null,
   "metadata": {},
   "outputs": [],
   "source": []
  },
  {
   "cell_type": "code",
   "execution_count": null,
   "metadata": {},
   "outputs": [],
   "source": []
  },
  {
   "cell_type": "code",
   "execution_count": null,
   "metadata": {},
   "outputs": [],
   "source": []
  },
  {
   "cell_type": "code",
   "execution_count": null,
   "metadata": {},
   "outputs": [],
   "source": []
  },
  {
   "cell_type": "code",
   "execution_count": null,
   "metadata": {},
   "outputs": [],
   "source": []
  },
  {
   "cell_type": "code",
   "execution_count": null,
   "metadata": {},
   "outputs": [],
   "source": []
  },
  {
   "cell_type": "code",
   "execution_count": null,
   "metadata": {},
   "outputs": [],
   "source": []
  }
 ],
 "metadata": {
  "kernelspec": {
   "display_name": "Python 3",
   "language": "python",
   "name": "python3"
  },
  "language_info": {
   "codemirror_mode": {
    "name": "ipython",
    "version": 3
   },
   "file_extension": ".py",
   "mimetype": "text/x-python",
   "name": "python",
   "nbconvert_exporter": "python",
   "pygments_lexer": "ipython3",
   "version": "3.6.8"
  }
 },
 "nbformat": 4,
 "nbformat_minor": 2
}

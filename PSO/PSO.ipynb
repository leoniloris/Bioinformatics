{
 "cells": [
  {
   "cell_type": "markdown",
   "metadata": {},
   "source": [
    "# Particle Swarm Optimization\n",
    "\n",
    "Leoni Mota Loris"
   ]
  },
  {
   "attachments": {},
   "cell_type": "markdown",
   "metadata": {},
   "source": [
    "## Swarm inteligence.\n",
    "\n",
    "* Swarm intelligence is a type of artificial intelligence based on the collective behavior of self-organized systems.\n",
    "\n",
    "\n",
    "* In general, such systems are made up of a population of simple agents interacting locally with one another and with the environment.\n",
    "\n",
    "\n",
    "* Individual agents follow simple rules dictating how it should interact with the environment.\n",
    "\n",
    "\n",
    "* Natural examples of swarm intelligence are *bacterial growth*, bird flocking, herds of animals, etc.\n",
    "\n",
    "\n",
    "![assets/pso1.png](assets/pso1.png)"
   ]
  },
  {
   "cell_type": "markdown",
   "metadata": {},
   "source": [
    "## Particle Swarm Optimization\n",
    "\n",
    "\n",
    "* Models the problem to be optimized as an *n-dimensional* surface where one wants to find its global minimum.\n",
    "\n",
    "\n",
    "* Each particle represents a possible solution (minimum) to the problem.\n",
    "\n",
    "\n",
    "* The entire set of particles searches for an optimal solution by upgrading its generations. \n",
    "\n",
    "\n",
    "* But **it does not resample** its particles, unlike other population-based algorithms.\n",
    "\n",
    "![](assets/pso2.png)"
   ]
  },
  {
   "cell_type": "markdown",
   "metadata": {},
   "source": [
    "## Direct Applications\n",
    "\n",
    "* Adaptive Antenna Arrays.\n",
    "\n",
    "\n",
    "* Molecular Docking."
   ]
  },
  {
   "cell_type": "markdown",
   "metadata": {},
   "source": [
    "### Adaptive Antenna Arrays.\n",
    "![](assets/array.png)\n",
    "\n",
    "* Each antenna applies a gain and a phase-shift \n",
    "\n",
    "\n",
    "* Thus it is possible to place `Lobes` and `nulls` on the irradication pattern.\n",
    "\n",
    "\n",
    "* In an adaptive array, the antennas need to be able to determine the optimal parameters in real time when a signal is detected.\n"
   ]
  },
  {
   "cell_type": "code",
   "execution_count": null,
   "metadata": {},
   "outputs": [],
   "source": []
  }
 ],
 "metadata": {
  "kernelspec": {
   "display_name": "Python 3",
   "language": "python",
   "name": "python3"
  },
  "language_info": {
   "codemirror_mode": {
    "name": "ipython",
    "version": 3
   },
   "file_extension": ".py",
   "mimetype": "text/x-python",
   "name": "python",
   "nbconvert_exporter": "python",
   "pygments_lexer": "ipython3",
   "version": "3.6.8"
  }
 },
 "nbformat": 4,
 "nbformat_minor": 2
}

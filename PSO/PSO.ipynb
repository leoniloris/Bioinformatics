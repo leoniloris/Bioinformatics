{
 "cells": [
  {
   "cell_type": "markdown",
   "metadata": {},
   "source": [
    "# Particle Swarm Optimization\n",
    "\n",
    "Leoni Mota Loris. \n",
    "\n",
    "\n",
    "CMP585"
   ]
  },
  {
   "cell_type": "markdown",
   "metadata": {},
   "source": [
    "## Swarm inteligence.\n",
    "\n",
    "* Swarm intelligence is a type of artificial intelligence based on the collective behavior of self-organized systems.\n",
    "\n",
    "\n",
    "* In general, such systems are made up of a population of simple agents interacting locally with one another and with the environment.\n",
    "\n",
    "\n",
    "* Individual agents follow simple rules dictating how it should interact with the environment.\n",
    "\n",
    "\n",
    "* Natural examples of swarm intelligence are *bacterial growth*, bird flocking, herds of animals, etc.\n",
    "\n",
    "\n",
    "![assets/pso1.png](assets/pso1.png)"
   ]
  },
  {
   "cell_type": "markdown",
   "metadata": {},
   "source": [
    "## Particle Swarm Optimization\n",
    "\n",
    "\n",
    "* Models the problem to be optimized as an *n-dimensional* surface where one wants to find its global minimum.\n",
    "\n",
    "\n",
    "* Each particle represents a possible solution (minimum) to the problem.\n",
    "\n",
    "\n",
    "* The entire set of particles searches for an optimal solution by upgrading its generations. \n",
    "\n",
    "\n",
    "* But **it does not resample** its particles, unlike other population-based algorithms.\n",
    "\n",
    "![](assets/pso2.png)"
   ]
  },
  {
   "cell_type": "markdown",
   "metadata": {},
   "source": [
    "## Direct Applications\n",
    "\n",
    "* Adaptive Antenna Arrays.\n",
    "\n",
    "\n",
    "* Molecular Docking."
   ]
  },
  {
   "cell_type": "markdown",
   "metadata": {},
   "source": [
    "### Adaptive Antenna Arrays.\n",
    "![](assets/array.png)\n",
    "\n",
    "* Each antenna applies a gain and a phase-shift \n",
    "\n",
    "\n",
    "* Thus it is possible to place `Lobes` and `nulls` on the irradiation pattern.\n",
    "\n",
    "\n",
    "* In an adaptive array, the antennas need to be able to determine the optimal parameters in real time when a signal is detected.\n",
    "\n",
    "\n",
    "* Thus, position, phase and amplitude of each antenna will be parameters to be optimized.\n",
    "\n",
    "\n",
    "\n",
    "<sup>\n",
    "Yong-Chang Jiao, et al, \"Synthesis of antenna array using particle swarm optimization\", APMC2010\n",
    "</sup>"
   ]
  },
  {
   "cell_type": "markdown",
   "metadata": {},
   "source": [
    "## Molecular Docking.\n",
    "* Given a geometric and chemical description of a protein and an arbitrary small organic molecule. We want to know if it will bind, and how strong will be this binding.\n",
    "\n",
    "\n",
    "* Example:\n",
    "*Benzamidine* which is a *Trypsin* inhibitor, docks into the active site of *Trypsin* (trypsin catalyzes the hydrolysis of peptide bonds, so it will eventually be absorbed down to the bloodstream), a protease involved in\n",
    "digestion \n",
    "\n",
    "![](assets/dock.png)\n",
    "\n",
    "* The PSO is used to optimize the following parameters:\n",
    "    * Translation: Ligand center with respect to the grid that encloses the binding site. (x, y, z).\n",
    "    * Orientation: $[n_x, n_y, n_z]$ and $\\alpha$ representing the normal vector and its rotation.\n",
    "    * Torsions: Torsion angle for each if $T$ its rotating bonds.\n",
    "    \n",
    "    \n",
    "* The PSO will try to find $7 + N$ parameters that minimizes the function:\n",
    "$$E_{tot} = E_{vdW} + E_{H bonds} + E_{elec pot} + E_{intern}$$\n",
    "\n",
    "<sup> Liu BF, Chen HM, Huang HL, Hwang SF and Ho SY (2005) Flexible protein-ligand docking using particle swarm optimization, in Proc. of Congress on Evolutionary Computation (CEC 2005), IEEE Press, Washinton DC.</sup>"
   ]
  },
  {
   "cell_type": "markdown",
   "metadata": {},
   "source": [
    "## PSO Details\n",
    "\n",
    "* Each particle needs to know two values (besides its own velocity and position)\n",
    "    * Global best position: The fittest position (optimizer parameter) yielded by the swarm.\n",
    "    * Personal best position: The fittest position (optimizer parameter) yielded by the particle itself, so far.\n",
    "   \n",
    "   \n",
    "```python\n",
    "class Particle:\n",
    "    def __init__(self, inital_position):\n",
    "        self._min_error = np.Inf\n",
    "        self._n_dimensions = len(inital_position)\n",
    "        self._error = np.Inf\n",
    "        self._position = inital_position.copy()\n",
    "        self._velocity = np.random.uniform(-1.0, 1.0, size=len(inital_position))\n",
    "        self._best_position = np.zeros_like(self._position)\n",
    "\n",
    "\n",
    "    def update_velocity(self, global_best_position):\n",
    "        ...\n",
    "```"
   ]
  },
  {
   "cell_type": "markdown",
   "metadata": {},
   "source": [
    "* At each step, a new speed must be calculated.\n",
    "    * The speed tells the particle which direction it should look for a fitter solution\n",
    "\n",
    "\n",
    "* Each particle must consider three points whenever it will compute a new speed\n",
    "    * It should not vary its own speed too much, since it was heading towards a good solution (**momentum**).\n",
    "    * It should try to go towards its own fittest position, so far, for it may be the globally fittest (**cognitive**).\n",
    "    * It should try to go towards the fittest solution found by the entire swarm (**social**).\n",
    "    \n",
    "\n",
    "* Thus, the equation for computing a new speed at each timestep is:\n",
    "$$\n",
    "V_{t+1} = momentum * V_{t} + \\\\r_1 * cognitive * (X_{particle best} - X_{particle}) + \\\\r_2 * social * (X_{swarm best} - X_{particle})\n",
    "$$\n",
    "\n",
    "```python\n",
    "    def update_velocity(self, global_best_position):\n",
    "        inertia = 0.9\n",
    "        cognitive_constant = 2\n",
    "        social_constant = 1\n",
    "\n",
    "        r1 = 0.5 * (np.random.uniform(size=self._n_dimensions) + 1)\n",
    "        r2 = 0.5 * (np.random.uniform(size=self._n_dimensions) + 1)\n",
    "\n",
    "        cognitive_velocity = cognitive_constant * r1 * (self._best_position - self._position)\n",
    "        social_velocity = social_constant * r2 * (global_best_position - self._position)\n",
    "        self._velocity = inertia * self._velocity + cognitive_velocity + social_velocity\n",
    "```"
   ]
  },
  {
   "cell_type": "markdown",
   "metadata": {},
   "source": [
    "* Thus, each particle will update its position and evaluate how fit it was:\n",
    "    * It will compute the new position as follows:\n",
    "    $$ \\frac{X_{t+1} - X_{t}}{t+1 -t} = V_t $$\n",
    "    \n",
    "```python\n",
    "    def update_fitness(self, cost_func):\n",
    "        self._error = cost_func(self._position)\n",
    "        if self._error < self._min_error:\n",
    "            self._best_position, self._min_error = self._position, self._error\n",
    "        return self._error\n",
    "\n",
    "    def update_position(self, min_position=-100, max_position=100):\n",
    "        self._position = self._position + self._velocity\n",
    "```"
   ]
  },
  {
   "cell_type": "markdown",
   "metadata": {},
   "source": [
    "## Code example, PSO variations and discussions:\n",
    "\n",
    "* Why using a constant coefficients?\n",
    "    * One particle could reason following the logics:\n",
    "        * *The better I am the more I follow my own way*\n",
    "        * *The better is my best neighbour the more I tend to go towards him*\n",
    "        \n",
    "\n",
    "* Why using a constant population?\n",
    "    * One particle could also reason following the logics:\n",
    "        * *The system improved as a whole, but I'm the worst. Gonna kill myself!*\n",
    "        * *I'm the best particle, but I'm not improving that much, comparing to the swarm. Generate more particles then!*\n"
   ]
  },
  {
   "cell_type": "code",
   "execution_count": null,
   "metadata": {},
   "outputs": [],
   "source": []
  },
  {
   "cell_type": "markdown",
   "metadata": {},
   "source": [
    "done!"
   ]
  }
 ],
 "metadata": {
  "kernelspec": {
   "display_name": "Python 3",
   "language": "python",
   "name": "python3"
  },
  "language_info": {
   "codemirror_mode": {
    "name": "ipython",
    "version": 3
   },
   "file_extension": ".py",
   "mimetype": "text/x-python",
   "name": "python",
   "nbconvert_exporter": "python",
   "pygments_lexer": "ipython3",
   "version": "3.6.8"
  }
 },
 "nbformat": 4,
 "nbformat_minor": 2
}

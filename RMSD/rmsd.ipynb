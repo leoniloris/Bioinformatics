{
 "cells": [
  {
   "cell_type": "code",
   "execution_count": 1,
   "metadata": {},
   "outputs": [],
   "source": [
    "from collections import namedtuple\n",
    "from os import listdir\n",
    "\n",
    "import matplotlib.pyplot as plt\n",
    "import ipywidgets as widgets\n",
    "import pandas as pd\n",
    "import numpy as np\n",
    "import sys\n",
    "\n",
    "\n",
    "%load_ext autoreload\n",
    "%autoreload 2\n",
    "\n",
    "sys.path.append('../PSO/pso/src/pso/')"
   ]
  },
  {
   "cell_type": "markdown",
   "metadata": {},
   "source": [
    "# Atom structure"
   ]
  },
  {
   "cell_type": "code",
   "execution_count": 2,
   "metadata": {},
   "outputs": [],
   "source": [
    "Atom = namedtuple('Atom', ['name', 'element', 'aminoacid', 'x', 'y', 'z', 'residue_seq_number'])\n",
    "\n",
    "Atom.parse_name = lambda string: string[12:16].strip()\n",
    "Atom.parse_element = lambda string: string[12] if len(string.strip()) < 78 \\\n",
    "                     else string[76:78].strip()\n",
    "Atom.parse_aminoacid = lambda string: string[17:20].strip()\n",
    "Atom.parse_x = lambda string: float(string[30:38].strip())\n",
    "Atom.parse_y = lambda string: float(string[38:46].strip())\n",
    "Atom.parse_z = lambda string: float(string[46:54].strip())\n",
    "Atom.parse_residue_seq_number = lambda string: int(string[23:30].strip())\n",
    "\n",
    "Atom.parse = lambda string: Atom(\n",
    "    Atom.parse_name(string), Atom.parse_element(string), Atom.parse_aminoacid(string),\n",
    "    Atom.parse_y(string), Atom.parse_x(string), Atom.parse_z(string), Atom.parse_residue_seq_number(string))"
   ]
  },
  {
   "cell_type": "markdown",
   "metadata": {},
   "source": [
    "## Select the molecule to compare"
   ]
  },
  {
   "cell_type": "code",
   "execution_count": 3,
   "metadata": {},
   "outputs": [
    {
     "name": "stdout",
     "output_type": "stream",
     "text": [
      "['1ACW-04.pdb', '1ACW-02.pdb', '1ACW-06.pdb', '1ACW-03.pdb', '1ACW-05.pdb', '1ACW-01.pdb']\n"
     ]
    }
   ],
   "source": [
    "path_molecules_to_compare = [f for f in listdir() \n",
    "                             if 'reference' not in f and f.endswith('.pdb')]\n",
    "print(path_molecules_to_compare)"
   ]
  },
  {
   "cell_type": "markdown",
   "metadata": {},
   "source": [
    "## Read data from pdb file"
   ]
  },
  {
   "cell_type": "code",
   "execution_count": 4,
   "metadata": {},
   "outputs": [],
   "source": [
    "def read_molecule(path):\n",
    "    atoms = []\n",
    "    with open(path, 'r') as f:\n",
    "        for line in f:\n",
    "            if line.startswith('ATOM'):\n",
    "                try:\n",
    "                    atoms.append(Atom.parse(line))\n",
    "                except Exception as e:\n",
    "                    print(e)\n",
    "    return atoms"
   ]
  },
  {
   "cell_type": "code",
   "execution_count": 5,
   "metadata": {},
   "outputs": [],
   "source": [
    "reference = pd.DataFrame(read_molecule('reference.pdb'))\n",
    "molecules_to_compare = [pd.DataFrame(read_molecule(m)) \\\n",
    "                        for m in path_molecules_to_compare]"
   ]
  },
  {
   "cell_type": "code",
   "execution_count": 6,
   "metadata": {},
   "outputs": [
    {
     "data": {
      "text/html": [
       "<div>\n",
       "<style scoped>\n",
       "    .dataframe tbody tr th:only-of-type {\n",
       "        vertical-align: middle;\n",
       "    }\n",
       "\n",
       "    .dataframe tbody tr th {\n",
       "        vertical-align: top;\n",
       "    }\n",
       "\n",
       "    .dataframe thead th {\n",
       "        text-align: right;\n",
       "    }\n",
       "</style>\n",
       "<table border=\"1\" class=\"dataframe\">\n",
       "  <thead>\n",
       "    <tr style=\"text-align: right;\">\n",
       "      <th></th>\n",
       "      <th>name</th>\n",
       "      <th>element</th>\n",
       "      <th>aminoacid</th>\n",
       "      <th>x</th>\n",
       "      <th>y</th>\n",
       "      <th>z</th>\n",
       "      <th>residue_seq_number</th>\n",
       "    </tr>\n",
       "  </thead>\n",
       "  <tbody>\n",
       "    <tr>\n",
       "      <th>0</th>\n",
       "      <td>N</td>\n",
       "      <td>N</td>\n",
       "      <td>VAL</td>\n",
       "      <td>-2.044</td>\n",
       "      <td>-1.352</td>\n",
       "      <td>0.000</td>\n",
       "      <td>1</td>\n",
       "    </tr>\n",
       "    <tr>\n",
       "      <th>1</th>\n",
       "      <td>H1</td>\n",
       "      <td>H</td>\n",
       "      <td>VAL</td>\n",
       "      <td>-1.261</td>\n",
       "      <td>-1.990</td>\n",
       "      <td>0.000</td>\n",
       "      <td>1</td>\n",
       "    </tr>\n",
       "    <tr>\n",
       "      <th>2</th>\n",
       "      <td>H2</td>\n",
       "      <td>H</td>\n",
       "      <td>VAL</td>\n",
       "      <td>-2.540</td>\n",
       "      <td>-1.446</td>\n",
       "      <td>0.875</td>\n",
       "      <td>1</td>\n",
       "    </tr>\n",
       "    <tr>\n",
       "      <th>3</th>\n",
       "      <td>H3</td>\n",
       "      <td>H</td>\n",
       "      <td>VAL</td>\n",
       "      <td>-2.540</td>\n",
       "      <td>-1.446</td>\n",
       "      <td>-0.875</td>\n",
       "      <td>1</td>\n",
       "    </tr>\n",
       "    <tr>\n",
       "      <th>4</th>\n",
       "      <td>CA</td>\n",
       "      <td>C</td>\n",
       "      <td>VAL</td>\n",
       "      <td>-1.523</td>\n",
       "      <td>0.000</td>\n",
       "      <td>0.000</td>\n",
       "      <td>1</td>\n",
       "    </tr>\n",
       "    <tr>\n",
       "      <th>5</th>\n",
       "      <td>HA</td>\n",
       "      <td>H</td>\n",
       "      <td>VAL</td>\n",
       "      <td>-1.871</td>\n",
       "      <td>0.524</td>\n",
       "      <td>0.890</td>\n",
       "      <td>1</td>\n",
       "    </tr>\n",
       "    <tr>\n",
       "      <th>6</th>\n",
       "      <td>CB</td>\n",
       "      <td>C</td>\n",
       "      <td>VAL</td>\n",
       "      <td>-1.989</td>\n",
       "      <td>0.768</td>\n",
       "      <td>-1.232</td>\n",
       "      <td>1</td>\n",
       "    </tr>\n",
       "    <tr>\n",
       "      <th>7</th>\n",
       "      <td>HB</td>\n",
       "      <td>H</td>\n",
       "      <td>VAL</td>\n",
       "      <td>-3.078</td>\n",
       "      <td>0.814</td>\n",
       "      <td>-1.241</td>\n",
       "      <td>1</td>\n",
       "    </tr>\n",
       "    <tr>\n",
       "      <th>8</th>\n",
       "      <td>CG1</td>\n",
       "      <td>C</td>\n",
       "      <td>VAL</td>\n",
       "      <td>-1.500</td>\n",
       "      <td>0.056</td>\n",
       "      <td>-2.490</td>\n",
       "      <td>1</td>\n",
       "    </tr>\n",
       "    <tr>\n",
       "      <th>9</th>\n",
       "      <td>HG11</td>\n",
       "      <td>H</td>\n",
       "      <td>VAL</td>\n",
       "      <td>-0.411</td>\n",
       "      <td>0.010</td>\n",
       "      <td>-2.481</td>\n",
       "      <td>1</td>\n",
       "    </tr>\n",
       "    <tr>\n",
       "      <th>10</th>\n",
       "      <td>HG12</td>\n",
       "      <td>H</td>\n",
       "      <td>VAL</td>\n",
       "      <td>-1.833</td>\n",
       "      <td>0.606</td>\n",
       "      <td>-3.371</td>\n",
       "      <td>1</td>\n",
       "    </tr>\n",
       "    <tr>\n",
       "      <th>11</th>\n",
       "      <td>HG13</td>\n",
       "      <td>H</td>\n",
       "      <td>VAL</td>\n",
       "      <td>-1.906</td>\n",
       "      <td>-0.955</td>\n",
       "      <td>-2.517</td>\n",
       "      <td>1</td>\n",
       "    </tr>\n",
       "    <tr>\n",
       "      <th>12</th>\n",
       "      <td>CG2</td>\n",
       "      <td>C</td>\n",
       "      <td>VAL</td>\n",
       "      <td>-1.420</td>\n",
       "      <td>2.183</td>\n",
       "      <td>-1.195</td>\n",
       "      <td>1</td>\n",
       "    </tr>\n",
       "    <tr>\n",
       "      <th>13</th>\n",
       "      <td>HG21</td>\n",
       "      <td>H</td>\n",
       "      <td>VAL</td>\n",
       "      <td>-1.769</td>\n",
       "      <td>2.691</td>\n",
       "      <td>-0.296</td>\n",
       "      <td>1</td>\n",
       "    </tr>\n",
       "    <tr>\n",
       "      <th>14</th>\n",
       "      <td>HG22</td>\n",
       "      <td>H</td>\n",
       "      <td>VAL</td>\n",
       "      <td>-1.753</td>\n",
       "      <td>2.732</td>\n",
       "      <td>-2.075</td>\n",
       "      <td>1</td>\n",
       "    </tr>\n",
       "    <tr>\n",
       "      <th>15</th>\n",
       "      <td>HG23</td>\n",
       "      <td>H</td>\n",
       "      <td>VAL</td>\n",
       "      <td>-0.331</td>\n",
       "      <td>2.137</td>\n",
       "      <td>-1.186</td>\n",
       "      <td>1</td>\n",
       "    </tr>\n",
       "    <tr>\n",
       "      <th>16</th>\n",
       "      <td>C</td>\n",
       "      <td>C</td>\n",
       "      <td>VAL</td>\n",
       "      <td>0.000</td>\n",
       "      <td>0.000</td>\n",
       "      <td>0.000</td>\n",
       "      <td>1</td>\n",
       "    </tr>\n",
       "    <tr>\n",
       "      <th>17</th>\n",
       "      <td>O</td>\n",
       "      <td>O</td>\n",
       "      <td>VAL</td>\n",
       "      <td>0.624</td>\n",
       "      <td>-0.678</td>\n",
       "      <td>-0.814</td>\n",
       "      <td>1</td>\n",
       "    </tr>\n",
       "    <tr>\n",
       "      <th>18</th>\n",
       "      <td>N</td>\n",
       "      <td>N</td>\n",
       "      <td>SER</td>\n",
       "      <td>0.577</td>\n",
       "      <td>0.770</td>\n",
       "      <td>0.925</td>\n",
       "      <td>2</td>\n",
       "    </tr>\n",
       "    <tr>\n",
       "      <th>19</th>\n",
       "      <td>H</td>\n",
       "      <td>H</td>\n",
       "      <td>SER</td>\n",
       "      <td>0.003</td>\n",
       "      <td>1.302</td>\n",
       "      <td>1.564</td>\n",
       "      <td>2</td>\n",
       "    </tr>\n",
       "  </tbody>\n",
       "</table>\n",
       "</div>"
      ],
      "text/plain": [
       "    name element aminoacid      x      y      z  residue_seq_number\n",
       "0      N       N       VAL -2.044 -1.352  0.000                   1\n",
       "1     H1       H       VAL -1.261 -1.990  0.000                   1\n",
       "2     H2       H       VAL -2.540 -1.446  0.875                   1\n",
       "3     H3       H       VAL -2.540 -1.446 -0.875                   1\n",
       "4     CA       C       VAL -1.523  0.000  0.000                   1\n",
       "5     HA       H       VAL -1.871  0.524  0.890                   1\n",
       "6     CB       C       VAL -1.989  0.768 -1.232                   1\n",
       "7     HB       H       VAL -3.078  0.814 -1.241                   1\n",
       "8    CG1       C       VAL -1.500  0.056 -2.490                   1\n",
       "9   HG11       H       VAL -0.411  0.010 -2.481                   1\n",
       "10  HG12       H       VAL -1.833  0.606 -3.371                   1\n",
       "11  HG13       H       VAL -1.906 -0.955 -2.517                   1\n",
       "12   CG2       C       VAL -1.420  2.183 -1.195                   1\n",
       "13  HG21       H       VAL -1.769  2.691 -0.296                   1\n",
       "14  HG22       H       VAL -1.753  2.732 -2.075                   1\n",
       "15  HG23       H       VAL -0.331  2.137 -1.186                   1\n",
       "16     C       C       VAL  0.000  0.000  0.000                   1\n",
       "17     O       O       VAL  0.624 -0.678 -0.814                   1\n",
       "18     N       N       SER  0.577  0.770  0.925                   2\n",
       "19     H       H       SER  0.003  1.302  1.564                   2"
      ]
     },
     "execution_count": 6,
     "metadata": {},
     "output_type": "execute_result"
    }
   ],
   "source": [
    "molecules_to_compare[0][:20]"
   ]
  },
  {
   "cell_type": "code",
   "execution_count": 7,
   "metadata": {},
   "outputs": [
    {
     "data": {
      "text/html": [
       "<div>\n",
       "<style scoped>\n",
       "    .dataframe tbody tr th:only-of-type {\n",
       "        vertical-align: middle;\n",
       "    }\n",
       "\n",
       "    .dataframe tbody tr th {\n",
       "        vertical-align: top;\n",
       "    }\n",
       "\n",
       "    .dataframe thead th {\n",
       "        text-align: right;\n",
       "    }\n",
       "</style>\n",
       "<table border=\"1\" class=\"dataframe\">\n",
       "  <thead>\n",
       "    <tr style=\"text-align: right;\">\n",
       "      <th></th>\n",
       "      <th>name</th>\n",
       "      <th>element</th>\n",
       "      <th>aminoacid</th>\n",
       "      <th>x</th>\n",
       "      <th>y</th>\n",
       "      <th>z</th>\n",
       "      <th>residue_seq_number</th>\n",
       "    </tr>\n",
       "  </thead>\n",
       "  <tbody>\n",
       "    <tr>\n",
       "      <th>0</th>\n",
       "      <td>N</td>\n",
       "      <td>N</td>\n",
       "      <td>VAL</td>\n",
       "      <td>0.298</td>\n",
       "      <td>0.965</td>\n",
       "      <td>-0.467</td>\n",
       "      <td>1</td>\n",
       "    </tr>\n",
       "    <tr>\n",
       "      <th>1</th>\n",
       "      <td>CA</td>\n",
       "      <td>C</td>\n",
       "      <td>VAL</td>\n",
       "      <td>0.250</td>\n",
       "      <td>1.811</td>\n",
       "      <td>-1.701</td>\n",
       "      <td>1</td>\n",
       "    </tr>\n",
       "    <tr>\n",
       "      <th>2</th>\n",
       "      <td>C</td>\n",
       "      <td>C</td>\n",
       "      <td>VAL</td>\n",
       "      <td>0.400</td>\n",
       "      <td>3.290</td>\n",
       "      <td>-1.320</td>\n",
       "      <td>1</td>\n",
       "    </tr>\n",
       "    <tr>\n",
       "      <th>3</th>\n",
       "      <td>O</td>\n",
       "      <td>O</td>\n",
       "      <td>VAL</td>\n",
       "      <td>1.053</td>\n",
       "      <td>3.628</td>\n",
       "      <td>-0.346</td>\n",
       "      <td>1</td>\n",
       "    </tr>\n",
       "    <tr>\n",
       "      <th>4</th>\n",
       "      <td>CB</td>\n",
       "      <td>C</td>\n",
       "      <td>VAL</td>\n",
       "      <td>1.384</td>\n",
       "      <td>1.417</td>\n",
       "      <td>-2.664</td>\n",
       "      <td>1</td>\n",
       "    </tr>\n",
       "    <tr>\n",
       "      <th>5</th>\n",
       "      <td>CG1</td>\n",
       "      <td>C</td>\n",
       "      <td>VAL</td>\n",
       "      <td>1.262</td>\n",
       "      <td>-0.064</td>\n",
       "      <td>-3.035</td>\n",
       "      <td>1</td>\n",
       "    </tr>\n",
       "    <tr>\n",
       "      <th>6</th>\n",
       "      <td>CG2</td>\n",
       "      <td>C</td>\n",
       "      <td>VAL</td>\n",
       "      <td>2.744</td>\n",
       "      <td>1.666</td>\n",
       "      <td>-2.002</td>\n",
       "      <td>1</td>\n",
       "    </tr>\n",
       "    <tr>\n",
       "      <th>7</th>\n",
       "      <td>H1</td>\n",
       "      <td>H</td>\n",
       "      <td>VAL</td>\n",
       "      <td>1.180</td>\n",
       "      <td>1.151</td>\n",
       "      <td>0.051</td>\n",
       "      <td>1</td>\n",
       "    </tr>\n",
       "    <tr>\n",
       "      <th>8</th>\n",
       "      <td>H2</td>\n",
       "      <td>H</td>\n",
       "      <td>VAL</td>\n",
       "      <td>0.255</td>\n",
       "      <td>-0.040</td>\n",
       "      <td>-0.731</td>\n",
       "      <td>1</td>\n",
       "    </tr>\n",
       "    <tr>\n",
       "      <th>9</th>\n",
       "      <td>H3</td>\n",
       "      <td>H</td>\n",
       "      <td>VAL</td>\n",
       "      <td>-0.512</td>\n",
       "      <td>1.196</td>\n",
       "      <td>0.142</td>\n",
       "      <td>1</td>\n",
       "    </tr>\n",
       "    <tr>\n",
       "      <th>10</th>\n",
       "      <td>HA</td>\n",
       "      <td>H</td>\n",
       "      <td>VAL</td>\n",
       "      <td>-0.701</td>\n",
       "      <td>1.667</td>\n",
       "      <td>-2.192</td>\n",
       "      <td>1</td>\n",
       "    </tr>\n",
       "    <tr>\n",
       "      <th>11</th>\n",
       "      <td>HB</td>\n",
       "      <td>H</td>\n",
       "      <td>VAL</td>\n",
       "      <td>1.309</td>\n",
       "      <td>2.014</td>\n",
       "      <td>-3.562</td>\n",
       "      <td>1</td>\n",
       "    </tr>\n",
       "    <tr>\n",
       "      <th>12</th>\n",
       "      <td>HG11</td>\n",
       "      <td>H</td>\n",
       "      <td>VAL</td>\n",
       "      <td>0.237</td>\n",
       "      <td>-0.289</td>\n",
       "      <td>-3.288</td>\n",
       "      <td>1</td>\n",
       "    </tr>\n",
       "    <tr>\n",
       "      <th>13</th>\n",
       "      <td>HG12</td>\n",
       "      <td>H</td>\n",
       "      <td>VAL</td>\n",
       "      <td>1.568</td>\n",
       "      <td>-0.672</td>\n",
       "      <td>-2.197</td>\n",
       "      <td>1</td>\n",
       "    </tr>\n",
       "    <tr>\n",
       "      <th>14</th>\n",
       "      <td>HG13</td>\n",
       "      <td>H</td>\n",
       "      <td>VAL</td>\n",
       "      <td>1.897</td>\n",
       "      <td>-0.276</td>\n",
       "      <td>-3.883</td>\n",
       "      <td>1</td>\n",
       "    </tr>\n",
       "    <tr>\n",
       "      <th>15</th>\n",
       "      <td>HG21</td>\n",
       "      <td>H</td>\n",
       "      <td>VAL</td>\n",
       "      <td>2.763</td>\n",
       "      <td>1.200</td>\n",
       "      <td>-1.028</td>\n",
       "      <td>1</td>\n",
       "    </tr>\n",
       "    <tr>\n",
       "      <th>16</th>\n",
       "      <td>HG22</td>\n",
       "      <td>H</td>\n",
       "      <td>VAL</td>\n",
       "      <td>2.904</td>\n",
       "      <td>2.729</td>\n",
       "      <td>-1.896</td>\n",
       "      <td>1</td>\n",
       "    </tr>\n",
       "    <tr>\n",
       "      <th>17</th>\n",
       "      <td>HG23</td>\n",
       "      <td>H</td>\n",
       "      <td>VAL</td>\n",
       "      <td>3.526</td>\n",
       "      <td>1.245</td>\n",
       "      <td>-2.616</td>\n",
       "      <td>1</td>\n",
       "    </tr>\n",
       "    <tr>\n",
       "      <th>18</th>\n",
       "      <td>N</td>\n",
       "      <td>N</td>\n",
       "      <td>SER</td>\n",
       "      <td>-0.196</td>\n",
       "      <td>4.174</td>\n",
       "      <td>-2.087</td>\n",
       "      <td>2</td>\n",
       "    </tr>\n",
       "    <tr>\n",
       "      <th>19</th>\n",
       "      <td>CA</td>\n",
       "      <td>C</td>\n",
       "      <td>SER</td>\n",
       "      <td>-0.090</td>\n",
       "      <td>5.632</td>\n",
       "      <td>-1.783</td>\n",
       "      <td>2</td>\n",
       "    </tr>\n",
       "  </tbody>\n",
       "</table>\n",
       "</div>"
      ],
      "text/plain": [
       "    name element aminoacid      x      y      z  residue_seq_number\n",
       "0      N       N       VAL  0.298  0.965 -0.467                   1\n",
       "1     CA       C       VAL  0.250  1.811 -1.701                   1\n",
       "2      C       C       VAL  0.400  3.290 -1.320                   1\n",
       "3      O       O       VAL  1.053  3.628 -0.346                   1\n",
       "4     CB       C       VAL  1.384  1.417 -2.664                   1\n",
       "5    CG1       C       VAL  1.262 -0.064 -3.035                   1\n",
       "6    CG2       C       VAL  2.744  1.666 -2.002                   1\n",
       "7     H1       H       VAL  1.180  1.151  0.051                   1\n",
       "8     H2       H       VAL  0.255 -0.040 -0.731                   1\n",
       "9     H3       H       VAL -0.512  1.196  0.142                   1\n",
       "10    HA       H       VAL -0.701  1.667 -2.192                   1\n",
       "11    HB       H       VAL  1.309  2.014 -3.562                   1\n",
       "12  HG11       H       VAL  0.237 -0.289 -3.288                   1\n",
       "13  HG12       H       VAL  1.568 -0.672 -2.197                   1\n",
       "14  HG13       H       VAL  1.897 -0.276 -3.883                   1\n",
       "15  HG21       H       VAL  2.763  1.200 -1.028                   1\n",
       "16  HG22       H       VAL  2.904  2.729 -1.896                   1\n",
       "17  HG23       H       VAL  3.526  1.245 -2.616                   1\n",
       "18     N       N       SER -0.196  4.174 -2.087                   2\n",
       "19    CA       C       SER -0.090  5.632 -1.783                   2"
      ]
     },
     "execution_count": 7,
     "metadata": {},
     "output_type": "execute_result"
    }
   ],
   "source": [
    "reference[:20]"
   ]
  },
  {
   "cell_type": "markdown",
   "metadata": {},
   "source": [
    "# RMSD calculation"
   ]
  },
  {
   "cell_type": "markdown",
   "metadata": {},
   "source": [
    "* We can notice that the reference structure has a greater number of alpha carbons and amino acids residues.\n",
    "\n",
    "\n",
    "* One approach to tackle this problem would be to `trim` the reference molecule so it will have the same amount of alpha carbons than the molecule to compare.\n",
    "\n",
    "\n",
    "a) At first, we'll compute the RMSD using the beginning of the molecule reference. \n",
    "\n",
    "\n",
    "\n",
    "b) After, the same study will be made with the possibility of translations in the molecule to be compared. "
   ]
  },
  {
   "cell_type": "code",
   "execution_count": 8,
   "metadata": {},
   "outputs": [],
   "source": [
    "def apply_transformations(transformation, df):\n",
    "    homogeneous_coordinates = df[['x', 'y', 'z']].copy()\n",
    "    homogeneous_coordinates['_'] = 1.0\n",
    "    return transformation.dot(homogeneous_coordinates.values.T).T[:, :-1]"
   ]
  },
  {
   "cell_type": "code",
   "execution_count": 9,
   "metadata": {},
   "outputs": [],
   "source": [
    "def RMSD(molecule1, molecule2, functions=['CA'], \n",
    "         transformation1=np.eye(4), transformation2=np.eye(4)):\n",
    "    \n",
    "    molecule1 = molecule1[molecule1.name.isin(functions)].copy()\n",
    "    molecule1 = apply_transformations(transformation1, molecule1)\n",
    "    molecule2 = molecule2[molecule2.name.isin(functions)].copy()\n",
    "    molecule2  = apply_transformations(transformation2, molecule2)\n",
    "    \n",
    "    smaller_size = min(len(molecule1), len(molecule2))\n",
    "    squared_differences = (molecule1[:smaller_size] - \\\n",
    "                           molecule2[:smaller_size]) ** 2\n",
    "\n",
    "    squared_distance = squared_differences.sum(axis=1)\n",
    "    average_squared_distance = squared_distance.mean()\n",
    "    average_distance = np.sqrt(average_squared_distance)\n",
    "    return average_distance"
   ]
  },
  {
   "cell_type": "markdown",
   "metadata": {},
   "source": [
    "## No Translation"
   ]
  },
  {
   "cell_type": "code",
   "execution_count": 10,
   "metadata": {
    "scrolled": false
   },
   "outputs": [
    {
     "name": "stdout",
     "output_type": "stream",
     "text": [
      "Not applying any transfomation.\n",
      "RMSD between the reference and molecule 1: 20.787576 Ångströns\n",
      "RMSD between the reference and molecule 2: 35.708949 Ångströns\n",
      "RMSD between the reference and molecule 3: 25.326716 Ångströns\n",
      "RMSD between the reference and molecule 4: 23.615692 Ångströns\n",
      "RMSD between the reference and molecule 5: 22.118981 Ångströns\n",
      "RMSD between the reference and molecule 6: 23.519198 Ångströns\n"
     ]
    },
    {
     "data": {
      "image/png": "[encoded data removed]",
      "text/plain": [
       "<Figure size 936x576 with 1 Axes>"
      ]
     },
     "metadata": {
      "needs_background": "light"
     },
     "output_type": "display_data"
    }
   ],
   "source": [
    "print('Not applying any transfomation.')\n",
    "rmsd = []\n",
    "labels = []\n",
    "for idx, molecule_to_compare in enumerate(molecules_to_compare):\n",
    "    rmsd.append(RMSD(reference, molecules_to_compare[idx]))\n",
    "    labels.append('molecule %d' % idx)\n",
    "    print('RMSD between the reference and molecule %d: %f Ångströns' % \\\n",
    "          (idx + 1, rmsd[-1]))\n",
    "    \n",
    "\n",
    "plt.figure(figsize=(13, 8))\n",
    "plt.ylabel('RMSD')\n",
    "plt.bar(labels, rmsd)\n",
    "plt.grid()\n",
    "plt.show()"
   ]
  },
  {
   "cell_type": "markdown",
   "metadata": {},
   "source": [
    "## With translation."
   ]
  },
  {
   "cell_type": "code",
   "execution_count": 11,
   "metadata": {},
   "outputs": [],
   "source": [
    "def infer_translation_matrix(molecule_to_be_displaced, ref_point):\n",
    "    atom_to_displace =\\\n",
    "        molecule_to_be_displaced[molecule_to_be_displaced.name == 'CA'].iloc[0]\n",
    "    \n",
    "    T_MATRIX = np.eye(4)\n",
    "    T_MATRIX[0, 3] = (ref_point.x - atom_to_displace.x)\n",
    "    T_MATRIX[1, 3] = (ref_point.y - atom_to_displace.y)\n",
    "    T_MATRIX[2, 3] = (ref_point.z - atom_to_displace.z)\n",
    "    return T_MATRIX"
   ]
  },
  {
   "cell_type": "markdown",
   "metadata": {},
   "source": [
    "* At first, we'll consider as a reference point the first carbon alpha of the molecule reference."
   ]
  },
  {
   "cell_type": "code",
   "execution_count": 12,
   "metadata": {},
   "outputs": [],
   "source": [
    "ref_point = reference[reference.name == 'CA'].iloc[0]"
   ]
  },
  {
   "cell_type": "code",
   "execution_count": 13,
   "metadata": {
    "scrolled": false
   },
   "outputs": [
    {
     "name": "stdout",
     "output_type": "stream",
     "text": [
      "RMSD between the reference and molecule 1: 19.721576 Ångströns\n",
      "RMSD between the reference and molecule 2: 33.803276 Ångströns\n",
      "RMSD between the reference and molecule 3: 25.992975 Ångströns\n",
      "RMSD between the reference and molecule 4: 24.416573 Ångströns\n",
      "RMSD between the reference and molecule 5: 23.510216 Ångströns\n",
      "RMSD between the reference and molecule 6: 23.214202 Ångströns\n"
     ]
    },
    {
     "data": {
      "image/png": "[encoded data removed]",
      "text/plain": [
       "<Figure size 936x576 with 1 Axes>"
      ]
     },
     "metadata": {
      "needs_background": "light"
     },
     "output_type": "display_data"
    }
   ],
   "source": [
    "rmsd = []\n",
    "labels = []\n",
    "for idx, molecule_to_compare in enumerate(molecules_to_compare):\n",
    "    translation = infer_translation_matrix(molecule_to_compare, ref_point)\n",
    "    rmsd.append(RMSD(reference, molecules_to_compare[idx], transformation2=translation))\n",
    "    labels.append('molecule %d' % idx)\n",
    "    print('RMSD between the reference and molecule %d: %f Ångströns' % \\\n",
    "          (idx + 1, rmsd[-1]))\n",
    "    \n",
    "\n",
    "plt.figure(figsize=(13, 8))\n",
    "plt.ylabel('RMSD')\n",
    "plt.bar(labels, rmsd)\n",
    "plt.grid()\n",
    "plt.show()"
   ]
  },
  {
   "cell_type": "markdown",
   "metadata": {},
   "source": [
    "That's it!"
   ]
  },
  {
   "cell_type": "markdown",
   "metadata": {},
   "source": [
    "***\n",
    "---\n",
    "***\n",
    "---\n",
    "***\n",
    "---\n",
    "***\n",
    "***\n",
    "---\n",
    "***\n",
    "---\n",
    "***\n",
    "---\n",
    "***\n",
    "***\n",
    "---\n",
    "***\n",
    "---\n",
    "***\n",
    "---\n",
    "***"
   ]
  },
  {
   "cell_type": "markdown",
   "metadata": {},
   "source": [
    "# Calculating the best alignment."
   ]
  },
  {
   "cell_type": "markdown",
   "metadata": {},
   "source": [
    "* We will be using the library `pso` developed by assignee of this assignment.\n",
    "\n",
    "\n",
    "* The PSO (Particle swarm optimization) is an heuristic method for finding global minima in cost/energy functions.\n",
    "\n",
    "\n",
    "* For the molecule alignment problem, the **RMSD** is going to be the cost function that we want to minimize.\n",
    "\n",
    "\n",
    "* The library requires an structure called `CostModel`, which defines the objective function, the boundaries and the number of parameters."
   ]
  },
  {
   "cell_type": "code",
   "execution_count": 55,
   "metadata": {},
   "outputs": [],
   "source": [
    "NUMBER_OF_PARTICLES = 10"
   ]
  },
  {
   "cell_type": "code",
   "execution_count": 56,
   "metadata": {},
   "outputs": [],
   "source": [
    "from cost import CostModel\n",
    "from pso import PSO\n",
    "from plot import plot_states\n",
    "from functools import partial"
   ]
  },
  {
   "cell_type": "code",
   "execution_count": 57,
   "metadata": {},
   "outputs": [
    {
     "name": "stdout",
     "output_type": "stream",
     "text": [
      "Reference point: \n"
     ]
    },
    {
     "data": {
      "text/plain": [
       "name                     CA\n",
       "element                   C\n",
       "aminoacid               VAL\n",
       "x                      0.25\n",
       "y                     1.811\n",
       "z                    -1.701\n",
       "residue_seq_number        1\n",
       "Name: 1, dtype: object"
      ]
     },
     "execution_count": 57,
     "metadata": {},
     "output_type": "execute_result"
    }
   ],
   "source": [
    "ref_point = reference[reference.name == 'CA'].iloc[0]\n",
    "print('Reference point: ')\n",
    "ref_point"
   ]
  },
  {
   "cell_type": "code",
   "execution_count": 58,
   "metadata": {},
   "outputs": [
    {
     "name": "stdout",
     "output_type": "stream",
     "text": [
      "Translation boundaries: \n",
      "min:  -34.098 Ångströns\n",
      "max:  26.814 Ångströns\n"
     ]
    }
   ],
   "source": [
    "boundary_min = reference[['x', 'y','z']].values.min() * 1.5\n",
    "boundary_max = reference[['x', 'y','z']].values.max() * 1.5\n",
    "print('Translation boundaries: ')\n",
    "print('min: ', boundary_min, 'Ångströns')\n",
    "print('max: ', boundary_max, 'Ångströns')"
   ]
  },
  {
   "cell_type": "code",
   "execution_count": 59,
   "metadata": {},
   "outputs": [],
   "source": [
    "def translation_matrix(delta_x, delta_y, delta_z, ref_x=.0, ref_y=.0, ref_z=.0):\n",
    "    T = np.eye(4)\n",
    "    T[0, -1], T[1, -1], T[2, -1] = delta_x - ref_x, delta_y - ref_y, delta_z - ref_z\n",
    "    return T"
   ]
  },
  {
   "cell_type": "markdown",
   "metadata": {},
   "source": [
    "## a) Optimize RMSD taking into account only the Backbone."
   ]
  },
  {
   "cell_type": "markdown",
   "metadata": {},
   "source": [
    "* Now, we are going to filter the atoms by removing hydrogens and the residues.\n",
    "\n",
    "\n",
    "* Thus, only **Carbons, Nitrogens and Oxygens** are left."
   ]
  },
  {
   "cell_type": "markdown",
   "metadata": {},
   "source": [
    "* We are going to modify the previously defined RMSD function so we can compare the exact same atoms of each structure. \n",
    "\n",
    "\n",
    "* Still using only the beginning of the reference molecule. "
   ]
  },
  {
   "cell_type": "code",
   "execution_count": 63,
   "metadata": {},
   "outputs": [],
   "source": [
    "reference_cropped = reference[:410].copy()"
   ]
  },
  {
   "cell_type": "code",
   "execution_count": 64,
   "metadata": {},
   "outputs": [],
   "source": [
    "def RMSD(molecule1, molecule2, elements=['C', 'N', 'O'],\n",
    "         transformation1=np.eye(4), transformation2=np.eye(4), how='merge'):\n",
    "    molecule1 = molecule1[molecule1.element.isin(elements)].copy()\n",
    "    molecule1[['x', 'y','z']] = apply_transformations(transformation1, molecule1)\n",
    "    \n",
    "    molecule2 = molecule2[molecule2.element.isin(elements)].copy()\n",
    "    molecule2[['x', 'y','z']] = apply_transformations(transformation2, molecule2)\n",
    "\n",
    "\n",
    "    if how == 'groupby':\n",
    "        molecule1['type'] = 'reference'\n",
    "        molecule2['type'] = 'to_compare'\n",
    "        both_molecules = molecule1.append(molecule2).reset_index(drop=True)\n",
    "\n",
    "        def compute_squared_differences(group):\n",
    "            to_compare = group[group.type == 'to_compare'].iloc[0]\n",
    "            ref = group[group.type == 'reference'].iloc[0]\n",
    "            group = pd.concat([to_compare, ref], axis=1).T\n",
    "            coordinates = group.loc[:, ['x', 'y', 'z']]\n",
    "            squared_differences = (coordinates.iloc[1] - coordinates.iloc[0]) ** 2\n",
    "            return squared_differences.sum()\n",
    "\n",
    "        rmsd = np.sqrt(\n",
    "            both_molecules.groupby(['name', 'residue_seq_number']).apply(compute_squared_differences).mean())\n",
    "\n",
    "    elif how == 'merge':\n",
    "        molecules_df = pd.merge(molecule1, molecule2, on=['residue_seq_number', 'name'])\n",
    "        molecules_df['x_distance_squared'] = (molecules_df['x_x'] - molecules_df['x_y']) ** 2\n",
    "        molecules_df['y_distance_squared'] = (molecules_df['y_x'] - molecules_df['y_y']) ** 2\n",
    "        molecules_df['z_distance_squared'] = (molecules_df['z_x'] - molecules_df['z_y']) ** 2\n",
    "\n",
    "        molecules_df['euclidean_distance_squared'] = \\\n",
    "            (molecules_df['x_distance_squared'] + molecules_df['y_distance_squared'] + molecules_df['z_distance_squared'])\n",
    "\n",
    "        rmsd = np.sqrt(np.mean(molecules_df['euclidean_distance_squared']))\n",
    "    return rmsd"
   ]
  },
  {
   "cell_type": "code",
   "execution_count": null,
   "metadata": {},
   "outputs": [],
   "source": [
    "backbone_states = []\n",
    "for idx, molecule_to_compare in enumerate(molecules_to_compare):\n",
    "    cost_model = CostModel(\n",
    "        callable=lambda T:\\\n",
    "            RMSD(reference_cropped, molecule_to_compare,\n",
    "                 transformation1=np.eye(4),\n",
    "                 transformation2=translation_matrix(T[0], T[1], T[2], ref_x=ref_point.x, ref_y=ref_point.y, ref_z=ref_point.z)),\n",
    "        num_dimensions=3,\n",
    "        parameters_boundaries=[boundary_min, boundary_max],\n",
    "        name='RMSD between reference and molecule %d.' % idx\n",
    "    )\n",
    "\n",
    "    pso = PSO(cost_model, num_particles=NUMBER_OF_PARTICLES, max_iter=300, min_cummulative_error=1E-2)\n",
    "    backbone_states.append(pso.optimize())"
   ]
  },
  {
   "cell_type": "markdown",
   "metadata": {},
   "source": [
    "### RMSD of all the average position of all particles."
   ]
  },
  {
   "cell_type": "code",
   "execution_count": null,
   "metadata": {},
   "outputs": [],
   "source": [
    "for backbone_state in backbone_states:\n",
    "    average_positions = np.array([np.mean(np.vstack(list(particles_position.values())), axis=0) for particles_position in backbone_state['particles_positions']])\n",
    "    \n",
    "    rmsd = [cost_model.callable(average_position) for average_position in average_positions]\n",
    "    \n",
    "    plt.figure(figsize=(13, 8))\n",
    "    plt.ylabel('RMSD error')\n",
    "    plt.plot(rmsd)\n",
    "    plt.grid()\n",
    "    plt.show()\n",
    "    print('Final average RMSD:', rmsd[-1])\n",
    "    print('Final average translation:', average_positions[-1, :], 'Ångströns')"
   ]
  },
  {
   "cell_type": "markdown",
   "metadata": {},
   "source": [
    "## b) Optimize RMSD taking into account only the alpha carbons."
   ]
  },
  {
   "cell_type": "code",
   "execution_count": null,
   "metadata": {},
   "outputs": [],
   "source": [
    "backbone_states = []\n",
    "for idx, molecule_to_compare in enumerate(molecules_to_compare):\n",
    "    cost_model = CostModel(\n",
    "        callable=lambda T:\\\n",
    "            RMSD(reference_cropped[reference_cropped.name == 'CA'], molecule_to_compare[molecule_to_compare.name == 'CA'],\n",
    "                 transformation1=np.eye(4),\n",
    "                 transformation2=translation_matrix(T[0], T[1], T[2], ref_x=ref_point.x, ref_y=ref_point.y, ref_z=ref_point.z)),\n",
    "        num_dimensions=3,\n",
    "        parameters_boundaries=[boundary_min, boundary_max],\n",
    "        name='RMSD between reference and molecule %d.' % idx\n",
    "    )\n",
    "\n",
    "    pso = PSO(cost_model, num_particles=NUMBER_OF_PARTICLES, max_iter=300, min_cummulative_error=1E-2)\n",
    "    backbone_states.append(pso.optimize())"
   ]
  },
  {
   "cell_type": "markdown",
   "metadata": {},
   "source": [
    "### RMSD of all the average position of all particles."
   ]
  },
  {
   "cell_type": "code",
   "execution_count": null,
   "metadata": {},
   "outputs": [],
   "source": [
    "for backbone_state in backbone_states:\n",
    "    average_positions = np.array([np.mean(np.vstack(list(particles_position.values())), axis=0) for particles_position in backbone_state['particles_positions']])\n",
    "    \n",
    "    rmsd = [cost_model.callable(average_position) for average_position in average_positions]\n",
    "    \n",
    "    plt.figure(figsize=(13, 8))\n",
    "    plt.ylabel('RMSD error')\n",
    "    plt.plot(rmsd)\n",
    "    plt.grid()\n",
    "    plt.show()\n",
    "    print('Final average RMSD:', rmsd[-1])\n",
    "    print('Final average translation:', average_positions[-1, :], 'Ångströns')"
   ]
  },
  {
   "cell_type": "markdown",
   "metadata": {},
   "source": [
    "## b) Optimize RMSD taking into account all the atoms."
   ]
  },
  {
   "cell_type": "code",
   "execution_count": null,
   "metadata": {},
   "outputs": [],
   "source": [
    "backbone_states = []\n",
    "for idx, molecule_to_compare in enumerate(molecules_to_compare):\n",
    "    cost_model = CostModel(\n",
    "        callable=lambda T:\\\n",
    "            RMSD(reference_cropped, molecule_to_compare, elements=['C', 'N', 'O', 'H']\n",
    "                 transformation1=np.eye(4),\n",
    "                 transformation2=translation_matrix(T[0], T[1], T[2], ref_x=ref_point.x, ref_y=ref_point.y, ref_z=ref_point.z)),\n",
    "        num_dimensions=3,\n",
    "        parameters_boundaries=[boundary_min, boundary_max],\n",
    "        name='RMSD between reference and molecule %d.' % idx\n",
    "    )\n",
    "\n",
    "    pso = PSO(cost_model, num_particles=NUMBER_OF_PARTICLES, max_iter=300, min_cummulative_error=1E-2)\n",
    "    backbone_states.append(pso.optimize())"
   ]
  },
  {
   "cell_type": "markdown",
   "metadata": {},
   "source": [
    "### RMSD of all the average position of all particles."
   ]
  },
  {
   "cell_type": "code",
   "execution_count": null,
   "metadata": {},
   "outputs": [],
   "source": [
    "for backbone_state in backbone_states:\n",
    "    average_positions = np.array([np.mean(np.vstack(list(particles_position.values())), axis=0) for particles_position in backbone_state['particles_positions']])\n",
    "    \n",
    "    rmsd = [cost_model.callable(average_position) for average_position in average_positions]\n",
    "    \n",
    "    plt.figure(figsize=(13, 8))\n",
    "    plt.ylabel('RMSD error')\n",
    "    plt.plot(rmsd)\n",
    "    plt.grid()\n",
    "    plt.show()\n",
    "    print('Final average RMSD:', rmsd[-1])\n",
    "    print('Final average translation:', average_positions[-1, :], 'Ångströns')"
   ]
  },
  {
   "cell_type": "markdown",
   "metadata": {},
   "source": [
    "That's all!"
   ]
  },
  {
   "cell_type": "code",
   "execution_count": null,
   "metadata": {},
   "outputs": [],
   "source": []
  }
 ],
 "metadata": {
  "kernelspec": {
   "display_name": "Python 3",
   "language": "python",
   "name": "python3"
  },
  "language_info": {
   "codemirror_mode": {
    "name": "ipython",
    "version": 3
   },
   "file_extension": ".py",
   "mimetype": "text/x-python",
   "name": "python",
   "nbconvert_exporter": "python",
   "pygments_lexer": "ipython3",
   "version": "3.5.2"
  },
  "toc": {
   "base_numbering": 1,
   "nav_menu": {},
   "number_sections": true,
   "sideBar": true,
   "skip_h1_title": false,
   "title_cell": "Table of Contents",
   "title_sidebar": "Contents",
   "toc_cell": false,
   "toc_position": {},
   "toc_section_display": true,
   "toc_window_display": false
  }
 },
 "nbformat": 4,
 "nbformat_minor": 2
}

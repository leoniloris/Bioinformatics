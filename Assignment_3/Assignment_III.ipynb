{
 "cells": [
  {
   "cell_type": "markdown",
   "metadata": {},
   "source": [
    "# Assignment III\n",
    "* Leoni Mota Loris"
   ]
  },
  {
   "cell_type": "markdown",
   "metadata": {},
   "source": [
    "* At first, Load the data."
   ]
  },
  {
   "cell_type": "code",
   "execution_count": 1,
   "metadata": {},
   "outputs": [],
   "source": [
    "import pandas as pd\n",
    "import numpy as np\n",
    "from mpl_toolkits.mplot3d import Axes3D\n",
    "import matplotlib.pyplot as plt\n",
    "import subprocess"
   ]
  },
  {
   "cell_type": "code",
   "execution_count": 2,
   "metadata": {},
   "outputs": [],
   "source": [
    "from collections import namedtuple\n",
    "\n",
    "Atom = namedtuple('Atom', ['name', 'element', 'aminoacid', 'x', 'y', 'z', 'h', 'residue_seq_number'])\n",
    "\n",
    "Atom.parse_name = lambda string: string[12:16].strip()\n",
    "Atom.parse_element = lambda string: string[12] if len(string.strip()) < 78 \\\n",
    "                     else string[76:78].strip()\n",
    "Atom.parse_aminoacid = lambda string: string[17:20].strip()\n",
    "Atom.parse_x = lambda string: float(string[30:38].strip())\n",
    "Atom.parse_y = lambda string: float(string[38:46].strip())\n",
    "Atom.parse_z = lambda string: float(string[46:54].strip())\n",
    "Atom.parse_residue_seq_number = lambda string: int(string[23:30].strip())\n",
    "\n",
    "Atom.parse = lambda string: Atom(\n",
    "    Atom.parse_name(string), Atom.parse_element(string), Atom.parse_aminoacid(string),\n",
    "    Atom.parse_x(string), Atom.parse_y(string), Atom.parse_z(string), 1,Atom.parse_residue_seq_number(string))"
   ]
  },
  {
   "cell_type": "code",
   "execution_count": 3,
   "metadata": {},
   "outputs": [],
   "source": [
    "def read_molecule(path):\n",
    "    atoms = []\n",
    "    with open(path, 'r') as f:\n",
    "        for line in f:\n",
    "            if line.startswith('ATOM'):\n",
    "                try:\n",
    "                    atoms.append(Atom.parse(line))\n",
    "                except Exception as e:\n",
    "                    print(e)\n",
    "    return pd.DataFrame(atoms)"
   ]
  },
  {
   "cell_type": "code",
   "execution_count": 4,
   "metadata": {},
   "outputs": [
    {
     "data": {
      "text/html": [
       "<div>\n",
       "<style scoped>\n",
       "    .dataframe tbody tr th:only-of-type {\n",
       "        vertical-align: middle;\n",
       "    }\n",
       "\n",
       "    .dataframe tbody tr th {\n",
       "        vertical-align: top;\n",
       "    }\n",
       "\n",
       "    .dataframe thead th {\n",
       "        text-align: right;\n",
       "    }\n",
       "</style>\n",
       "<table border=\"1\" class=\"dataframe\">\n",
       "  <thead>\n",
       "    <tr style=\"text-align: right;\">\n",
       "      <th></th>\n",
       "      <th>name</th>\n",
       "      <th>element</th>\n",
       "      <th>aminoacid</th>\n",
       "      <th>x</th>\n",
       "      <th>y</th>\n",
       "      <th>z</th>\n",
       "      <th>h</th>\n",
       "      <th>residue_seq_number</th>\n",
       "    </tr>\n",
       "  </thead>\n",
       "  <tbody>\n",
       "    <tr>\n",
       "      <th>0</th>\n",
       "      <td>N</td>\n",
       "      <td>N</td>\n",
       "      <td>THR</td>\n",
       "      <td>17.047</td>\n",
       "      <td>14.099</td>\n",
       "      <td>3.625</td>\n",
       "      <td>1</td>\n",
       "      <td>1</td>\n",
       "    </tr>\n",
       "    <tr>\n",
       "      <th>1</th>\n",
       "      <td>CA</td>\n",
       "      <td>C</td>\n",
       "      <td>THR</td>\n",
       "      <td>16.967</td>\n",
       "      <td>12.784</td>\n",
       "      <td>4.338</td>\n",
       "      <td>1</td>\n",
       "      <td>1</td>\n",
       "    </tr>\n",
       "    <tr>\n",
       "      <th>2</th>\n",
       "      <td>C</td>\n",
       "      <td>C</td>\n",
       "      <td>THR</td>\n",
       "      <td>15.685</td>\n",
       "      <td>12.755</td>\n",
       "      <td>5.133</td>\n",
       "      <td>1</td>\n",
       "      <td>1</td>\n",
       "    </tr>\n",
       "    <tr>\n",
       "      <th>3</th>\n",
       "      <td>O</td>\n",
       "      <td>O</td>\n",
       "      <td>THR</td>\n",
       "      <td>15.268</td>\n",
       "      <td>13.825</td>\n",
       "      <td>5.594</td>\n",
       "      <td>1</td>\n",
       "      <td>1</td>\n",
       "    </tr>\n",
       "    <tr>\n",
       "      <th>4</th>\n",
       "      <td>CB</td>\n",
       "      <td>C</td>\n",
       "      <td>THR</td>\n",
       "      <td>18.170</td>\n",
       "      <td>12.703</td>\n",
       "      <td>5.337</td>\n",
       "      <td>1</td>\n",
       "      <td>1</td>\n",
       "    </tr>\n",
       "    <tr>\n",
       "      <th>5</th>\n",
       "      <td>OG1</td>\n",
       "      <td>O</td>\n",
       "      <td>THR</td>\n",
       "      <td>19.334</td>\n",
       "      <td>12.829</td>\n",
       "      <td>4.463</td>\n",
       "      <td>1</td>\n",
       "      <td>1</td>\n",
       "    </tr>\n",
       "    <tr>\n",
       "      <th>6</th>\n",
       "      <td>CG2</td>\n",
       "      <td>C</td>\n",
       "      <td>THR</td>\n",
       "      <td>18.150</td>\n",
       "      <td>11.546</td>\n",
       "      <td>6.304</td>\n",
       "      <td>1</td>\n",
       "      <td>1</td>\n",
       "    </tr>\n",
       "    <tr>\n",
       "      <th>7</th>\n",
       "      <td>N</td>\n",
       "      <td>N</td>\n",
       "      <td>THR</td>\n",
       "      <td>15.115</td>\n",
       "      <td>11.555</td>\n",
       "      <td>5.265</td>\n",
       "      <td>1</td>\n",
       "      <td>2</td>\n",
       "    </tr>\n",
       "    <tr>\n",
       "      <th>8</th>\n",
       "      <td>CA</td>\n",
       "      <td>C</td>\n",
       "      <td>THR</td>\n",
       "      <td>13.856</td>\n",
       "      <td>11.469</td>\n",
       "      <td>6.066</td>\n",
       "      <td>1</td>\n",
       "      <td>2</td>\n",
       "    </tr>\n",
       "    <tr>\n",
       "      <th>9</th>\n",
       "      <td>C</td>\n",
       "      <td>C</td>\n",
       "      <td>THR</td>\n",
       "      <td>14.164</td>\n",
       "      <td>10.785</td>\n",
       "      <td>7.379</td>\n",
       "      <td>1</td>\n",
       "      <td>2</td>\n",
       "    </tr>\n",
       "  </tbody>\n",
       "</table>\n",
       "</div>"
      ],
      "text/plain": [
       "  name element aminoacid       x       y      z  h  residue_seq_number\n",
       "0    N       N       THR  17.047  14.099  3.625  1                   1\n",
       "1   CA       C       THR  16.967  12.784  4.338  1                   1\n",
       "2    C       C       THR  15.685  12.755  5.133  1                   1\n",
       "3    O       O       THR  15.268  13.825  5.594  1                   1\n",
       "4   CB       C       THR  18.170  12.703  5.337  1                   1\n",
       "5  OG1       O       THR  19.334  12.829  4.463  1                   1\n",
       "6  CG2       C       THR  18.150  11.546  6.304  1                   1\n",
       "7    N       N       THR  15.115  11.555  5.265  1                   2\n",
       "8   CA       C       THR  13.856  11.469  6.066  1                   2\n",
       "9    C       C       THR  14.164  10.785  7.379  1                   2"
      ]
     },
     "execution_count": 4,
     "metadata": {},
     "output_type": "execute_result"
    }
   ],
   "source": [
    "crambin = read_molecule('assets/1crn.pdb')\n",
    "crambin[:10]"
   ]
  },
  {
   "cell_type": "markdown",
   "metadata": {},
   "source": [
    "## Question 1"
   ]
  },
  {
   "cell_type": "markdown",
   "metadata": {},
   "source": [
    "## a)"
   ]
  },
  {
   "cell_type": "markdown",
   "metadata": {},
   "source": [
    "* I) First we need to map the sequence of characters as in:\n",
    "\n",
    "**TTCCPSIVARSNFNVCRLPGTPEAICATYTGCIIIPGATTCPGDYAN**\n",
    "to a sequence of amino acids \n",
    "\n",
    "* II) And then, infer the position of each atom of the amino acid from a standard reference ($\\alpha$ carbon) \n",
    "\n",
    "\n",
    "* III) Infer the position of multiple amino acids based on the peptide bond."
   ]
  },
  {
   "cell_type": "markdown",
   "metadata": {},
   "source": [
    "#### I) map the sequence of characters"
   ]
  },
  {
   "cell_type": "code",
   "execution_count": 5,
   "metadata": {},
   "outputs": [],
   "source": [
    "aminoacid_mapping = {'T': 'THR', 'C': 'CYS', 'P': 'PRO', 'S': 'SER', 'I': 'ILE',\n",
    "                     'V': 'VAL', 'A': 'ALA', 'R': 'ARG', 'N': 'ASN', 'F': 'PHE',\n",
    "                     'L': 'LEU', 'G': 'GLY', 'E': 'GLU', 'D': 'ASP', 'Y': 'TYR'}\n",
    "    \n",
    "def map_to_aminoacids(sequence):\n",
    "    return list(map(lambda char: aminoacid_mapping[char], sequence))"
   ]
  },
  {
   "cell_type": "code",
   "execution_count": 6,
   "metadata": {},
   "outputs": [],
   "source": [
    "aminoacid_sequence = 'TTCCPSIVARSNFNVCRLPGTPEAICATYTGCIIIPGATTCPGDYAN'"
   ]
  },
  {
   "cell_type": "code",
   "execution_count": 7,
   "metadata": {},
   "outputs": [],
   "source": [
    "aminoacids_names = map_to_aminoacids(aminoacid_sequence)"
   ]
  },
  {
   "cell_type": "markdown",
   "metadata": {},
   "source": [
    "______________________________________________________________________________________________________________\n",
    "______________________________________________________________________________________________________________\n",
    "______________________________________________________________________________________________________________\n",
    "______________________________________________________________________________________________________________\n",
    "    "
   ]
  },
  {
   "cell_type": "code",
   "execution_count": 8,
   "metadata": {},
   "outputs": [],
   "source": [
    "def load_aminoacids():\n",
    "    return list(map(lambda aminoacid_name: read_molecule('assets/' + aminoacid_name + '.pdb'), aminoacids_names))"
   ]
  },
  {
   "cell_type": "code",
   "execution_count": 9,
   "metadata": {},
   "outputs": [],
   "source": [
    "aminoacids = load_aminoacids()"
   ]
  },
  {
   "cell_type": "code",
   "execution_count": 10,
   "metadata": {},
   "outputs": [
    {
     "data": {
      "text/html": [
       "<div>\n",
       "<style scoped>\n",
       "    .dataframe tbody tr th:only-of-type {\n",
       "        vertical-align: middle;\n",
       "    }\n",
       "\n",
       "    .dataframe tbody tr th {\n",
       "        vertical-align: top;\n",
       "    }\n",
       "\n",
       "    .dataframe thead th {\n",
       "        text-align: right;\n",
       "    }\n",
       "</style>\n",
       "<table border=\"1\" class=\"dataframe\">\n",
       "  <thead>\n",
       "    <tr style=\"text-align: right;\">\n",
       "      <th></th>\n",
       "      <th>name</th>\n",
       "      <th>element</th>\n",
       "      <th>aminoacid</th>\n",
       "      <th>x</th>\n",
       "      <th>y</th>\n",
       "      <th>z</th>\n",
       "      <th>h</th>\n",
       "      <th>residue_seq_number</th>\n",
       "    </tr>\n",
       "  </thead>\n",
       "  <tbody>\n",
       "    <tr>\n",
       "      <th>0</th>\n",
       "      <td>N</td>\n",
       "      <td></td>\n",
       "      <td>THR</td>\n",
       "      <td>0.080</td>\n",
       "      <td>-0.083</td>\n",
       "      <td>0.000</td>\n",
       "      <td>1</td>\n",
       "      <td>1</td>\n",
       "    </tr>\n",
       "    <tr>\n",
       "      <th>1</th>\n",
       "      <td>CA</td>\n",
       "      <td></td>\n",
       "      <td>THR</td>\n",
       "      <td>1.539</td>\n",
       "      <td>-0.033</td>\n",
       "      <td>0.000</td>\n",
       "      <td>1</td>\n",
       "      <td>1</td>\n",
       "    </tr>\n",
       "    <tr>\n",
       "      <th>2</th>\n",
       "      <td>C</td>\n",
       "      <td></td>\n",
       "      <td>THR</td>\n",
       "      <td>2.032</td>\n",
       "      <td>1.394</td>\n",
       "      <td>0.000</td>\n",
       "      <td>1</td>\n",
       "      <td>1</td>\n",
       "    </tr>\n",
       "    <tr>\n",
       "      <th>3</th>\n",
       "      <td>O</td>\n",
       "      <td></td>\n",
       "      <td>THR</td>\n",
       "      <td>1.268</td>\n",
       "      <td>2.339</td>\n",
       "      <td>0.000</td>\n",
       "      <td>1</td>\n",
       "      <td>1</td>\n",
       "    </tr>\n",
       "    <tr>\n",
       "      <th>4</th>\n",
       "      <td>CB</td>\n",
       "      <td></td>\n",
       "      <td>THR</td>\n",
       "      <td>2.116</td>\n",
       "      <td>-0.818</td>\n",
       "      <td>-1.226</td>\n",
       "      <td>1</td>\n",
       "      <td>1</td>\n",
       "    </tr>\n",
       "    <tr>\n",
       "      <th>5</th>\n",
       "      <td>OG1</td>\n",
       "      <td></td>\n",
       "      <td>THR</td>\n",
       "      <td>1.743</td>\n",
       "      <td>-2.188</td>\n",
       "      <td>-1.162</td>\n",
       "      <td>1</td>\n",
       "      <td>1</td>\n",
       "    </tr>\n",
       "    <tr>\n",
       "      <th>6</th>\n",
       "      <td>CG2</td>\n",
       "      <td></td>\n",
       "      <td>THR</td>\n",
       "      <td>3.654</td>\n",
       "      <td>-0.842</td>\n",
       "      <td>-1.361</td>\n",
       "      <td>1</td>\n",
       "      <td>1</td>\n",
       "    </tr>\n",
       "    <tr>\n",
       "      <th>7</th>\n",
       "      <td>1H</td>\n",
       "      <td>1</td>\n",
       "      <td>THR</td>\n",
       "      <td>-0.523</td>\n",
       "      <td>0.813</td>\n",
       "      <td>0.000</td>\n",
       "      <td>1</td>\n",
       "      <td>1</td>\n",
       "    </tr>\n",
       "    <tr>\n",
       "      <th>8</th>\n",
       "      <td>2H</td>\n",
       "      <td>2</td>\n",
       "      <td>THR</td>\n",
       "      <td>-0.461</td>\n",
       "      <td>-1.018</td>\n",
       "      <td>0.000</td>\n",
       "      <td>1</td>\n",
       "      <td>1</td>\n",
       "    </tr>\n",
       "    <tr>\n",
       "      <th>9</th>\n",
       "      <td>HA</td>\n",
       "      <td></td>\n",
       "      <td>THR</td>\n",
       "      <td>1.904</td>\n",
       "      <td>-0.508</td>\n",
       "      <td>0.929</td>\n",
       "      <td>1</td>\n",
       "      <td>1</td>\n",
       "    </tr>\n",
       "    <tr>\n",
       "      <th>10</th>\n",
       "      <td>HB</td>\n",
       "      <td></td>\n",
       "      <td>THR</td>\n",
       "      <td>1.691</td>\n",
       "      <td>-0.378</td>\n",
       "      <td>-2.154</td>\n",
       "      <td>1</td>\n",
       "      <td>1</td>\n",
       "    </tr>\n",
       "    <tr>\n",
       "      <th>11</th>\n",
       "      <td>HG1</td>\n",
       "      <td></td>\n",
       "      <td>THR</td>\n",
       "      <td>2.066</td>\n",
       "      <td>-2.592</td>\n",
       "      <td>-1.973</td>\n",
       "      <td>1</td>\n",
       "      <td>1</td>\n",
       "    </tr>\n",
       "    <tr>\n",
       "      <th>12</th>\n",
       "      <td>1HG2</td>\n",
       "      <td>1</td>\n",
       "      <td>THR</td>\n",
       "      <td>3.986</td>\n",
       "      <td>-1.433</td>\n",
       "      <td>-2.235</td>\n",
       "      <td>1</td>\n",
       "      <td>1</td>\n",
       "    </tr>\n",
       "    <tr>\n",
       "      <th>13</th>\n",
       "      <td>2HG2</td>\n",
       "      <td>2</td>\n",
       "      <td>THR</td>\n",
       "      <td>4.083</td>\n",
       "      <td>0.168</td>\n",
       "      <td>-1.502</td>\n",
       "      <td>1</td>\n",
       "      <td>1</td>\n",
       "    </tr>\n",
       "    <tr>\n",
       "      <th>14</th>\n",
       "      <td>3HG2</td>\n",
       "      <td>3</td>\n",
       "      <td>THR</td>\n",
       "      <td>4.138</td>\n",
       "      <td>-1.279</td>\n",
       "      <td>-0.467</td>\n",
       "      <td>1</td>\n",
       "      <td>1</td>\n",
       "    </tr>\n",
       "    <tr>\n",
       "      <th>15</th>\n",
       "      <td>OC</td>\n",
       "      <td></td>\n",
       "      <td>THR</td>\n",
       "      <td>3.452</td>\n",
       "      <td>1.567</td>\n",
       "      <td>0.000</td>\n",
       "      <td>1</td>\n",
       "      <td>1</td>\n",
       "    </tr>\n",
       "    <tr>\n",
       "      <th>16</th>\n",
       "      <td>HC</td>\n",
       "      <td></td>\n",
       "      <td>THR</td>\n",
       "      <td>3.911</td>\n",
       "      <td>0.645</td>\n",
       "      <td>0.000</td>\n",
       "      <td>1</td>\n",
       "      <td>1</td>\n",
       "    </tr>\n",
       "  </tbody>\n",
       "</table>\n",
       "</div>"
      ],
      "text/plain": [
       "    name element aminoacid      x      y      z  h  residue_seq_number\n",
       "0      N               THR  0.080 -0.083  0.000  1                   1\n",
       "1     CA               THR  1.539 -0.033  0.000  1                   1\n",
       "2      C               THR  2.032  1.394  0.000  1                   1\n",
       "3      O               THR  1.268  2.339  0.000  1                   1\n",
       "4     CB               THR  2.116 -0.818 -1.226  1                   1\n",
       "5    OG1               THR  1.743 -2.188 -1.162  1                   1\n",
       "6    CG2               THR  3.654 -0.842 -1.361  1                   1\n",
       "7     1H       1       THR -0.523  0.813  0.000  1                   1\n",
       "8     2H       2       THR -0.461 -1.018  0.000  1                   1\n",
       "9     HA               THR  1.904 -0.508  0.929  1                   1\n",
       "10    HB               THR  1.691 -0.378 -2.154  1                   1\n",
       "11   HG1               THR  2.066 -2.592 -1.973  1                   1\n",
       "12  1HG2       1       THR  3.986 -1.433 -2.235  1                   1\n",
       "13  2HG2       2       THR  4.083  0.168 -1.502  1                   1\n",
       "14  3HG2       3       THR  4.138 -1.279 -0.467  1                   1\n",
       "15    OC               THR  3.452  1.567  0.000  1                   1\n",
       "16    HC               THR  3.911  0.645  0.000  1                   1"
      ]
     },
     "metadata": {},
     "output_type": "display_data"
    }
   ],
   "source": [
    "display(aminoacids[0])"
   ]
  },
  {
   "cell_type": "markdown",
   "metadata": {},
   "source": [
    "______________________________________________________________________________________________________________\n",
    "______________________________________________________________________________________________________________\n",
    "______________________________________________________________________________________________________________\n",
    "______________________________________________________________________________________________________________\n",
    "    "
   ]
  },
  {
   "cell_type": "markdown",
   "metadata": {},
   "source": [
    "#### III) Infer the position of multiple amino acids based on the peptide bond.\n",
    "\n",
    "\n",
    "* After the nucleotilic attack the resonance delocalization of electrons in the peptide bond forces the creation of a plane where the atoms will be located (amide plan)."
   ]
  },
  {
   "cell_type": "code",
   "execution_count": 11,
   "metadata": {},
   "outputs": [],
   "source": [
    "import numpy as np\n",
    "\n",
    "def translation_matrix(delta_x, delta_y, delta_z, ref_x=.0, ref_y=.0, ref_z=.0):\n",
    "    T = np.eye(4)\n",
    "    T[0, -1], T[1, -1], T[2, -1] = delta_x - ref_x, delta_y - ref_y, delta_z - ref_z\n",
    "    return T\n",
    "\n",
    "def rotation_matrix(x_rotation_rad, y_rotation_rad, z_rotation_rad):\n",
    "    Rx, Ry, Rz = np.eye(4), np.eye(4), np.eye(4)\n",
    "\n",
    "    Rx[1, 1], Rx[1, 2], Rx[2, 1], Rx[2, 2] =\\\n",
    "        np.cos(x_rotation_rad), -np.sin(x_rotation_rad), np.sin(x_rotation_rad), np.cos(x_rotation_rad)\n",
    "    \n",
    "    Ry[0, 0], Ry[0, 2], Ry[2, 0], Ry[2, 2] =\\\n",
    "        np.cos(y_rotation_rad), np.sin(y_rotation_rad), -np.sin(y_rotation_rad), np.cos(y_rotation_rad)\n",
    "\n",
    "    Rz[0, 0], Rz[0, 1], Rz[1, 0], Rz[1, 1] =\\\n",
    "        np.cos(z_rotation_rad), -np.sin(z_rotation_rad), np.sin(z_rotation_rad), np.cos(z_rotation_rad)\n",
    "\n",
    "    return np.dot(np.dot(Rx, Ry), Rz)\n",
    "\n",
    "def apply_transformation(transformation, df):\n",
    "    df[['x', 'y', 'z', 'h']] = transformation.dot(df[['x', 'y', 'z', 'h']].T).T\n",
    "\n",
    "def apply_rotation(transformation, df, atom_reference='N'):\n",
    "    position = df[df.name == atom_reference].copy()\n",
    "    apply_transformation(translation_matrix(-position.x, -position.y, -position.z), df)\n",
    "    apply_transformation(transformation, df)\n",
    "    apply_transformation(translation_matrix(position.x, position.y, position.z), df)\n"
   ]
  },
  {
   "cell_type": "markdown",
   "metadata": {},
   "source": [
    "* Some utility functions for calculating the euclidean distance and the angle between two vectors:\n",
    "\n",
    "\n",
    "$$distance = \\sqrt{|(A - B)|}$$\n",
    "\n",
    "\n",
    "$$cos(\\alpha) = \\frac{A \\cdot B}{|A||B|}$$ "
   ]
  },
  {
   "cell_type": "code",
   "execution_count": 12,
   "metadata": {},
   "outputs": [],
   "source": [
    "def euclidean_distance(p1, p2):\n",
    "    return np.sqrt(np.sum((p1 - p2) ** 2))\n",
    "\n",
    "def l2_norm(p):\n",
    "    return np.sqrt(np.sum(p ** 2))\n",
    "\n",
    "def get_angle_rad(a, b, normal_reference):\n",
    "    negative = np.all(np.dot(np.cross(a, b), normal_reference) < 0)\n",
    "    angle = np.arccos(((a).dot(b))/(l2_norm(a) * l2_norm(b))) \n",
    "    angle = angle if not np.isnan(angle) else .0\n",
    "    return angle if not negative else -angle"
   ]
  },
  {
   "cell_type": "code",
   "execution_count": 13,
   "metadata": {},
   "outputs": [],
   "source": [
    "def get_desired_omega(current_aminoacid):\n",
    "    return 0.0 if 'PRO' in current_aminoacid.aminoacid.values else 180.0\n",
    "\n",
    "def get_desired_OCN_angle(current_aminoacid):\n",
    "    return 123.0 if 'PRO' in current_aminoacid.aminoacid.values else 123.5\n",
    "\n",
    "def get_desired_CNCa_angle(current_aminoacid):\n",
    "    return 126.0 if 'PRO' in current_aminoacid.aminoacid.values else 122.0\n",
    "\n",
    "def get_desired_bond_length(current_aminoacid):\n",
    "    return 1.32 if 'PRO' in current_aminoacid.aminoacid.values else 1.33"
   ]
  },
  {
   "cell_type": "markdown",
   "metadata": {},
   "source": [
    "________________________________\n",
    "* This function infers the position at which the amide nitrogen should be, so we can find a translation of the \"next\" aminoacid.\n",
    "\n",
    "\n",
    "* It return a position that is equals to the rotation of the oxygen inside the plane C$\\alpha$-C-N, and uses the length of the peptide bond (1.33Å or 1.32Å) and the Angle (123.5 or 123)."
   ]
  },
  {
   "cell_type": "code",
   "execution_count": 14,
   "metadata": {},
   "outputs": [],
   "source": [
    "def get_desired_nitrogen_location(aminoacid):\n",
    "    alpha_carbon = aminoacid[aminoacid.name == 'CA'][['x', 'y', 'z']].values.reshape(-1,)\n",
    "    carboxyl_carbon = aminoacid[aminoacid.name == 'C'][['x', 'y', 'z']].values.reshape(-1,)\n",
    "    oxygen_double_bonded = aminoacid[aminoacid.name == 'O'][['x', 'y', 'z']].values.reshape(-1,)\n",
    "\n",
    "    CO = oxygen_double_bonded - carboxyl_carbon\n",
    "    CA = alpha_carbon - carboxyl_carbon\n",
    "\n",
    "    plane_normal = np.cross(CO, CA)\n",
    "    plane_vector_basis = np.array([\n",
    "        np.cross(CO, plane_normal) / l2_norm(np.cross(CO, plane_normal)), \n",
    "        CO / l2_norm(CO), \n",
    "        plane_normal / l2_norm(plane_normal)]).T\n",
    "\n",
    "    CO_new_norm = CO * get_desired_bond_length(aminoacid) / l2_norm(CO)\n",
    "    CO_new_norm_plane = np.linalg.solve(plane_vector_basis, CO_new_norm)[:2]\n",
    "    \n",
    "    rotation_angle = np.radians(get_desired_OCN_angle(aminoacid))\n",
    "    rotation_angle_matrix = np.array(\n",
    "        [[np.cos(rotation_angle), -np.sin(rotation_angle)], \n",
    "         [np.sin(rotation_angle), np.cos(rotation_angle)]])\n",
    "\n",
    "    CN_plane = CO_new_norm_plane @ rotation_angle_matrix\n",
    "    CN = np.linalg.solve(np.linalg.inv(plane_vector_basis), np.array([CN_plane[0], CN_plane[1], 0]))\n",
    "    N_desired = CN + carboxyl_carbon\n",
    "    \n",
    "    return np.pad(N_desired, (0, 1), 'constant', constant_values=1)"
   ]
  },
  {
   "cell_type": "code",
   "execution_count": 15,
   "metadata": {},
   "outputs": [],
   "source": [
    "def get_normal_from_amide_plan(previous_aminoacid, current_aminoacid, terminal='C'):\n",
    "    if terminal == 'C':\n",
    "        alpha_carbon = previous_aminoacid[previous_aminoacid.name == 'CA'][['x', 'y', 'z']].values.reshape(-1,)\n",
    "        carboxyl_carbon = previous_aminoacid[previous_aminoacid.name == 'C'][['x', 'y', 'z']].values.reshape(-1,)\n",
    "        oxygen_double_bonded = previous_aminoacid[previous_aminoacid.name == 'O'][['x', 'y', 'z']].values.reshape(-1,)\n",
    "        C1 = oxygen_double_bonded - carboxyl_carbon\n",
    "        C2 = alpha_carbon - carboxyl_carbon\n",
    "    if terminal == 'N':\n",
    "        last_carbon = current_aminoacid[current_aminoacid.name == 'CA'][['x', 'y', 'z']].values.reshape(-1,)\n",
    "        nitrogen_amide = current_aminoacid[current_aminoacid.name == 'N'][['x', 'y', 'z']].values.reshape(-1,)\n",
    "        carboxyl_carbon = previous_aminoacid[previous_aminoacid.name == 'C'][['x', 'y', 'z']].values.reshape(-1,)\n",
    "        C2 = last_carbon - nitrogen_amide\n",
    "        C1 = carboxyl_carbon - nitrogen_amide\n",
    "    return np.cross(C1, C2)"
   ]
  },
  {
   "cell_type": "markdown",
   "metadata": {},
   "source": [
    "* The actual translations and rotations happens below:\n",
    "    * We first translate the \"next\" aminoacid and then we do the rotations so the angles and distances can be as depicted below:\n",
    "   \n",
    "![assets/rotation.png](assets/pep.png)"
   ]
  },
  {
   "cell_type": "markdown",
   "metadata": {},
   "source": [
    "* This method translates the `current_aminoacid` so its Nitrogen will be at the right spot for the peptide bond."
   ]
  },
  {
   "cell_type": "code",
   "execution_count": 16,
   "metadata": {},
   "outputs": [],
   "source": [
    "def translate_for_peptide_bond(previous_aminoacid, current_aminoacid):\n",
    "    desired_nitrogen_location = get_desired_nitrogen_location(previous_aminoacid)\n",
    "    current_nitrogen_location = current_aminoacid[current_aminoacid.name == 'N'][['x', 'y', 'z', 'h']].values.reshape(-1,)\n",
    "        \n",
    "    required_tranlation = desired_nitrogen_location - current_nitrogen_location\n",
    "    \n",
    "    required_tranlation_matrix = translation_matrix(required_tranlation[0], required_tranlation[1], required_tranlation[2])\n",
    "    apply_transformation(required_tranlation_matrix, current_aminoacid)\n",
    "    "
   ]
  },
  {
   "cell_type": "markdown",
   "metadata": {},
   "source": [
    "* This method rotates the `current_aminoacid` so the normal of the plane $C\\alpha_{i}-C_{i}=O_{i}$ and the normal of the plane $C-N_{i+1}-C\\alpha_{i+1}$ can be aligned."
   ]
  },
  {
   "cell_type": "code",
   "execution_count": 17,
   "metadata": {},
   "outputs": [],
   "source": [
    "def rotate_for_normal_alignment(previous_aminoacid, current_aminoacid, desired_normal):\n",
    "    dimensions_range = [[1, 2], [0, 2], [0, 1]]\n",
    "    for i, dimensions in enumerate(dimensions_range):\n",
    "        differences = {}\n",
    "        _desired_normal = desired_normal[dimensions]        \n",
    "        nitrogen_amide = current_aminoacid[current_aminoacid.name == 'N'][['x', 'y', 'z']].values.reshape(-1,)\n",
    "        carboxyl_carbon = previous_aminoacid[previous_aminoacid.name == 'C'][['x', 'y', 'z']].values.reshape(-1,)\n",
    "\n",
    "        for angle_to_rotate in range(360):\n",
    "            rotation_angles = np.zeros(3); rotation_angles[i] = np.radians(angle_to_rotate)\n",
    "            alpha_carbon = current_aminoacid[current_aminoacid.name == 'CA'][['x', 'y', 'z']].values.reshape(-1,)\n",
    "            alpha_carbon = (rotation_matrix(*rotation_angles) @ np.append(alpha_carbon, 1))[:3]\n",
    "\n",
    "            current_normal = np.cross(carboxyl_carbon - nitrogen_amide, alpha_carbon - nitrogen_amide)\n",
    "            _current_normal = current_normal[dimensions]\n",
    "            \n",
    "            difference = l2_norm(np.cross(_current_normal, _desired_normal))\n",
    "            difference += 0 if np.all(np.sign(_current_normal) == np.sign(_desired_normal)) else np.inf\n",
    "            differences[np.radians(angle_to_rotate)] = difference\n",
    "\n",
    "        apply_rotation(rotation_matrix(min(differences, key=differences.get), 0, 0), current_aminoacid)\n",
    "    \n",
    "\n",
    "def rotate_for_peptide_bond(previous_aminoacid, current_aminoacid):\n",
    "    omega = get_desired_omega(current_aminoacid)\n",
    "    assert omega == 180.0 or omega == 0.0, 'Omega angle should be either 0 or 180!'\n",
    "    previous_normal = get_normal_from_amide_plan(previous_aminoacid, current_aminoacid, terminal='C')\n",
    "    rotate_for_normal_alignment(previous_aminoacid, current_aminoacid, previous_normal if omega == 0.0 else -previous_normal)"
   ]
  },
  {
   "cell_type": "markdown",
   "metadata": {},
   "source": [
    "* This method rotates the `current_aminoacid` in the direction of a normal of the plane $C\\alpha_{i}-C_{i}=O_{i}$ stainding at the $N_i$ so the angle $C_i-N_{i+1}-C\\alpha_{i+1}$ can be either 122 or 126 (*trans* / *cis*)."
   ]
  },
  {
   "cell_type": "code",
   "execution_count": 18,
   "metadata": {},
   "outputs": [],
   "source": [
    "def rotate_for_CNCa_angle(previous_aminoacid, current_aminoacid):\n",
    "    carboxyl_carbon = previous_aminoacid[previous_aminoacid.name == 'C'][['x', 'y', 'z']].values.reshape(-1,)\n",
    "    nitrogen_amide = current_aminoacid[current_aminoacid.name == 'N'][['x', 'y', 'z']].values.reshape(-1,)\n",
    "    alpha_carbon = current_aminoacid[current_aminoacid.name == 'CA'][['x', 'y', 'z']].values.reshape(-1,)\n",
    "\n",
    "    NC = carboxyl_carbon - nitrogen_amide\n",
    "    NCa = alpha_carbon - nitrogen_amide\n",
    "\n",
    "    plane_normal = np.cross(NCa, NC)\n",
    "    plane_vector_basis = np.array([\n",
    "        np.cross(NC, plane_normal) / l2_norm(np.cross(NC, plane_normal)), \n",
    "        NC / l2_norm(NC),\n",
    "        plane_normal / l2_norm(plane_normal)]).T\n",
    "\n",
    "    current_CNCa_angle_rad = get_angle_rad(NC, NCa, -plane_normal)\n",
    "    desired_CNCa_angle_rad = np.radians(get_desired_CNCa_angle(current_aminoacid))\n",
    "    \n",
    "    needed_rotation_rad = desired_CNCa_angle_rad - current_CNCa_angle_rad\n",
    "    \n",
    "    new_current_aminoacid = current_aminoacid.copy()\n",
    "    for i, atom in new_current_aminoacid.iterrows():\n",
    "        new_current_aminoacid.loc[i, ['x', 'y', 'z']] =\\\n",
    "            np.linalg.solve(plane_vector_basis, np.array(atom.loc[['x', 'y', 'z']].values.reshape(-1,), dtype='float'))\n",
    "    \n",
    "    apply_rotation(rotation_matrix(0, 0, needed_rotation_rad), new_current_aminoacid)\n",
    "\n",
    "    for i, atom in new_current_aminoacid.iterrows():\n",
    "        new_current_aminoacid.loc[i, ['x', 'y', 'z']] =\\\n",
    "            np.linalg.solve(np.linalg.inv(plane_vector_basis), np.array(atom.loc[['x', 'y', 'z']].values.reshape(-1,), dtype='float'))\n",
    "    \n",
    "    new_alpha_carbon = new_current_aminoacid[new_current_aminoacid.name == 'CA'][['x', 'y', 'z']].values.reshape(-1,)\n",
    "    NC = carboxyl_carbon - nitrogen_amide\n",
    "    NCa = new_alpha_carbon - nitrogen_amide"
   ]
  },
  {
   "cell_type": "code",
   "execution_count": 19,
   "metadata": {},
   "outputs": [],
   "source": [
    "def dehydration(aminoacid1, aminoacid2):\n",
    "    aminoacid1 = aminoacid1[~aminoacid1.name.isin(['OC', 'HC'])]    "
   ]
  },
  {
   "cell_type": "markdown",
   "metadata": {},
   "source": [
    "__________________________\n",
    "* Functions to verify the constrains regarding angles and distances in the amide plane."
   ]
  },
  {
   "cell_type": "code",
   "execution_count": 20,
   "metadata": {},
   "outputs": [],
   "source": [
    "def check_peptide_bond_length(previous_aminoacid, current_aminoacid):\n",
    "    a = previous_aminoacid[previous_aminoacid.name == 'C'][['x', 'y', 'z']].values.reshape(-1,)\n",
    "    b = current_aminoacid[current_aminoacid.name == 'N'][['x', 'y', 'z']].values.reshape(-1,)\n",
    "    print('euclidean_distance for the peptide bond between %s and %s: %.2f' % \n",
    "          (previous_aminoacid.aminoacid[0], current_aminoacid.aminoacid[0], euclidean_distance(a, b)))\n",
    "    \n",
    "def check_OCN_angle(previous_aminoacid, current_aminoacid):\n",
    "    c = previous_aminoacid[previous_aminoacid.name == 'C'][['x', 'y', 'z']].values.reshape(-1,)\n",
    "    n = current_aminoacid[current_aminoacid.name == 'N'][['x', 'y', 'z']].values.reshape(-1,)\n",
    "    o = previous_aminoacid[previous_aminoacid.name == 'O'][['x', 'y', 'z']].values.reshape(-1,)\n",
    "    print('O-C-N Angle for the peptide bond between %s and %s:        %.2f' % \n",
    "          (previous_aminoacid.aminoacid[0], current_aminoacid.aminoacid[0], abs(180*get_angle_rad(o-c, n-c, (o-c))/np.pi)))"
   ]
  },
  {
   "cell_type": "code",
   "execution_count": 22,
   "metadata": {
    "scrolled": false
   },
   "outputs": [],
   "source": [
    "aminoacids_df = load_aminoacids()\n",
    "for i in range(1, len(aminoacids_df)):\n",
    "    current_aminoacid = aminoacids_df[i]\n",
    "    previous_aminoacid = aminoacids_df[i - 1]\n",
    "    \n",
    "    dehydration(previous_aminoacid, current_aminoacid)\n",
    "    translate_for_peptide_bond(previous_aminoacid, current_aminoacid)\n",
    "    rotate_for_peptide_bond(previous_aminoacid, current_aminoacid)\n",
    "\n",
    "print('last aminoacid:')\n",
    "display(current_aminoacid)"
   ]
  },
  {
   "cell_type": "markdown",
   "metadata": {},
   "source": [
    "* We have all the atoms aligned accordingly. So, let's create string rows for the pdb."
   ]
  },
  {
   "cell_type": "code",
   "execution_count": 23,
   "metadata": {},
   "outputs": [],
   "source": [
    "def write_atom_to_file(atom_row, aminoacid_seq_number, fd):\n",
    "    global atom_seq_number\n",
    "    atom_seq_number += 1\n",
    "    if 'H' not in atom_row[0]:\n",
    "        atom_row.element = ''.join(filter(str.isalpha, atom_row[0]))[0]\n",
    "        template_row =\\\n",
    "        'ATOM    '+\\\n",
    "        ('%d'%atom_seq_number).rjust(3)+\\\n",
    "        '  '+\\\n",
    "        ('%s'%atom_row[0]).rjust(3)+\\\n",
    "        ' '+\\\n",
    "        ('%s'%atom_row.aminoacid).rjust(3)+\\\n",
    "        ' A'+\\\n",
    "        ('%d'%aminoacid_seq_number).rjust(4)+\\\n",
    "        '    '+\\\n",
    "        ('%.3f'%atom_row.x).rjust(8)+\\\n",
    "        ('%.3f'%atom_row.y).rjust(8)+\\\n",
    "        ('%.3f'%atom_row.z).rjust(8)+\\\n",
    "        '  1.00  5.99           '+\\\n",
    "        ('%s\\n'%atom_row.element)\n",
    "        f.write(template_row)"
   ]
  },
  {
   "cell_type": "code",
   "execution_count": 23,
   "metadata": {},
   "outputs": [
    {
     "name": "stdout",
     "output_type": "stream",
     "text": [
      "ATOM      1    N THR A   0       0.080  -0.083   0.000  1.00  5.99           N\n",
      "\n",
      "ATOM      2   CA THR A   0       1.539  -0.033   0.000  1.00  5.99           C\n",
      "\n",
      "ATOM      3    C THR A   0       2.032   1.394   0.000  1.00  5.99           C\n",
      "\n",
      "ATOM      4    O THR A   0       1.268   2.339   0.000  1.00  5.99           O\n",
      "\n",
      "ATOM      5   CB THR A   0       2.116  -0.818  -1.226  1.00  5.99           C\n",
      "\n",
      "...\n"
     ]
    }
   ],
   "source": [
    "atom_seq_number = 0\n",
    "\n",
    "with open('assets/final_inferred_molecule.pdb', 'w') as f:\n",
    "    for idx, aminoacid in enumerate(aminoacids_df):\n",
    "        for atom_row in aminoacid.iterrows():\n",
    "            write_atom_to_file(atom_row[1], idx, f)\n",
    "\n",
    "with open(\"assets/final_inferred_molecule.pdb\") as f:\n",
    "    head = [next(f) for x in range(5)]\n",
    "print('\\n'.join(head))\n",
    "print('...')"
   ]
  },
  {
   "cell_type": "markdown",
   "metadata": {},
   "source": [
    "_________________________________________________________________________________\n",
    "_________________________________________________________________________________\n",
    "_________________________________________________________________________________\n",
    "_________________________________________________________________________________\n",
    "_________________________________________________________________________________\n",
    "_________________________________________________________________________________\n",
    "_________________________________________________________________________________\n",
    "_________________________________________________________________________________\n"
   ]
  },
  {
   "cell_type": "markdown",
   "metadata": {},
   "source": [
    "b) "
   ]
  },
  {
   "cell_type": "code",
   "execution_count": 24,
   "metadata": {},
   "outputs": [],
   "source": [
    "def create_xyz(aminoacids_sequence, phi, psi, molecule_name='test'):\n",
    "    molecules_description = [(\"\"\"\\\\n%s %.1f %.1f\"\"\" % (a, p, ps)) for a, p, ps in zip(aminoacids_sequence, phi, psi)]\n",
    "    molecules_description = ''.join(molecules_description)\n",
    "    args = \"\"\"%s\\\\n%s\\\\ncharmm22.prm%s\\\\n\\\\n\\\\n\"\"\" % (molecule_name, molecule_name, molecules_description)\n",
    "    ps = subprocess.Popen(('printf', args), stdout=subprocess.PIPE)\n",
    "    output = subprocess.check_output(('protein.exe'), stdin=ps.stdout)\n",
    "    ps.wait()"
   ]
  },
  {
   "cell_type": "code",
   "execution_count": 25,
   "metadata": {},
   "outputs": [],
   "source": [
    "import os\n",
    "def get_potential_energy(file_name):\n",
    "    return float(\n",
    "        os.popen(\n",
    "            r'printf \"%s\\ncharmm22\\nE\\n\" | analyze.exe | sed -n \"s/Total Potential Energy : //p\"' % file_name\n",
    "        ).read().strip().split()[0].replace('D', 'e'))"
   ]
  },
  {
   "cell_type": "code",
   "execution_count": 26,
   "metadata": {},
   "outputs": [],
   "source": [
    "def create_pdb(file):\n",
    "    def add_atom_info(line):\n",
    "        if len(line) > 14:\n",
    "            atom = line[12:14].strip()[0]\n",
    "            line = line + '  1.00  5.99           ' + atom\n",
    "        return line\n",
    "        \n",
    "    ps = subprocess.Popen(('printf', \"%s\\\\ncharmm22\\\\n\" % file), stdout=subprocess.PIPE)\n",
    "    output = subprocess.check_output(('xyzpdb.exe'), stdin=ps.stdout)\n",
    "    ps.wait()\n",
    "    lines = open(file + '.pdb').read().splitlines()\n",
    "    new_lines = list(map(add_atom_info, lines))\n",
    "    open(file + '.pdb', 'w').write('\\n'.join(new_lines))"
   ]
  },
  {
   "cell_type": "code",
   "execution_count": 27,
   "metadata": {},
   "outputs": [],
   "source": [
    "aminoacid_mapping = {'T': 'THR', 'C': 'CYS', 'P': 'PRO', 'S': 'SER', 'I': 'ILE', 'Q': 'GLN', 'H': 'HIS', \n",
    "                     'V': 'VAL', 'A': 'ALA', 'R': 'ARG', 'N': 'ASN', 'F': 'PHE', 'K': 'LYS',\n",
    "                     'L': 'LEU', 'G': 'GLY', 'E': 'GLU', 'D': 'ASP', 'Y': 'TYR', 'M': 'MET'}\n",
    "    \n",
    "def map_to_aminoacids(sequence):\n",
    "    return list(map(lambda char: aminoacid_mapping[char], sequence))"
   ]
  },
  {
   "cell_type": "code",
   "execution_count": 28,
   "metadata": {},
   "outputs": [],
   "source": [
    "aminoacids_names = map_to_aminoacids('MTKQEKTALNMARFIRSQTLTLLEKLNELDADEQADICESLHDHADELYRSCLARFGDDGENL')"
   ]
  },
  {
   "cell_type": "code",
   "execution_count": 29,
   "metadata": {},
   "outputs": [],
   "source": [
    "molecule_name = 'test'\n",
    "\n",
    "aminoacids_sequence, phi, psi = aminoacids_names, [180.0]*len(aminoacids_names), [180.0]*len(aminoacids_names)\n",
    "\n",
    "create_xyz(aminoacids_sequence, phi, psi, molecule_name=molecule_name)\n",
    "get_potential_energy(molecule_name)\n",
    "create_pdb(molecule_name)"
   ]
  },
  {
   "cell_type": "code",
   "execution_count": 30,
   "metadata": {},
   "outputs": [],
   "source": [
    "class GeneticAlgorithm:\n",
    "    def __init__(self, population_size, n_dimension, dimension_range):\n",
    "        self._population_size = population_size\n",
    "        self._n_dimension = n_dimension\n",
    "    \n",
    "    def create_population(self):\n",
    "        new_population = []\n",
    "        for _ in range(self.N_POPULATION // 2):\n",
    "            childrens = self.intermediate_recombination()\n",
    "            new_population.extend([self.gaussian_convolution(children) for children in childrens])\n",
    "\n",
    "        return np.clip(new_population, -180.0, 180.0)"
   ]
  },
  {
   "cell_type": "code",
   "execution_count": 31,
   "metadata": {},
   "outputs": [
    {
     "data": {
      "text/plain": [
       "<__main__.GeneticAlgorithm at 0x25ea6abc278>"
      ]
     },
     "execution_count": 31,
     "metadata": {},
     "output_type": "execute_result"
    }
   ],
   "source": [
    "GeneticAlgorithm(1, 2)"
   ]
  },
  {
   "cell_type": "code",
   "execution_count": null,
   "metadata": {},
   "outputs": [],
   "source": []
  },
  {
   "cell_type": "code",
   "execution_count": null,
   "metadata": {},
   "outputs": [],
   "source": []
  }
 ],
 "metadata": {
  "kernelspec": {
   "display_name": "Python 3",
   "language": "python",
   "name": "python3"
  },
  "language_info": {
   "codemirror_mode": {
    "name": "ipython",
    "version": 3
   },
   "file_extension": ".py",
   "mimetype": "text/x-python",
   "name": "python",
   "nbconvert_exporter": "python",
   "pygments_lexer": "ipython3",
   "version": "3.6.8"
  }
 },
 "nbformat": 4,
 "nbformat_minor": 2
}

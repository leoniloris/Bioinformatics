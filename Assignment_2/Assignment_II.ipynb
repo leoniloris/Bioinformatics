{
 "cells": [
  {
   "cell_type": "markdown",
   "metadata": {},
   "source": [
    "# Assignment II\n",
    "* Leoni Mota Loris"
   ]
  },
  {
   "cell_type": "markdown",
   "metadata": {},
   "source": [
    "* At first, Load the data."
   ]
  },
  {
   "cell_type": "code",
   "execution_count": 1,
   "metadata": {},
   "outputs": [],
   "source": [
    "import pandas as pd\n",
    "import numpy as np\n",
    "from mpl_toolkits.mplot3d import Axes3D\n",
    "import matplotlib.pyplot as plt"
   ]
  },
  {
   "cell_type": "code",
   "execution_count": 2,
   "metadata": {},
   "outputs": [],
   "source": [
    "from collections import namedtuple\n",
    "\n",
    "Atom = namedtuple('Atom', ['name', 'element', 'aminoacid', 'x', 'y', 'z', 'h', 'residue_seq_number'])\n",
    "\n",
    "Atom.parse_name = lambda string: string[12:16].strip()\n",
    "Atom.parse_element = lambda string: string[12] if len(string.strip()) < 78 \\\n",
    "                     else string[76:78].strip()\n",
    "Atom.parse_aminoacid = lambda string: string[17:20].strip()\n",
    "Atom.parse_x = lambda string: float(string[30:38].strip())\n",
    "Atom.parse_y = lambda string: float(string[38:46].strip())\n",
    "Atom.parse_z = lambda string: float(string[46:54].strip())\n",
    "Atom.parse_residue_seq_number = lambda string: int(string[23:30].strip())\n",
    "\n",
    "Atom.parse = lambda string: Atom(\n",
    "    Atom.parse_name(string), Atom.parse_element(string), Atom.parse_aminoacid(string),\n",
    "    Atom.parse_y(string), Atom.parse_x(string), Atom.parse_z(string), 1,Atom.parse_residue_seq_number(string))"
   ]
  },
  {
   "cell_type": "code",
   "execution_count": 3,
   "metadata": {},
   "outputs": [],
   "source": [
    "def read_molecule(path):\n",
    "    atoms = []\n",
    "    with open(path, 'r') as f:\n",
    "        for line in f:\n",
    "            if line.startswith('ATOM'):\n",
    "                try:\n",
    "                    atoms.append(Atom.parse(line))\n",
    "                except Exception as e:\n",
    "                    print(e)\n",
    "    return pd.DataFrame(atoms)"
   ]
  },
  {
   "cell_type": "code",
   "execution_count": 4,
   "metadata": {},
   "outputs": [
    {
     "data": {
      "text/html": [
       "<div>\n",
       "<style scoped>\n",
       "    .dataframe tbody tr th:only-of-type {\n",
       "        vertical-align: middle;\n",
       "    }\n",
       "\n",
       "    .dataframe tbody tr th {\n",
       "        vertical-align: top;\n",
       "    }\n",
       "\n",
       "    .dataframe thead th {\n",
       "        text-align: right;\n",
       "    }\n",
       "</style>\n",
       "<table border=\"1\" class=\"dataframe\">\n",
       "  <thead>\n",
       "    <tr style=\"text-align: right;\">\n",
       "      <th></th>\n",
       "      <th>name</th>\n",
       "      <th>element</th>\n",
       "      <th>aminoacid</th>\n",
       "      <th>x</th>\n",
       "      <th>y</th>\n",
       "      <th>z</th>\n",
       "      <th>h</th>\n",
       "      <th>residue_seq_number</th>\n",
       "    </tr>\n",
       "  </thead>\n",
       "  <tbody>\n",
       "    <tr>\n",
       "      <th>0</th>\n",
       "      <td>N</td>\n",
       "      <td>N</td>\n",
       "      <td>THR</td>\n",
       "      <td>14.099</td>\n",
       "      <td>17.047</td>\n",
       "      <td>3.625</td>\n",
       "      <td>1</td>\n",
       "      <td>1</td>\n",
       "    </tr>\n",
       "    <tr>\n",
       "      <th>1</th>\n",
       "      <td>CA</td>\n",
       "      <td>C</td>\n",
       "      <td>THR</td>\n",
       "      <td>12.784</td>\n",
       "      <td>16.967</td>\n",
       "      <td>4.338</td>\n",
       "      <td>1</td>\n",
       "      <td>1</td>\n",
       "    </tr>\n",
       "    <tr>\n",
       "      <th>2</th>\n",
       "      <td>C</td>\n",
       "      <td>C</td>\n",
       "      <td>THR</td>\n",
       "      <td>12.755</td>\n",
       "      <td>15.685</td>\n",
       "      <td>5.133</td>\n",
       "      <td>1</td>\n",
       "      <td>1</td>\n",
       "    </tr>\n",
       "    <tr>\n",
       "      <th>3</th>\n",
       "      <td>O</td>\n",
       "      <td>O</td>\n",
       "      <td>THR</td>\n",
       "      <td>13.825</td>\n",
       "      <td>15.268</td>\n",
       "      <td>5.594</td>\n",
       "      <td>1</td>\n",
       "      <td>1</td>\n",
       "    </tr>\n",
       "    <tr>\n",
       "      <th>4</th>\n",
       "      <td>CB</td>\n",
       "      <td>C</td>\n",
       "      <td>THR</td>\n",
       "      <td>12.703</td>\n",
       "      <td>18.170</td>\n",
       "      <td>5.337</td>\n",
       "      <td>1</td>\n",
       "      <td>1</td>\n",
       "    </tr>\n",
       "    <tr>\n",
       "      <th>5</th>\n",
       "      <td>OG1</td>\n",
       "      <td>O</td>\n",
       "      <td>THR</td>\n",
       "      <td>12.829</td>\n",
       "      <td>19.334</td>\n",
       "      <td>4.463</td>\n",
       "      <td>1</td>\n",
       "      <td>1</td>\n",
       "    </tr>\n",
       "    <tr>\n",
       "      <th>6</th>\n",
       "      <td>CG2</td>\n",
       "      <td>C</td>\n",
       "      <td>THR</td>\n",
       "      <td>11.546</td>\n",
       "      <td>18.150</td>\n",
       "      <td>6.304</td>\n",
       "      <td>1</td>\n",
       "      <td>1</td>\n",
       "    </tr>\n",
       "    <tr>\n",
       "      <th>7</th>\n",
       "      <td>N</td>\n",
       "      <td>N</td>\n",
       "      <td>THR</td>\n",
       "      <td>11.555</td>\n",
       "      <td>15.115</td>\n",
       "      <td>5.265</td>\n",
       "      <td>1</td>\n",
       "      <td>2</td>\n",
       "    </tr>\n",
       "    <tr>\n",
       "      <th>8</th>\n",
       "      <td>CA</td>\n",
       "      <td>C</td>\n",
       "      <td>THR</td>\n",
       "      <td>11.469</td>\n",
       "      <td>13.856</td>\n",
       "      <td>6.066</td>\n",
       "      <td>1</td>\n",
       "      <td>2</td>\n",
       "    </tr>\n",
       "    <tr>\n",
       "      <th>9</th>\n",
       "      <td>C</td>\n",
       "      <td>C</td>\n",
       "      <td>THR</td>\n",
       "      <td>10.785</td>\n",
       "      <td>14.164</td>\n",
       "      <td>7.379</td>\n",
       "      <td>1</td>\n",
       "      <td>2</td>\n",
       "    </tr>\n",
       "  </tbody>\n",
       "</table>\n",
       "</div>"
      ],
      "text/plain": [
       "  name element aminoacid       x       y      z  h  residue_seq_number\n",
       "0    N       N       THR  14.099  17.047  3.625  1                   1\n",
       "1   CA       C       THR  12.784  16.967  4.338  1                   1\n",
       "2    C       C       THR  12.755  15.685  5.133  1                   1\n",
       "3    O       O       THR  13.825  15.268  5.594  1                   1\n",
       "4   CB       C       THR  12.703  18.170  5.337  1                   1\n",
       "5  OG1       O       THR  12.829  19.334  4.463  1                   1\n",
       "6  CG2       C       THR  11.546  18.150  6.304  1                   1\n",
       "7    N       N       THR  11.555  15.115  5.265  1                   2\n",
       "8   CA       C       THR  11.469  13.856  6.066  1                   2\n",
       "9    C       C       THR  10.785  14.164  7.379  1                   2"
      ]
     },
     "execution_count": 4,
     "metadata": {},
     "output_type": "execute_result"
    }
   ],
   "source": [
    "crambin = read_molecule('assets/1crn.pdb')\n",
    "crambin[:10]"
   ]
  },
  {
   "cell_type": "code",
   "execution_count": 5,
   "metadata": {},
   "outputs": [],
   "source": [
    "import re\n",
    "hsv = plt.get_cmap('hsv')\n",
    "\n",
    "def plot_molecule(molecule):\n",
    "    fig = plt.figure(figsize=(16, 9))\n",
    "    atoms = list(map(lambda n: re.findall('[A-Z]+', n)[0], molecule.name))\n",
    "    indexes_aminoacids = {name: i for i, name in enumerate(atoms)}\n",
    "    def aminoacid_name_to_color(name):\n",
    "        return hsv(indexes_aminoacids[name] / (len(indexes_aminoacids) - 1))\n",
    "\n",
    "    ax = fig.add_subplot(111, projection='3d')\n",
    "    ax.scatter(molecule.x, molecule.y, molecule.z, c=list(map(aminoacid_name_to_color, atoms)), s=70)\n",
    "    ax.set_xlabel('X');ax.set_ylabel('Y');ax.set_zlabel('Z')\n",
    "\n",
    "    plt.show()"
   ]
  },
  {
   "cell_type": "markdown",
   "metadata": {},
   "source": [
    "## Question 1"
   ]
  },
  {
   "cell_type": "markdown",
   "metadata": {},
   "source": [
    "### a)"
   ]
  },
  {
   "cell_type": "markdown",
   "metadata": {},
   "source": [
    "* I) First we need to map the sequence of characters as in:\n",
    "\n",
    "**TTCCPSIVARSNFNVCRLPGTPEAICATYTGCIIIPGATTCPGDYAN**\n",
    "to a sequence of amino acids \n",
    "\n",
    "* II) And then, infer the position of each atom of the amino acid from a standard reference ($\\alpha$ carbon) \n",
    "\n",
    "\n",
    "* III) Infer the position of multiple amino acids based on the peptide bond."
   ]
  },
  {
   "cell_type": "markdown",
   "metadata": {},
   "source": [
    "#### I) map the sequence of characters"
   ]
  },
  {
   "cell_type": "code",
   "execution_count": 6,
   "metadata": {},
   "outputs": [],
   "source": [
    "aminoacid_mapping = {'T': 'THR', 'C': 'CYS', 'P': 'PRO', 'S': 'SER', 'I': 'ILE',\n",
    "                     'V': 'VAL', 'A': 'ALA', 'R': 'ARG', 'N': 'ASN', 'F': 'PHE',\n",
    "                     'L': 'LEU', 'G': 'GLY', 'E': 'GLU', 'D': 'ASP', 'Y': 'TYR'}\n",
    "    \n",
    "def map_to_aminoacids(sequence):\n",
    "    return list(map(lambda char: aminoacid_mapping[char], sequence))"
   ]
  },
  {
   "cell_type": "code",
   "execution_count": 7,
   "metadata": {},
   "outputs": [],
   "source": [
    "aminoacid_sequence = 'TTCCPSIVARSNFNVCRLPGTPEAICATYTGCIIIPGATTCPGDYAN'"
   ]
  },
  {
   "cell_type": "code",
   "execution_count": 8,
   "metadata": {},
   "outputs": [],
   "source": [
    "aminoacids_names = map_to_aminoacids(aminoacid_sequence)"
   ]
  },
  {
   "cell_type": "markdown",
   "metadata": {},
   "source": [
    "______________________________________________________________________________________________________________\n",
    "______________________________________________________________________________________________________________\n",
    "______________________________________________________________________________________________________________\n",
    "______________________________________________________________________________________________________________\n",
    "    "
   ]
  },
  {
   "cell_type": "markdown",
   "metadata": {},
   "source": [
    "#### II) infer the position of each atom of the amino acid. For this part, it is not well defined on how to infer the positions.\n",
    "\n",
    "\n",
    "* We could map this sequence to known sequences of the PDB and hope it is a known protein. This is called \n",
    "**Homology Modelling** (**SWISS-MODEL** is an example).\n",
    "\n",
    "\n",
    "* *Or*, we could predict the protein structure using an any number of softwares such as **I-TASSER (Iterative Threading ASSEmbly Refinement)**\n",
    "\n",
    "\n",
    "We're are going to use both and compare the results."
   ]
  },
  {
   "cell_type": "markdown",
   "metadata": {},
   "source": [
    "I-TASSER:\n",
    "![assets/TASSER.png](assets/TASSER.png)"
   ]
  },
  {
   "cell_type": "markdown",
   "metadata": {},
   "source": [
    "  "
   ]
  },
  {
   "cell_type": "markdown",
   "metadata": {},
   "source": [
    "  "
   ]
  },
  {
   "cell_type": "markdown",
   "metadata": {},
   "source": [
    " "
   ]
  },
  {
   "cell_type": "markdown",
   "metadata": {},
   "source": [
    " "
   ]
  },
  {
   "cell_type": "markdown",
   "metadata": {},
   "source": [
    "* But, if we're not using something already pre-defined, we should get the pdb file for each of those amino acids and infer the position of each amino acid by the peptide bond.\n",
    "\n",
    "*Obs.:* PDB's for each amino acid were downloaded here:\n",
    "https://www.nyu.edu/pages/mathmol/library/life/life1.html"
   ]
  },
  {
   "cell_type": "code",
   "execution_count": 9,
   "metadata": {},
   "outputs": [],
   "source": [
    "aminoacids_df = list(map(lambda aminoacid_name: read_molecule('assets/' + aminoacid_name + '.pdb'), aminoacids_names))"
   ]
  },
  {
   "cell_type": "code",
   "execution_count": 10,
   "metadata": {},
   "outputs": [
    {
     "data": {
      "text/html": [
       "<div>\n",
       "<style scoped>\n",
       "    .dataframe tbody tr th:only-of-type {\n",
       "        vertical-align: middle;\n",
       "    }\n",
       "\n",
       "    .dataframe tbody tr th {\n",
       "        vertical-align: top;\n",
       "    }\n",
       "\n",
       "    .dataframe thead th {\n",
       "        text-align: right;\n",
       "    }\n",
       "</style>\n",
       "<table border=\"1\" class=\"dataframe\">\n",
       "  <thead>\n",
       "    <tr style=\"text-align: right;\">\n",
       "      <th></th>\n",
       "      <th>name</th>\n",
       "      <th>element</th>\n",
       "      <th>aminoacid</th>\n",
       "      <th>x</th>\n",
       "      <th>y</th>\n",
       "      <th>z</th>\n",
       "      <th>h</th>\n",
       "      <th>residue_seq_number</th>\n",
       "    </tr>\n",
       "  </thead>\n",
       "  <tbody>\n",
       "    <tr>\n",
       "      <th>0</th>\n",
       "      <td>N</td>\n",
       "      <td></td>\n",
       "      <td>THR</td>\n",
       "      <td>-0.083</td>\n",
       "      <td>0.080</td>\n",
       "      <td>0.000</td>\n",
       "      <td>1</td>\n",
       "      <td>1</td>\n",
       "    </tr>\n",
       "    <tr>\n",
       "      <th>1</th>\n",
       "      <td>CA</td>\n",
       "      <td></td>\n",
       "      <td>THR</td>\n",
       "      <td>-0.033</td>\n",
       "      <td>1.539</td>\n",
       "      <td>0.000</td>\n",
       "      <td>1</td>\n",
       "      <td>1</td>\n",
       "    </tr>\n",
       "    <tr>\n",
       "      <th>2</th>\n",
       "      <td>C</td>\n",
       "      <td></td>\n",
       "      <td>THR</td>\n",
       "      <td>1.394</td>\n",
       "      <td>2.032</td>\n",
       "      <td>0.000</td>\n",
       "      <td>1</td>\n",
       "      <td>1</td>\n",
       "    </tr>\n",
       "    <tr>\n",
       "      <th>3</th>\n",
       "      <td>O</td>\n",
       "      <td></td>\n",
       "      <td>THR</td>\n",
       "      <td>2.339</td>\n",
       "      <td>1.268</td>\n",
       "      <td>0.000</td>\n",
       "      <td>1</td>\n",
       "      <td>1</td>\n",
       "    </tr>\n",
       "    <tr>\n",
       "      <th>4</th>\n",
       "      <td>CB</td>\n",
       "      <td></td>\n",
       "      <td>THR</td>\n",
       "      <td>-0.818</td>\n",
       "      <td>2.116</td>\n",
       "      <td>-1.226</td>\n",
       "      <td>1</td>\n",
       "      <td>1</td>\n",
       "    </tr>\n",
       "    <tr>\n",
       "      <th>5</th>\n",
       "      <td>OG1</td>\n",
       "      <td></td>\n",
       "      <td>THR</td>\n",
       "      <td>-2.188</td>\n",
       "      <td>1.743</td>\n",
       "      <td>-1.162</td>\n",
       "      <td>1</td>\n",
       "      <td>1</td>\n",
       "    </tr>\n",
       "    <tr>\n",
       "      <th>6</th>\n",
       "      <td>CG2</td>\n",
       "      <td></td>\n",
       "      <td>THR</td>\n",
       "      <td>-0.842</td>\n",
       "      <td>3.654</td>\n",
       "      <td>-1.361</td>\n",
       "      <td>1</td>\n",
       "      <td>1</td>\n",
       "    </tr>\n",
       "    <tr>\n",
       "      <th>7</th>\n",
       "      <td>1H</td>\n",
       "      <td>1</td>\n",
       "      <td>THR</td>\n",
       "      <td>0.813</td>\n",
       "      <td>-0.523</td>\n",
       "      <td>0.000</td>\n",
       "      <td>1</td>\n",
       "      <td>1</td>\n",
       "    </tr>\n",
       "    <tr>\n",
       "      <th>8</th>\n",
       "      <td>2H</td>\n",
       "      <td>2</td>\n",
       "      <td>THR</td>\n",
       "      <td>-1.018</td>\n",
       "      <td>-0.461</td>\n",
       "      <td>0.000</td>\n",
       "      <td>1</td>\n",
       "      <td>1</td>\n",
       "    </tr>\n",
       "    <tr>\n",
       "      <th>9</th>\n",
       "      <td>HA</td>\n",
       "      <td></td>\n",
       "      <td>THR</td>\n",
       "      <td>-0.508</td>\n",
       "      <td>1.904</td>\n",
       "      <td>0.929</td>\n",
       "      <td>1</td>\n",
       "      <td>1</td>\n",
       "    </tr>\n",
       "    <tr>\n",
       "      <th>10</th>\n",
       "      <td>HB</td>\n",
       "      <td></td>\n",
       "      <td>THR</td>\n",
       "      <td>-0.378</td>\n",
       "      <td>1.691</td>\n",
       "      <td>-2.154</td>\n",
       "      <td>1</td>\n",
       "      <td>1</td>\n",
       "    </tr>\n",
       "    <tr>\n",
       "      <th>11</th>\n",
       "      <td>HG1</td>\n",
       "      <td></td>\n",
       "      <td>THR</td>\n",
       "      <td>-2.592</td>\n",
       "      <td>2.066</td>\n",
       "      <td>-1.973</td>\n",
       "      <td>1</td>\n",
       "      <td>1</td>\n",
       "    </tr>\n",
       "    <tr>\n",
       "      <th>12</th>\n",
       "      <td>1HG2</td>\n",
       "      <td>1</td>\n",
       "      <td>THR</td>\n",
       "      <td>-1.433</td>\n",
       "      <td>3.986</td>\n",
       "      <td>-2.235</td>\n",
       "      <td>1</td>\n",
       "      <td>1</td>\n",
       "    </tr>\n",
       "    <tr>\n",
       "      <th>13</th>\n",
       "      <td>2HG2</td>\n",
       "      <td>2</td>\n",
       "      <td>THR</td>\n",
       "      <td>0.168</td>\n",
       "      <td>4.083</td>\n",
       "      <td>-1.502</td>\n",
       "      <td>1</td>\n",
       "      <td>1</td>\n",
       "    </tr>\n",
       "    <tr>\n",
       "      <th>14</th>\n",
       "      <td>3HG2</td>\n",
       "      <td>3</td>\n",
       "      <td>THR</td>\n",
       "      <td>-1.279</td>\n",
       "      <td>4.138</td>\n",
       "      <td>-0.467</td>\n",
       "      <td>1</td>\n",
       "      <td>1</td>\n",
       "    </tr>\n",
       "    <tr>\n",
       "      <th>15</th>\n",
       "      <td>OC</td>\n",
       "      <td></td>\n",
       "      <td>THR</td>\n",
       "      <td>1.567</td>\n",
       "      <td>3.452</td>\n",
       "      <td>0.000</td>\n",
       "      <td>1</td>\n",
       "      <td>1</td>\n",
       "    </tr>\n",
       "    <tr>\n",
       "      <th>16</th>\n",
       "      <td>HC</td>\n",
       "      <td></td>\n",
       "      <td>THR</td>\n",
       "      <td>0.645</td>\n",
       "      <td>3.911</td>\n",
       "      <td>0.000</td>\n",
       "      <td>1</td>\n",
       "      <td>1</td>\n",
       "    </tr>\n",
       "  </tbody>\n",
       "</table>\n",
       "</div>"
      ],
      "text/plain": [
       "    name element aminoacid      x      y      z  h  residue_seq_number\n",
       "0      N               THR -0.083  0.080  0.000  1                   1\n",
       "1     CA               THR -0.033  1.539  0.000  1                   1\n",
       "2      C               THR  1.394  2.032  0.000  1                   1\n",
       "3      O               THR  2.339  1.268  0.000  1                   1\n",
       "4     CB               THR -0.818  2.116 -1.226  1                   1\n",
       "5    OG1               THR -2.188  1.743 -1.162  1                   1\n",
       "6    CG2               THR -0.842  3.654 -1.361  1                   1\n",
       "7     1H       1       THR  0.813 -0.523  0.000  1                   1\n",
       "8     2H       2       THR -1.018 -0.461  0.000  1                   1\n",
       "9     HA               THR -0.508  1.904  0.929  1                   1\n",
       "10    HB               THR -0.378  1.691 -2.154  1                   1\n",
       "11   HG1               THR -2.592  2.066 -1.973  1                   1\n",
       "12  1HG2       1       THR -1.433  3.986 -2.235  1                   1\n",
       "13  2HG2       2       THR  0.168  4.083 -1.502  1                   1\n",
       "14  3HG2       3       THR -1.279  4.138 -0.467  1                   1\n",
       "15    OC               THR  1.567  3.452  0.000  1                   1\n",
       "16    HC               THR  0.645  3.911  0.000  1                   1"
      ]
     },
     "metadata": {},
     "output_type": "display_data"
    }
   ],
   "source": [
    "display(aminoacids_df[0])"
   ]
  },
  {
   "cell_type": "markdown",
   "metadata": {},
   "source": [
    "______________________________________________________________________________________________________________\n",
    "______________________________________________________________________________________________________________\n",
    "______________________________________________________________________________________________________________\n",
    "______________________________________________________________________________________________________________\n",
    "    "
   ]
  },
  {
   "cell_type": "markdown",
   "metadata": {},
   "source": [
    "#### III) Infer the position of multiple amino acids based on the peptide bond.\n",
    "\n",
    "\n",
    "* After the nucleotilic attack the resonance delocalization of electrons in the peptide bond forces the creation of a plane where the atoms will be located (amide plan)."
   ]
  },
  {
   "cell_type": "code",
   "execution_count": 11,
   "metadata": {},
   "outputs": [
    {
     "ename": "NameError",
     "evalue": "name 'transformation2' is not defined",
     "output_type": "error",
     "traceback": [
      "\u001b[1;31m---------------------------------------------------------------------------\u001b[0m",
      "\u001b[1;31mNameError\u001b[0m                                 Traceback (most recent call last)",
      "\u001b[1;32m<ipython-input-11-36deab1d2594>\u001b[0m in \u001b[0;36m<module>\u001b[1;34m\u001b[0m\n\u001b[0;32m     24\u001b[0m     \u001b[1;32mreturn\u001b[0m \u001b[0mtransformation\u001b[0m\u001b[1;33m.\u001b[0m\u001b[0mdot\u001b[0m\u001b[1;33m(\u001b[0m\u001b[0mhomogeneous_coordinates\u001b[0m\u001b[1;33m.\u001b[0m\u001b[0mvalues\u001b[0m\u001b[1;33m.\u001b[0m\u001b[0mT\u001b[0m\u001b[1;33m)\u001b[0m\u001b[1;33m.\u001b[0m\u001b[0mT\u001b[0m\u001b[1;33m[\u001b[0m\u001b[1;33m:\u001b[0m\u001b[1;33m,\u001b[0m \u001b[1;33m:\u001b[0m\u001b[1;33m-\u001b[0m\u001b[1;36m1\u001b[0m\u001b[1;33m]\u001b[0m\u001b[1;33m\u001b[0m\u001b[1;33m\u001b[0m\u001b[0m\n\u001b[0;32m     25\u001b[0m \u001b[1;33m\u001b[0m\u001b[0m\n\u001b[1;32m---> 26\u001b[1;33m \u001b[0mmolecule2\u001b[0m\u001b[1;33m[\u001b[0m\u001b[1;33m[\u001b[0m\u001b[1;34m'x'\u001b[0m\u001b[1;33m,\u001b[0m \u001b[1;34m'y'\u001b[0m\u001b[1;33m,\u001b[0m\u001b[1;34m'z'\u001b[0m\u001b[1;33m]\u001b[0m\u001b[1;33m]\u001b[0m \u001b[1;33m=\u001b[0m \u001b[0mapply_transformations\u001b[0m\u001b[1;33m(\u001b[0m\u001b[0mtransformation2\u001b[0m\u001b[1;33m,\u001b[0m \u001b[0mmolecule2\u001b[0m\u001b[1;33m)\u001b[0m\u001b[1;33m\u001b[0m\u001b[1;33m\u001b[0m\u001b[0m\n\u001b[0m",
      "\u001b[1;31mNameError\u001b[0m: name 'transformation2' is not defined"
     ]
    }
   ],
   "source": [
    "import numpy as np\n",
    "\n",
    "def translation_matrix(delta_x, delta_y, delta_z, ref_x=.0, ref_y=.0, ref_z=.0):\n",
    "    T = np.eye(4)\n",
    "    T[0, -1], T[1, -1], T[2, -1] = delta_x - ref_x, delta_y - ref_y, delta_z - ref_z\n",
    "    return T\n",
    "\n",
    "def rotation_matrix(x_rotation_rad, y_rotation_rad, z_rotation_rad):\n",
    "    Rx, Ry, Rz = np.eye(4), np.eye(4), np.eye(4)\n",
    "\n",
    "    Rx[1, 1], Rx[1, 2], Rx[2, 1], Rx[2, 2] =\\\n",
    "        np.cos(x_rotation_rad), -np.sin(x_rotation_rad), np.sin(x_rotation_rad), np.cos(x_rotation_rad)\n",
    "\n",
    "    Ry[0, 0], Ry[0, 2], Ry[2, 0], Rx[2, 2] =\\\n",
    "        np.cos(y_rotation_rad), np.sin(y_rotation_rad), -np.sin(y_rotation_rad), np.cos(y_rotation_rad)\n",
    "\n",
    "    Rz[0, 0], Rx[0, 1], Rx[1, 0], Rx[1, 1] =\\\n",
    "        np.cos(z_rotation_rad), -np.sin(z_rotation_rad), np.sin(z_rotation_rad), np.cos(z_rotation_rad)\n",
    "\n",
    "    return Rx * Ry * Rz\n",
    "\n",
    "def apply_transformations(transformation, df):\n",
    "    homogeneous_coordinates = df[['x', 'y', 'z']].copy()\n",
    "    return transformation.dot(homogeneous_coordinates.values.T).T[:, :-1]\n",
    "\n",
    "molecule2[['x', 'y','z']] = apply_transformations(transformation2, molecule2)"
   ]
  },
  {
   "cell_type": "code",
   "execution_count": 119,
   "metadata": {},
   "outputs": [],
   "source": [
    "def form_pepitide_bond(previous_aminoacid, current_aminoacid):\n",
    "    previous_aminoacid[previous_aminoacid.name == 'C']\n",
    "    \n",
    "\n",
    "for i in range(1, len(aminoacids_df)):\n",
    "    current_aminoacid = aminoacids_df[i]\n",
    "    previous_aminoacid = aminoacids_df[i - 1]\n",
    "    form_pepitide_bond(previous_aminoacid, current_aminoacid)"
   ]
  },
  {
   "cell_type": "code",
   "execution_count": null,
   "metadata": {},
   "outputs": [],
   "source": []
  },
  {
   "cell_type": "code",
   "execution_count": null,
   "metadata": {},
   "outputs": [],
   "source": []
  },
  {
   "cell_type": "code",
   "execution_count": null,
   "metadata": {},
   "outputs": [],
   "source": []
  },
  {
   "cell_type": "code",
   "execution_count": null,
   "metadata": {},
   "outputs": [],
   "source": []
  },
  {
   "cell_type": "code",
   "execution_count": null,
   "metadata": {},
   "outputs": [],
   "source": []
  },
  {
   "cell_type": "code",
   "execution_count": null,
   "metadata": {},
   "outputs": [],
   "source": []
  },
  {
   "cell_type": "code",
   "execution_count": null,
   "metadata": {},
   "outputs": [],
   "source": []
  },
  {
   "cell_type": "code",
   "execution_count": null,
   "metadata": {},
   "outputs": [],
   "source": []
  },
  {
   "cell_type": "code",
   "execution_count": null,
   "metadata": {},
   "outputs": [],
   "source": []
  },
  {
   "cell_type": "code",
   "execution_count": null,
   "metadata": {},
   "outputs": [],
   "source": []
  },
  {
   "cell_type": "code",
   "execution_count": null,
   "metadata": {},
   "outputs": [],
   "source": []
  },
  {
   "cell_type": "code",
   "execution_count": null,
   "metadata": {},
   "outputs": [],
   "source": []
  },
  {
   "cell_type": "code",
   "execution_count": null,
   "metadata": {},
   "outputs": [],
   "source": []
  },
  {
   "cell_type": "code",
   "execution_count": null,
   "metadata": {},
   "outputs": [],
   "source": []
  },
  {
   "cell_type": "code",
   "execution_count": null,
   "metadata": {},
   "outputs": [],
   "source": []
  },
  {
   "cell_type": "code",
   "execution_count": null,
   "metadata": {},
   "outputs": [],
   "source": []
  },
  {
   "cell_type": "code",
   "execution_count": null,
   "metadata": {},
   "outputs": [],
   "source": []
  },
  {
   "cell_type": "code",
   "execution_count": null,
   "metadata": {},
   "outputs": [],
   "source": []
  },
  {
   "cell_type": "code",
   "execution_count": null,
   "metadata": {},
   "outputs": [],
   "source": []
  },
  {
   "cell_type": "code",
   "execution_count": null,
   "metadata": {},
   "outputs": [],
   "source": []
  },
  {
   "cell_type": "code",
   "execution_count": null,
   "metadata": {},
   "outputs": [],
   "source": []
  },
  {
   "cell_type": "code",
   "execution_count": null,
   "metadata": {},
   "outputs": [],
   "source": []
  }
 ],
 "metadata": {
  "kernelspec": {
   "display_name": "Python 3",
   "language": "python",
   "name": "python3"
  },
  "language_info": {
   "codemirror_mode": {
    "name": "ipython",
    "version": 3
   },
   "file_extension": ".py",
   "mimetype": "text/x-python",
   "name": "python",
   "nbconvert_exporter": "python",
   "pygments_lexer": "ipython3",
   "version": "3.6.8"
  }
 },
 "nbformat": 4,
 "nbformat_minor": 2
}

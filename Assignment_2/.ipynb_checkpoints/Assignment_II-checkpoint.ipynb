{
 "cells": [
  {
   "cell_type": "markdown",
   "metadata": {},
   "source": [
    "# Assignment II\n",
    "* Leoni Mota Loris"
   ]
  },
  {
   "cell_type": "markdown",
   "metadata": {},
   "source": [
    "* At first, Load the data."
   ]
  },
  {
   "cell_type": "code",
   "execution_count": 96,
   "metadata": {},
   "outputs": [],
   "source": [
    "import pandas as pd\n",
    "import numpy as np\n",
    "from mpl_toolkits.mplot3d import Axes3D\n",
    "import matplotlib.pyplot as plt"
   ]
  },
  {
   "cell_type": "code",
   "execution_count": 3,
   "metadata": {},
   "outputs": [],
   "source": [
    "from collections import namedtuple\n",
    "\n",
    "Atom = namedtuple('Atom', ['name', 'element', 'aminoacid', 'x', 'y', 'z', 'residue_seq_number'])\n",
    "\n",
    "Atom.parse_name = lambda string: string[12:16].strip()\n",
    "Atom.parse_element = lambda string: string[12] if len(string.strip()) < 78 \\\n",
    "                     else string[76:78].strip()\n",
    "Atom.parse_aminoacid = lambda string: string[17:20].strip()\n",
    "Atom.parse_x = lambda string: float(string[30:38].strip())\n",
    "Atom.parse_y = lambda string: float(string[38:46].strip())\n",
    "Atom.parse_z = lambda string: float(string[46:54].strip())\n",
    "Atom.parse_residue_seq_number = lambda string: int(string[23:30].strip())\n",
    "\n",
    "Atom.parse = lambda string: Atom(\n",
    "    Atom.parse_name(string), Atom.parse_element(string), Atom.parse_aminoacid(string),\n",
    "    Atom.parse_y(string), Atom.parse_x(string), Atom.parse_z(string), Atom.parse_residue_seq_number(string))"
   ]
  },
  {
   "cell_type": "code",
   "execution_count": 4,
   "metadata": {},
   "outputs": [],
   "source": [
    "def read_molecule(path):\n",
    "    atoms = []\n",
    "    with open(path, 'r') as f:\n",
    "        for line in f:\n",
    "            if line.startswith('ATOM'):\n",
    "                try:\n",
    "                    atoms.append(Atom.parse(line))\n",
    "                except Exception as e:\n",
    "                    print(e)\n",
    "    return pd.DataFrame(atoms)"
   ]
  },
  {
   "cell_type": "code",
   "execution_count": 28,
   "metadata": {},
   "outputs": [
    {
     "data": {
      "text/html": [
       "<div>\n",
       "<style scoped>\n",
       "    .dataframe tbody tr th:only-of-type {\n",
       "        vertical-align: middle;\n",
       "    }\n",
       "\n",
       "    .dataframe tbody tr th {\n",
       "        vertical-align: top;\n",
       "    }\n",
       "\n",
       "    .dataframe thead th {\n",
       "        text-align: right;\n",
       "    }\n",
       "</style>\n",
       "<table border=\"1\" class=\"dataframe\">\n",
       "  <thead>\n",
       "    <tr style=\"text-align: right;\">\n",
       "      <th></th>\n",
       "      <th>name</th>\n",
       "      <th>element</th>\n",
       "      <th>aminoacid</th>\n",
       "      <th>x</th>\n",
       "      <th>y</th>\n",
       "      <th>z</th>\n",
       "      <th>residue_seq_number</th>\n",
       "    </tr>\n",
       "  </thead>\n",
       "  <tbody>\n",
       "    <tr>\n",
       "      <th>0</th>\n",
       "      <td>N</td>\n",
       "      <td>N</td>\n",
       "      <td>THR</td>\n",
       "      <td>14.099</td>\n",
       "      <td>17.047</td>\n",
       "      <td>3.625</td>\n",
       "      <td>1</td>\n",
       "    </tr>\n",
       "    <tr>\n",
       "      <th>1</th>\n",
       "      <td>CA</td>\n",
       "      <td>C</td>\n",
       "      <td>THR</td>\n",
       "      <td>12.784</td>\n",
       "      <td>16.967</td>\n",
       "      <td>4.338</td>\n",
       "      <td>1</td>\n",
       "    </tr>\n",
       "    <tr>\n",
       "      <th>2</th>\n",
       "      <td>C</td>\n",
       "      <td>C</td>\n",
       "      <td>THR</td>\n",
       "      <td>12.755</td>\n",
       "      <td>15.685</td>\n",
       "      <td>5.133</td>\n",
       "      <td>1</td>\n",
       "    </tr>\n",
       "    <tr>\n",
       "      <th>3</th>\n",
       "      <td>O</td>\n",
       "      <td>O</td>\n",
       "      <td>THR</td>\n",
       "      <td>13.825</td>\n",
       "      <td>15.268</td>\n",
       "      <td>5.594</td>\n",
       "      <td>1</td>\n",
       "    </tr>\n",
       "    <tr>\n",
       "      <th>4</th>\n",
       "      <td>CB</td>\n",
       "      <td>C</td>\n",
       "      <td>THR</td>\n",
       "      <td>12.703</td>\n",
       "      <td>18.170</td>\n",
       "      <td>5.337</td>\n",
       "      <td>1</td>\n",
       "    </tr>\n",
       "    <tr>\n",
       "      <th>5</th>\n",
       "      <td>OG1</td>\n",
       "      <td>O</td>\n",
       "      <td>THR</td>\n",
       "      <td>12.829</td>\n",
       "      <td>19.334</td>\n",
       "      <td>4.463</td>\n",
       "      <td>1</td>\n",
       "    </tr>\n",
       "    <tr>\n",
       "      <th>6</th>\n",
       "      <td>CG2</td>\n",
       "      <td>C</td>\n",
       "      <td>THR</td>\n",
       "      <td>11.546</td>\n",
       "      <td>18.150</td>\n",
       "      <td>6.304</td>\n",
       "      <td>1</td>\n",
       "    </tr>\n",
       "    <tr>\n",
       "      <th>7</th>\n",
       "      <td>N</td>\n",
       "      <td>N</td>\n",
       "      <td>THR</td>\n",
       "      <td>11.555</td>\n",
       "      <td>15.115</td>\n",
       "      <td>5.265</td>\n",
       "      <td>2</td>\n",
       "    </tr>\n",
       "    <tr>\n",
       "      <th>8</th>\n",
       "      <td>CA</td>\n",
       "      <td>C</td>\n",
       "      <td>THR</td>\n",
       "      <td>11.469</td>\n",
       "      <td>13.856</td>\n",
       "      <td>6.066</td>\n",
       "      <td>2</td>\n",
       "    </tr>\n",
       "    <tr>\n",
       "      <th>9</th>\n",
       "      <td>C</td>\n",
       "      <td>C</td>\n",
       "      <td>THR</td>\n",
       "      <td>10.785</td>\n",
       "      <td>14.164</td>\n",
       "      <td>7.379</td>\n",
       "      <td>2</td>\n",
       "    </tr>\n",
       "  </tbody>\n",
       "</table>\n",
       "</div>"
      ],
      "text/plain": [
       "  name element aminoacid       x       y      z  residue_seq_number\n",
       "0    N       N       THR  14.099  17.047  3.625                   1\n",
       "1   CA       C       THR  12.784  16.967  4.338                   1\n",
       "2    C       C       THR  12.755  15.685  5.133                   1\n",
       "3    O       O       THR  13.825  15.268  5.594                   1\n",
       "4   CB       C       THR  12.703  18.170  5.337                   1\n",
       "5  OG1       O       THR  12.829  19.334  4.463                   1\n",
       "6  CG2       C       THR  11.546  18.150  6.304                   1\n",
       "7    N       N       THR  11.555  15.115  5.265                   2\n",
       "8   CA       C       THR  11.469  13.856  6.066                   2\n",
       "9    C       C       THR  10.785  14.164  7.379                   2"
      ]
     },
     "execution_count": 28,
     "metadata": {},
     "output_type": "execute_result"
    }
   ],
   "source": [
    "crambin = read_molecule('assets/1crn.pdb')\n",
    "crambin[:10]"
   ]
  },
  {
   "cell_type": "code",
   "execution_count": 97,
   "metadata": {},
   "outputs": [],
   "source": [
    "def plot_molecule(molecule):\n",
    "    fig = plt.figure(figsize=(16, 9))\n",
    "    indexes_aminoacids = {name: i for i, name in enumerate(molecule.name.unique())}\n",
    "    def aminoacid_name_to_color(name):\n",
    "        return hsv(indexes_aminoacids[name] / (len(indexes_aminoacids) - 1))\n",
    "\n",
    "    ax = fig.add_subplot(111, projection='3d')\n",
    "    ax.scatter(a.x, a.y, a.z, c=list(map(aminoacid_name_to_color, a.name)), s=70)\n",
    "    ax.set_xlabel('X');ax.set_ylabel('Y');ax.set_zlabel('Z')\n",
    "\n",
    "    plt.show()"
   ]
  },
  {
   "cell_type": "markdown",
   "metadata": {},
   "source": [
    "## Question 1"
   ]
  },
  {
   "cell_type": "markdown",
   "metadata": {},
   "source": [
    "### a)"
   ]
  },
  {
   "cell_type": "markdown",
   "metadata": {},
   "source": [
    "* I) First we need to map the sequence of characters as in:\n",
    "\n",
    "**TTCCPSIVARSNFNVCRLPGTPEAICATYTGCIIIPGATTCPGDYAN**\n",
    "to a sequence of amino acids \n",
    "\n",
    "* II) And then, infer the position of each atom of the amino acid from a standard reference ($\\alpha$ carbon) \n",
    "\n",
    "\n",
    "* III) Infer the position of multiple amino acids based on the peptide bond."
   ]
  },
  {
   "cell_type": "markdown",
   "metadata": {},
   "source": [
    "#### I) map the sequence of characters"
   ]
  },
  {
   "cell_type": "code",
   "execution_count": 69,
   "metadata": {},
   "outputs": [],
   "source": [
    "aminoacid_mapping = {'T': 'THR', 'C': 'CYS', 'P': 'PRO', 'S': 'SER', 'I': 'ILE',\n",
    "                     'V': 'VAL', 'A': 'ALA', 'R': 'ARG', 'N': 'ASN', 'F': 'PHE',\n",
    "                     'L': 'LEU', 'G': 'GLY', 'E': 'GLU', 'D': 'ASP', 'Y': 'TYR'}\n",
    "    \n",
    "def map_to_aminoacids(sequence):\n",
    "    return list(map(lambda char: aminoacid_mapping[char], sequence))"
   ]
  },
  {
   "cell_type": "code",
   "execution_count": 54,
   "metadata": {},
   "outputs": [],
   "source": [
    "aminoacid_sequence = 'TTCCPSIVARSNFNVCRLPGTPEAICATYTGCIIIPGATTCPGDYAN'"
   ]
  },
  {
   "cell_type": "code",
   "execution_count": 55,
   "metadata": {},
   "outputs": [],
   "source": [
    "aminoacids_names = map_to_aminoacids(aminoacid_sequence)"
   ]
  },
  {
   "cell_type": "markdown",
   "metadata": {},
   "source": [
    "______________________________________________________________________________________________________________\n",
    "______________________________________________________________________________________________________________\n",
    "______________________________________________________________________________________________________________\n",
    "______________________________________________________________________________________________________________\n",
    "    "
   ]
  },
  {
   "cell_type": "markdown",
   "metadata": {},
   "source": [
    "#### II) infer the position of each atom of the amino acid. For this part, it is not well defined on how to infer the positions.\n",
    "\n",
    "\n",
    "* We could map this sequence to known sequences of the PDB and hope it is a known protein. This is called \n",
    "**Homology Modelling** (**SWISS-MODEL** is an example).\n",
    "\n",
    "\n",
    "* *Or*, we could predict the protein structure using an any number of softwares such as **I-TASSER (Iterative Threading ASSEmbly Refinement)**\n",
    "\n",
    "\n",
    "We're are going to use both and compare the results."
   ]
  },
  {
   "attachments": {},
   "cell_type": "markdown",
   "metadata": {},
   "source": [
    "I-TASSER:\n",
    "![assets/TASSER.png](assets/TASSER.png)"
   ]
  },
  {
   "cell_type": "markdown",
   "metadata": {},
   "source": [
    "  "
   ]
  },
  {
   "cell_type": "markdown",
   "metadata": {},
   "source": [
    "  "
   ]
  },
  {
   "cell_type": "markdown",
   "metadata": {},
   "source": [
    " "
   ]
  },
  {
   "cell_type": "markdown",
   "metadata": {},
   "source": [
    " "
   ]
  },
  {
   "cell_type": "markdown",
   "metadata": {},
   "source": [
    "* But, if we're not using something already pre-defined, we should get the pdb file for each of those amino acids and infer the position of each amino acid by the peptide bond.\n",
    "\n",
    "*Obs.:* PDB's for each amino acid were downloaded here:\n",
    "https://www.nyu.edu/pages/mathmol/library/life/life1.html"
   ]
  },
  {
   "cell_type": "code",
   "execution_count": 56,
   "metadata": {},
   "outputs": [],
   "source": [
    "aminoacids_df = list(map(lambda aminoacid_name: read_molecule('assets/' + aminoacid_name + '.pdb'), aminoacids_names))"
   ]
  },
  {
   "cell_type": "code",
   "execution_count": 57,
   "metadata": {},
   "outputs": [
    {
     "data": {
      "text/html": [
       "<div>\n",
       "<style scoped>\n",
       "    .dataframe tbody tr th:only-of-type {\n",
       "        vertical-align: middle;\n",
       "    }\n",
       "\n",
       "    .dataframe tbody tr th {\n",
       "        vertical-align: top;\n",
       "    }\n",
       "\n",
       "    .dataframe thead th {\n",
       "        text-align: right;\n",
       "    }\n",
       "</style>\n",
       "<table border=\"1\" class=\"dataframe\">\n",
       "  <thead>\n",
       "    <tr style=\"text-align: right;\">\n",
       "      <th></th>\n",
       "      <th>name</th>\n",
       "      <th>element</th>\n",
       "      <th>aminoacid</th>\n",
       "      <th>x</th>\n",
       "      <th>y</th>\n",
       "      <th>z</th>\n",
       "      <th>residue_seq_number</th>\n",
       "    </tr>\n",
       "  </thead>\n",
       "  <tbody>\n",
       "    <tr>\n",
       "      <th>0</th>\n",
       "      <td>N</td>\n",
       "      <td></td>\n",
       "      <td>THR</td>\n",
       "      <td>1.530</td>\n",
       "      <td>-0.596</td>\n",
       "      <td>0.605</td>\n",
       "      <td>1</td>\n",
       "    </tr>\n",
       "    <tr>\n",
       "      <th>1</th>\n",
       "      <td>CA</td>\n",
       "      <td></td>\n",
       "      <td>THR</td>\n",
       "      <td>0.260</td>\n",
       "      <td>0.158</td>\n",
       "      <td>0.675</td>\n",
       "      <td>1</td>\n",
       "    </tr>\n",
       "    <tr>\n",
       "      <th>2</th>\n",
       "      <td>C</td>\n",
       "      <td></td>\n",
       "      <td>THR</td>\n",
       "      <td>0.389</td>\n",
       "      <td>1.343</td>\n",
       "      <td>-0.248</td>\n",
       "      <td>1</td>\n",
       "    </tr>\n",
       "    <tr>\n",
       "      <th>3</th>\n",
       "      <td>O</td>\n",
       "      <td></td>\n",
       "      <td>THR</td>\n",
       "      <td>0.184</td>\n",
       "      <td>2.490</td>\n",
       "      <td>0.118</td>\n",
       "      <td>1</td>\n",
       "    </tr>\n",
       "    <tr>\n",
       "      <th>4</th>\n",
       "      <td>H</td>\n",
       "      <td></td>\n",
       "      <td>THR</td>\n",
       "      <td>1.615</td>\n",
       "      <td>-1.301</td>\n",
       "      <td>1.420</td>\n",
       "      <td>1</td>\n",
       "    </tr>\n",
       "    <tr>\n",
       "      <th>5</th>\n",
       "      <td>O</td>\n",
       "      <td></td>\n",
       "      <td>THR</td>\n",
       "      <td>0.745</td>\n",
       "      <td>1.073</td>\n",
       "      <td>-1.501</td>\n",
       "      <td>1</td>\n",
       "    </tr>\n",
       "    <tr>\n",
       "      <th>6</th>\n",
       "      <td>H</td>\n",
       "      <td></td>\n",
       "      <td>THR</td>\n",
       "      <td>1.613</td>\n",
       "      <td>-1.115</td>\n",
       "      <td>-0.340</td>\n",
       "      <td>1</td>\n",
       "    </tr>\n",
       "    <tr>\n",
       "      <th>7</th>\n",
       "      <td>H</td>\n",
       "      <td></td>\n",
       "      <td>THR</td>\n",
       "      <td>0.114</td>\n",
       "      <td>0.534</td>\n",
       "      <td>1.702</td>\n",
       "      <td>1</td>\n",
       "    </tr>\n",
       "    <tr>\n",
       "      <th>8</th>\n",
       "      <td>C</td>\n",
       "      <td></td>\n",
       "      <td>THR</td>\n",
       "      <td>-0.965</td>\n",
       "      <td>-0.700</td>\n",
       "      <td>0.248</td>\n",
       "      <td>1</td>\n",
       "    </tr>\n",
       "    <tr>\n",
       "      <th>9</th>\n",
       "      <td>O</td>\n",
       "      <td></td>\n",
       "      <td>THR</td>\n",
       "      <td>-0.723</td>\n",
       "      <td>-1.206</td>\n",
       "      <td>-1.077</td>\n",
       "      <td>1</td>\n",
       "    </tr>\n",
       "    <tr>\n",
       "      <th>10</th>\n",
       "      <td>C</td>\n",
       "      <td></td>\n",
       "      <td>THR</td>\n",
       "      <td>-1.230</td>\n",
       "      <td>-1.873</td>\n",
       "      <td>1.231</td>\n",
       "      <td>1</td>\n",
       "    </tr>\n",
       "    <tr>\n",
       "      <th>11</th>\n",
       "      <td>H</td>\n",
       "      <td></td>\n",
       "      <td>THR</td>\n",
       "      <td>-1.853</td>\n",
       "      <td>-0.042</td>\n",
       "      <td>0.237</td>\n",
       "      <td>1</td>\n",
       "    </tr>\n",
       "    <tr>\n",
       "      <th>12</th>\n",
       "      <td>H</td>\n",
       "      <td></td>\n",
       "      <td>THR</td>\n",
       "      <td>-1.455</td>\n",
       "      <td>-1.709</td>\n",
       "      <td>-1.419</td>\n",
       "      <td>1</td>\n",
       "    </tr>\n",
       "    <tr>\n",
       "      <th>13</th>\n",
       "      <td>H</td>\n",
       "      <td></td>\n",
       "      <td>THR</td>\n",
       "      <td>-1.328</td>\n",
       "      <td>-1.500</td>\n",
       "      <td>2.262</td>\n",
       "      <td>1</td>\n",
       "    </tr>\n",
       "    <tr>\n",
       "      <th>14</th>\n",
       "      <td>H</td>\n",
       "      <td></td>\n",
       "      <td>THR</td>\n",
       "      <td>-2.164</td>\n",
       "      <td>-2.388</td>\n",
       "      <td>0.958</td>\n",
       "      <td>1</td>\n",
       "    </tr>\n",
       "    <tr>\n",
       "      <th>15</th>\n",
       "      <td>H</td>\n",
       "      <td></td>\n",
       "      <td>THR</td>\n",
       "      <td>-0.411</td>\n",
       "      <td>-2.606</td>\n",
       "      <td>1.191</td>\n",
       "      <td>1</td>\n",
       "    </tr>\n",
       "    <tr>\n",
       "      <th>16</th>\n",
       "      <td>H</td>\n",
       "      <td></td>\n",
       "      <td>THR</td>\n",
       "      <td>0.798</td>\n",
       "      <td>1.882</td>\n",
       "      <td>-1.996</td>\n",
       "      <td>1</td>\n",
       "    </tr>\n",
       "  </tbody>\n",
       "</table>\n",
       "</div>"
      ],
      "text/plain": [
       "   name element aminoacid      x      y      z  residue_seq_number\n",
       "0     N               THR  1.530 -0.596  0.605                   1\n",
       "1    CA               THR  0.260  0.158  0.675                   1\n",
       "2     C               THR  0.389  1.343 -0.248                   1\n",
       "3     O               THR  0.184  2.490  0.118                   1\n",
       "4     H               THR  1.615 -1.301  1.420                   1\n",
       "5     O               THR  0.745  1.073 -1.501                   1\n",
       "6     H               THR  1.613 -1.115 -0.340                   1\n",
       "7     H               THR  0.114  0.534  1.702                   1\n",
       "8     C               THR -0.965 -0.700  0.248                   1\n",
       "9     O               THR -0.723 -1.206 -1.077                   1\n",
       "10    C               THR -1.230 -1.873  1.231                   1\n",
       "11    H               THR -1.853 -0.042  0.237                   1\n",
       "12    H               THR -1.455 -1.709 -1.419                   1\n",
       "13    H               THR -1.328 -1.500  2.262                   1\n",
       "14    H               THR -2.164 -2.388  0.958                   1\n",
       "15    H               THR -0.411 -2.606  1.191                   1\n",
       "16    H               THR  0.798  1.882 -1.996                   1"
      ]
     },
     "metadata": {},
     "output_type": "display_data"
    },
    {
     "data": {
      "text/html": [
       "<div>\n",
       "<style scoped>\n",
       "    .dataframe tbody tr th:only-of-type {\n",
       "        vertical-align: middle;\n",
       "    }\n",
       "\n",
       "    .dataframe tbody tr th {\n",
       "        vertical-align: top;\n",
       "    }\n",
       "\n",
       "    .dataframe thead th {\n",
       "        text-align: right;\n",
       "    }\n",
       "</style>\n",
       "<table border=\"1\" class=\"dataframe\">\n",
       "  <thead>\n",
       "    <tr style=\"text-align: right;\">\n",
       "      <th></th>\n",
       "      <th>name</th>\n",
       "      <th>element</th>\n",
       "      <th>aminoacid</th>\n",
       "      <th>x</th>\n",
       "      <th>y</th>\n",
       "      <th>z</th>\n",
       "      <th>residue_seq_number</th>\n",
       "    </tr>\n",
       "  </thead>\n",
       "  <tbody>\n",
       "    <tr>\n",
       "      <th>0</th>\n",
       "      <td>N</td>\n",
       "      <td></td>\n",
       "      <td>CYS</td>\n",
       "      <td>-0.143</td>\n",
       "      <td>0.102</td>\n",
       "      <td>0.000</td>\n",
       "      <td>1</td>\n",
       "    </tr>\n",
       "    <tr>\n",
       "      <th>1</th>\n",
       "      <td>CA</td>\n",
       "      <td></td>\n",
       "      <td>CYS</td>\n",
       "      <td>-0.029</td>\n",
       "      <td>1.558</td>\n",
       "      <td>0.000</td>\n",
       "      <td>1</td>\n",
       "    </tr>\n",
       "    <tr>\n",
       "      <th>2</th>\n",
       "      <td>C</td>\n",
       "      <td></td>\n",
       "      <td>CYS</td>\n",
       "      <td>1.419</td>\n",
       "      <td>1.986</td>\n",
       "      <td>0.000</td>\n",
       "      <td>1</td>\n",
       "    </tr>\n",
       "    <tr>\n",
       "      <th>3</th>\n",
       "      <td>O</td>\n",
       "      <td></td>\n",
       "      <td>CYS</td>\n",
       "      <td>2.348</td>\n",
       "      <td>1.165</td>\n",
       "      <td>0.000</td>\n",
       "      <td>1</td>\n",
       "    </tr>\n",
       "    <tr>\n",
       "      <th>4</th>\n",
       "      <td>CB</td>\n",
       "      <td></td>\n",
       "      <td>CYS</td>\n",
       "      <td>-0.807</td>\n",
       "      <td>2.111</td>\n",
       "      <td>-1.210</td>\n",
       "      <td>1</td>\n",
       "    </tr>\n",
       "    <tr>\n",
       "      <th>5</th>\n",
       "      <td>SG</td>\n",
       "      <td></td>\n",
       "      <td>CYS</td>\n",
       "      <td>-0.856</td>\n",
       "      <td>3.916</td>\n",
       "      <td>-1.168</td>\n",
       "      <td>1</td>\n",
       "    </tr>\n",
       "    <tr>\n",
       "      <th>6</th>\n",
       "      <td>1H</td>\n",
       "      <td>1</td>\n",
       "      <td>CYS</td>\n",
       "      <td>0.725</td>\n",
       "      <td>-0.540</td>\n",
       "      <td>0.000</td>\n",
       "      <td>1</td>\n",
       "    </tr>\n",
       "    <tr>\n",
       "      <th>7</th>\n",
       "      <td>2H</td>\n",
       "      <td>2</td>\n",
       "      <td>CYS</td>\n",
       "      <td>-1.101</td>\n",
       "      <td>-0.397</td>\n",
       "      <td>0.000</td>\n",
       "      <td>1</td>\n",
       "    </tr>\n",
       "    <tr>\n",
       "      <th>8</th>\n",
       "      <td>HA</td>\n",
       "      <td></td>\n",
       "      <td>CYS</td>\n",
       "      <td>-0.485</td>\n",
       "      <td>1.942</td>\n",
       "      <td>0.931</td>\n",
       "      <td>1</td>\n",
       "    </tr>\n",
       "    <tr>\n",
       "      <th>9</th>\n",
       "      <td>HO</td>\n",
       "      <td></td>\n",
       "      <td>CYS</td>\n",
       "      <td>3.249</td>\n",
       "      <td>1.665</td>\n",
       "      <td>0.000</td>\n",
       "      <td>1</td>\n",
       "    </tr>\n",
       "    <tr>\n",
       "      <th>10</th>\n",
       "      <td>1HB</td>\n",
       "      <td>1</td>\n",
       "      <td>CYS</td>\n",
       "      <td>-1.849</td>\n",
       "      <td>1.743</td>\n",
       "      <td>-1.218</td>\n",
       "      <td>1</td>\n",
       "    </tr>\n",
       "    <tr>\n",
       "      <th>11</th>\n",
       "      <td>2HB</td>\n",
       "      <td>2</td>\n",
       "      <td>CYS</td>\n",
       "      <td>-0.357</td>\n",
       "      <td>1.778</td>\n",
       "      <td>-2.168</td>\n",
       "      <td>1</td>\n",
       "    </tr>\n",
       "    <tr>\n",
       "      <th>12</th>\n",
       "      <td>HG</td>\n",
       "      <td></td>\n",
       "      <td>CYS</td>\n",
       "      <td>0.036</td>\n",
       "      <td>4.123</td>\n",
       "      <td>-2.134</td>\n",
       "      <td>1</td>\n",
       "    </tr>\n",
       "    <tr>\n",
       "      <th>13</th>\n",
       "      <td>OC</td>\n",
       "      <td></td>\n",
       "      <td>CYS</td>\n",
       "      <td>1.655</td>\n",
       "      <td>3.396</td>\n",
       "      <td>0.000</td>\n",
       "      <td>1</td>\n",
       "    </tr>\n",
       "  </tbody>\n",
       "</table>\n",
       "</div>"
      ],
      "text/plain": [
       "   name element aminoacid      x      y      z  residue_seq_number\n",
       "0     N               CYS -0.143  0.102  0.000                   1\n",
       "1    CA               CYS -0.029  1.558  0.000                   1\n",
       "2     C               CYS  1.419  1.986  0.000                   1\n",
       "3     O               CYS  2.348  1.165  0.000                   1\n",
       "4    CB               CYS -0.807  2.111 -1.210                   1\n",
       "5    SG               CYS -0.856  3.916 -1.168                   1\n",
       "6    1H       1       CYS  0.725 -0.540  0.000                   1\n",
       "7    2H       2       CYS -1.101 -0.397  0.000                   1\n",
       "8    HA               CYS -0.485  1.942  0.931                   1\n",
       "9    HO               CYS  3.249  1.665  0.000                   1\n",
       "10  1HB       1       CYS -1.849  1.743 -1.218                   1\n",
       "11  2HB       2       CYS -0.357  1.778 -2.168                   1\n",
       "12   HG               CYS  0.036  4.123 -2.134                   1\n",
       "13   OC               CYS  1.655  3.396  0.000                   1"
      ]
     },
     "metadata": {},
     "output_type": "display_data"
    }
   ],
   "source": [
    "display(aminoacids_df[0])\n",
    "display(aminoacids_df[3])"
   ]
  },
  {
   "cell_type": "markdown",
   "metadata": {},
   "source": [
    " \n",
    "  \n",
    "  \n",
    "  \n",
    "  \n",
    "  \n",
    "  \n",
    "  \n",
    "    \n",
    "    "
   ]
  },
  {
   "cell_type": "markdown",
   "metadata": {},
   "source": [
    "______________________________________________________________________________________________________________\n",
    "______________________________________________________________________________________________________________\n",
    "______________________________________________________________________________________________________________\n",
    "______________________________________________________________________________________________________________\n",
    "    "
   ]
  },
  {
   "cell_type": "markdown",
   "metadata": {},
   "source": [
    "#### III) Infer the position of multiple amino acids based on the peptide bond.\n",
    "\n",
    "\n",
    "* After the nucleotilic attack the resonance delocalization of electrons in the peptide bond forces the creation of a plane where the atoms will be located (amide plane).\n",
    "\n",
    "\n"
   ]
  },
  {
   "cell_type": "code",
   "execution_count": 86,
   "metadata": {},
   "outputs": [],
   "source": [
    "hsv = plt.get_cmap('hsv')\n"
   ]
  },
  {
   "cell_type": "code",
   "execution_count": 87,
   "metadata": {},
   "outputs": [],
   "source": [
    "a = aminoacids_df[0]"
   ]
  },
  {
   "cell_type": "code",
   "execution_count": 89,
   "metadata": {},
   "outputs": [
    {
     "data": {
      "text/plain": [
       "0      N\n",
       "1     CA\n",
       "2      C\n",
       "3      O\n",
       "4      H\n",
       "5      O\n",
       "6      H\n",
       "7      H\n",
       "8      C\n",
       "9      O\n",
       "10     C\n",
       "11     H\n",
       "12     H\n",
       "13     H\n",
       "14     H\n",
       "15     H\n",
       "16     H\n",
       "Name: name, dtype: object"
      ]
     },
     "execution_count": 89,
     "metadata": {},
     "output_type": "execute_result"
    }
   ],
   "source": [
    "a.name"
   ]
  },
  {
   "cell_type": "code",
   "execution_count": 92,
   "metadata": {},
   "outputs": [
    {
     "data": {
      "text/plain": [
       "array(['N', 'CA', 'C', 'O', 'H'], dtype=object)"
      ]
     },
     "execution_count": 92,
     "metadata": {},
     "output_type": "execute_result"
    }
   ],
   "source": []
  },
  {
   "cell_type": "code",
   "execution_count": 95,
   "metadata": {},
   "outputs": [
    {
     "data": {
      "image/png": "[encoded data removed]",
      "text/plain": [
       "<Figure size 1152x648 with 1 Axes>"
      ]
     },
     "metadata": {
      "needs_background": "light"
     },
     "output_type": "display_data"
    }
   ],
   "source": [
    "aminoacid = aminoacids_df[0]\n"
   ]
  },
  {
   "cell_type": "code",
   "execution_count": null,
   "metadata": {},
   "outputs": [],
   "source": []
  },
  {
   "cell_type": "code",
   "execution_count": null,
   "metadata": {},
   "outputs": [],
   "source": []
  },
  {
   "cell_type": "code",
   "execution_count": null,
   "metadata": {},
   "outputs": [],
   "source": []
  },
  {
   "cell_type": "code",
   "execution_count": null,
   "metadata": {},
   "outputs": [],
   "source": []
  },
  {
   "cell_type": "code",
   "execution_count": null,
   "metadata": {},
   "outputs": [],
   "source": []
  },
  {
   "cell_type": "code",
   "execution_count": null,
   "metadata": {},
   "outputs": [],
   "source": []
  },
  {
   "cell_type": "code",
   "execution_count": null,
   "metadata": {},
   "outputs": [],
   "source": []
  },
  {
   "cell_type": "code",
   "execution_count": null,
   "metadata": {},
   "outputs": [],
   "source": []
  },
  {
   "cell_type": "code",
   "execution_count": null,
   "metadata": {},
   "outputs": [],
   "source": []
  },
  {
   "cell_type": "code",
   "execution_count": null,
   "metadata": {},
   "outputs": [],
   "source": []
  },
  {
   "cell_type": "code",
   "execution_count": null,
   "metadata": {},
   "outputs": [],
   "source": []
  },
  {
   "cell_type": "code",
   "execution_count": null,
   "metadata": {},
   "outputs": [],
   "source": []
  },
  {
   "cell_type": "code",
   "execution_count": null,
   "metadata": {},
   "outputs": [],
   "source": []
  },
  {
   "cell_type": "code",
   "execution_count": null,
   "metadata": {},
   "outputs": [],
   "source": []
  },
  {
   "cell_type": "code",
   "execution_count": null,
   "metadata": {},
   "outputs": [],
   "source": []
  }
 ],
 "metadata": {
  "kernelspec": {
   "display_name": "Python 3",
   "language": "python",
   "name": "python3"
  },
  "language_info": {
   "codemirror_mode": {
    "name": "ipython",
    "version": 3
   },
   "file_extension": ".py",
   "mimetype": "text/x-python",
   "name": "python",
   "nbconvert_exporter": "python",
   "pygments_lexer": "ipython3",
   "version": "3.6.8"
  }
 },
 "nbformat": 4,
 "nbformat_minor": 2
}

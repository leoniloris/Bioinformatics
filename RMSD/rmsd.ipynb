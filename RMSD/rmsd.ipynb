{
 "cells": [
  {
   "cell_type": "code",
   "execution_count": null,
   "metadata": {},
   "outputs": [],
   "source": [
    "from collections import namedtuple\n",
    "from os import listdir\n",
    "\n",
    "import matplotlib.pyplot as plt\n",
    "import ipywidgets as widgets\n",
    "import pandas as pd\n",
    "import numpy as np\n",
    "import sys\n",
    "\n",
    "\n",
    "%load_ext autoreload\n",
    "%autoreload 2\n",
    "\n",
    "sys.path.append('../PSO/pso/src/pso/')"
   ]
  },
  {
   "cell_type": "markdown",
   "metadata": {},
   "source": [
    "# Atom structure"
   ]
  },
  {
   "cell_type": "code",
   "execution_count": null,
   "metadata": {},
   "outputs": [],
   "source": [
    "Atom = namedtuple('Atom', ['name', 'element', 'aminoacid', 'x', 'y', 'z', 'residue_seq_number'])\n",
    "\n",
    "Atom.parse_name = lambda string: string[12:16].strip()\n",
    "Atom.parse_element = lambda string: string[12] if len(string.strip()) < 78 \\\n",
    "                     else string[76:78].strip()\n",
    "Atom.parse_aminoacid = lambda string: string[17:20].strip()\n",
    "Atom.parse_x = lambda string: float(string[30:38].strip())\n",
    "Atom.parse_y = lambda string: float(string[38:46].strip())\n",
    "Atom.parse_z = lambda string: float(string[46:54].strip())\n",
    "Atom.parse_residue_seq_number = lambda string: int(string[23:30].strip())\n",
    "\n",
    "Atom.parse = lambda string: Atom(\n",
    "    Atom.parse_name(string), Atom.parse_element(string), Atom.parse_aminoacid(string),\n",
    "    Atom.parse_y(string), Atom.parse_x(string), Atom.parse_z(string), Atom.parse_residue_seq_number(string))"
   ]
  },
  {
   "cell_type": "markdown",
   "metadata": {},
   "source": [
    "## Select the molecule to compare"
   ]
  },
  {
   "cell_type": "code",
   "execution_count": null,
   "metadata": {},
   "outputs": [],
   "source": [
    "path_molecules_to_compare = [f for f in listdir() \n",
    "                             if 'reference' not in f and f.endswith('.pdb')]\n",
    "print(path_molecules_to_compare)"
   ]
  },
  {
   "cell_type": "markdown",
   "metadata": {},
   "source": [
    "## Read data from pdb file"
   ]
  },
  {
   "cell_type": "code",
   "execution_count": null,
   "metadata": {},
   "outputs": [],
   "source": [
    "def read_molecule(path):\n",
    "    atoms = []\n",
    "    with open(path, 'r') as f:\n",
    "        for line in f:\n",
    "            if line.startswith('ATOM'):\n",
    "                try:\n",
    "                    atoms.append(Atom.parse(line))\n",
    "                except Exception as e:\n",
    "                    print(e)\n",
    "    return atoms"
   ]
  },
  {
   "cell_type": "code",
   "execution_count": null,
   "metadata": {},
   "outputs": [],
   "source": [
    "reference = pd.DataFrame(read_molecule('reference.pdb'))\n",
    "molecules_to_compare = [pd.DataFrame(read_molecule(m)) \\\n",
    "                        for m in path_molecules_to_compare]"
   ]
  },
  {
   "cell_type": "code",
   "execution_count": null,
   "metadata": {},
   "outputs": [],
   "source": [
    "molecules_to_compare[0][:20]"
   ]
  },
  {
   "cell_type": "code",
   "execution_count": null,
   "metadata": {},
   "outputs": [],
   "source": [
    "reference[:20]"
   ]
  },
  {
   "cell_type": "markdown",
   "metadata": {},
   "source": [
    "# RMSD calculation"
   ]
  },
  {
   "cell_type": "markdown",
   "metadata": {},
   "source": [
    "* We can notice that the reference structure has a greater number of alpha carbons and amino acids residues.\n",
    "\n",
    "\n",
    "* One approach to tackle this problem would be to `trim` the reference molecule so it will have the same amount of alpha carbons than the molecule to compare.\n",
    "\n",
    "\n",
    "a) At first, we'll compute the RMSD using the beginning of the molecule reference. \n",
    "\n",
    "\n",
    "\n",
    "b) After, the same study will be made with the possibility of translations in the molecule to be compared. "
   ]
  },
  {
   "cell_type": "code",
   "execution_count": null,
   "metadata": {},
   "outputs": [],
   "source": [
    "def apply_transformations(transformation, df):\n",
    "    homogeneous_coordinates = df[['x', 'y', 'z']].copy()\n",
    "    homogeneous_coordinates['_'] = 1.0\n",
    "    return transformation.dot(homogeneous_coordinates.values.T).T[:, :-1]"
   ]
  },
  {
   "cell_type": "code",
   "execution_count": null,
   "metadata": {},
   "outputs": [],
   "source": [
    "def RMSD(molecule1, molecule2, functions=['CA'], \n",
    "         transformation1=np.eye(4), transformation2=np.eye(4)):\n",
    "    \n",
    "    molecule1 = molecule1[molecule1.name.isin(functions)].copy()\n",
    "    molecule1 = apply_transformations(transformation1, molecule1)\n",
    "    molecule2 = molecule2[molecule2.name.isin(functions)].copy()\n",
    "    molecule2  = apply_transformations(transformation2, molecule2)\n",
    "    \n",
    "    smaller_size = min(len(molecule1), len(molecule2))\n",
    "    squared_differences = (molecule1[:smaller_size] - \\\n",
    "                           molecule2[:smaller_size]) ** 2\n",
    "\n",
    "    squared_distance = squared_differences.sum(axis=1)\n",
    "    average_squared_distance = squared_distance.mean()\n",
    "    average_distance = np.sqrt(average_squared_distance)\n",
    "    return average_distance"
   ]
  },
  {
   "cell_type": "markdown",
   "metadata": {},
   "source": [
    "## No Translation"
   ]
  },
  {
   "cell_type": "code",
   "execution_count": null,
   "metadata": {
    "scrolled": false
   },
   "outputs": [],
   "source": [
    "print('Not applying any transfomation.')\n",
    "rmsd = []\n",
    "labels = []\n",
    "for idx, molecule_to_compare in enumerate(molecules_to_compare):\n",
    "    rmsd.append(RMSD(reference, molecules_to_compare[idx]))\n",
    "    labels.append('molecule %d' % idx)\n",
    "    print('RMSD between the reference and molecule %d: %f Ångströns' % \\\n",
    "          (idx + 1, rmsd[-1]))\n",
    "    \n",
    "\n",
    "plt.figure(figsize=(13, 8))\n",
    "plt.ylabel('RMSD')\n",
    "plt.bar(labels, rmsd)\n",
    "plt.grid()\n",
    "plt.show()"
   ]
  },
  {
   "cell_type": "markdown",
   "metadata": {},
   "source": [
    "## With translation."
   ]
  },
  {
   "cell_type": "code",
   "execution_count": null,
   "metadata": {},
   "outputs": [],
   "source": [
    "def infer_translation_matrix(molecule_to_be_displaced, ref_point):\n",
    "    atom_to_displace =\\\n",
    "        molecule_to_be_displaced[molecule_to_be_displaced.name == 'CA'].iloc[0]\n",
    "    \n",
    "    T_MATRIX = np.eye(4)\n",
    "    T_MATRIX[0, 3] = (ref_point.x - atom_to_displace.x)\n",
    "    T_MATRIX[1, 3] = (ref_point.y - atom_to_displace.y)\n",
    "    T_MATRIX[2, 3] = (ref_point.z - atom_to_displace.z)\n",
    "    return T_MATRIX"
   ]
  },
  {
   "cell_type": "markdown",
   "metadata": {},
   "source": [
    "* At first, we'll consider as a reference point the first carbon alpha of the molecule reference."
   ]
  },
  {
   "cell_type": "code",
   "execution_count": null,
   "metadata": {},
   "outputs": [],
   "source": [
    "ref_point = reference[reference.name == 'CA'].iloc[0]"
   ]
  },
  {
   "cell_type": "code",
   "execution_count": null,
   "metadata": {
    "scrolled": false
   },
   "outputs": [],
   "source": [
    "rmsd = []\n",
    "labels = []\n",
    "for idx, molecule_to_compare in enumerate(molecules_to_compare):\n",
    "    translation = infer_translation_matrix(molecule_to_compare, ref_point)\n",
    "    rmsd.append(RMSD(reference, molecules_to_compare[idx], transformation2=translation))\n",
    "    labels.append('molecule %d' % idx)\n",
    "    print('RMSD between the reference and molecule %d: %f Ångströns' % \\\n",
    "          (idx + 1, rmsd[-1]))\n",
    "    \n",
    "\n",
    "plt.figure(figsize=(13, 8))\n",
    "plt.ylabel('RMSD')\n",
    "plt.bar(labels, rmsd)\n",
    "plt.grid()\n",
    "plt.show()"
   ]
  },
  {
   "cell_type": "markdown",
   "metadata": {},
   "source": [
    "That's it!"
   ]
  },
  {
   "cell_type": "markdown",
   "metadata": {},
   "source": [
    "***\n",
    "---\n",
    "***\n",
    "---\n",
    "***\n",
    "---\n",
    "***\n",
    "***\n",
    "---\n",
    "***\n",
    "---\n",
    "***\n",
    "---\n",
    "***\n",
    "***\n",
    "---\n",
    "***\n",
    "---\n",
    "***\n",
    "---\n",
    "***"
   ]
  },
  {
   "cell_type": "markdown",
   "metadata": {},
   "source": [
    "# Calculating the best alignment."
   ]
  },
  {
   "cell_type": "markdown",
   "metadata": {},
   "source": [
    "* We will be using the library `pso` developed by assignee of this assignment.\n",
    "\n",
    "\n",
    "* The PSO (Particle swarm optimization) is an heuristic method for finding global minima in cost/energy functions.\n",
    "\n",
    "\n",
    "* For the molecule alignment problem, the **RMSD** is going to be the cost function that we want to minimize.\n",
    "\n",
    "\n",
    "* The library requires an structure called `CostModel`, which defines the objective function, the boundaries and the number of parameters."
   ]
  },
  {
   "cell_type": "code",
   "execution_count": null,
   "metadata": {},
   "outputs": [],
   "source": [
    "NUMBER_OF_PARTICLES = 10"
   ]
  },
  {
   "cell_type": "code",
   "execution_count": null,
   "metadata": {},
   "outputs": [],
   "source": [
    "from cost import CostModel\n",
    "from pso import PSO\n",
    "from plot import plot_states\n",
    "from functools import partial"
   ]
  },
  {
   "cell_type": "code",
   "execution_count": null,
   "metadata": {},
   "outputs": [],
   "source": [
    "ref_point = reference[reference.name == 'CA'].iloc[0]\n",
    "print('Reference point: ')\n",
    "ref_point"
   ]
  },
  {
   "cell_type": "code",
   "execution_count": null,
   "metadata": {},
   "outputs": [],
   "source": [
    "boundary_min = reference[['x', 'y','z']].values.min() * 1.5\n",
    "boundary_max = reference[['x', 'y','z']].values.max() * 1.5\n",
    "print('Translation boundaries: ')\n",
    "print('min: ', boundary_min, 'Ångströns')\n",
    "print('max: ', boundary_max, 'Ångströns')"
   ]
  },
  {
   "cell_type": "code",
   "execution_count": null,
   "metadata": {},
   "outputs": [],
   "source": [
    "def translation_matrix(delta_x, delta_y, delta_z, ref_x=.0, ref_y=.0, ref_z=.0):\n",
    "    T = np.eye(4)\n",
    "    T[0, -1], T[1, -1], T[2, -1] = delta_x - ref_x, delta_y - ref_y, delta_z - ref_z\n",
    "    return T"
   ]
  },
  {
   "cell_type": "markdown",
   "metadata": {},
   "source": [
    "## a) Optimize RMSD taking into account only the Backbone."
   ]
  },
  {
   "cell_type": "markdown",
   "metadata": {},
   "source": [
    "* Now, we are going to filter the atoms by removing hydrogens and the residues.\n",
    "\n",
    "\n",
    "* Thus, only **Carbons, Nitrogens and Oxygens** are left."
   ]
  },
  {
   "cell_type": "markdown",
   "metadata": {},
   "source": [
    "* We are going to modify the previously defined RMSD function so we can compare the exact same atoms of each structure. \n",
    "\n",
    "\n",
    "* Still using only the beginning of the reference molecule. "
   ]
  },
  {
   "cell_type": "code",
   "execution_count": null,
   "metadata": {},
   "outputs": [],
   "source": [
    "reference_cropped = reference[:410].copy()"
   ]
  },
  {
   "cell_type": "code",
   "execution_count": null,
   "metadata": {},
   "outputs": [],
   "source": [
    "def RMSD(molecule1, molecule2, elements=['C', 'N', 'O'], \n",
    "         transformation1=np.eye(4), transformation2=np.eye(4)):\n",
    "    molecule1 = molecule1[molecule1.element.isin(elements)].copy()\n",
    "    molecule1[['x', 'y','z']] = apply_transformations(transformation1, molecule1)\n",
    "    molecule1['type'] = 'reference'\n",
    "\n",
    "    molecule2 = molecule2[molecule2.element.isin(elements)].copy()\n",
    "    molecule2[['x', 'y','z']] = apply_transformations(transformation2, molecule2)\n",
    "    molecule2['type'] = 'to_compare'\n",
    "\n",
    "    both_molecules = molecule1.append(molecule2).reset_index(drop=True)\n",
    "\n",
    "    def compute_squared_differences(group):\n",
    "        to_compare = group[group.type == 'to_compare'].iloc[0]\n",
    "        ref = group[group.type == 'reference'].iloc[0]\n",
    "        group = pd.concat([to_compare, ref], axis=1).T\n",
    "        coordinates = group.loc[:, ['x', 'y', 'z']]\n",
    "        squared_differences = (coordinates.iloc[1] - coordinates.iloc[0]) ** 2\n",
    "        return squared_differences.sum()\n",
    "\n",
    "    rmsd = np.sqrt(\n",
    "        both_molecules.groupby(['name', 'residue_seq_number']).apply(compute_squared_differences).mean())\n",
    "    return rmsd"
   ]
  },
  {
   "cell_type": "code",
   "execution_count": null,
   "metadata": {},
   "outputs": [],
   "source": [
    "idx = 0\n",
    "backbone_states = []\n",
    "for idx, molecule_to_compare in enumerate(molecules_to_compare):\n",
    "    cost_model = CostModel(\n",
    "        callable=lambda T:\\\n",
    "            RMSD(reference_cropped, molecule_to_compare,\n",
    "                 transformation1=np.eye(4),\n",
    "                 transformation2=translation_matrix(T[0], T[1], T[2], ref_x=ref_point.x, ref_y=ref_point.y, ref_z=ref_point.z)),\n",
    "        num_dimensions=3,\n",
    "        parameters_boundaries=[boundary_min, boundary_max],\n",
    "        name='RMSD between reference and molecule %d.' % idx\n",
    "    )\n",
    "\n",
    "    pso = PSO(cost_model, num_particles=NUMBER_OF_PARTICLES, max_iter=200, min_cummulative_error=1E-2)\n",
    "    backbone_states.append(pso.optimize())"
   ]
  },
  {
   "cell_type": "markdown",
   "metadata": {},
   "source": [
    "## b) Optimize RMSD taking into account only the alpha carbons.\n",
    "\n"
   ]
  },
  {
   "cell_type": "code",
   "execution_count": null,
   "metadata": {},
   "outputs": [],
   "source": [
    "idx = 0\n",
    "cost_model = CostModel(\n",
    "    callable=lambda T:\\\n",
    "        RMSD(reference, molecules_to_compare[idx], \n",
    "             transformation1=np.eye(4),\n",
    "             transformation2=translation_matrix(T[0], T[1], T[2], ref_x=ref_point.x, ref_y=ref_point.y, ref_z=ref_point.z)),\n",
    "    num_dimensions=3,\n",
    "    parameters_boundaries=[boundary_min, boundary_max],\n",
    "    name='RMSD between reference and molecule %d.' % idx\n",
    ")\n",
    "\n",
    "pso = PSO(cost_model, num_particles=NUMBER_OF_PARTICLES, max_iter=200, min_cummulative_error=1E-2)\n",
    "states = pso.optimize()"
   ]
  },
  {
   "cell_type": "markdown",
   "metadata": {},
   "source": [
    "# FAZER PRAS OTRA MOLËCALAS"
   ]
  },
  {
   "cell_type": "code",
   "execution_count": null,
   "metadata": {},
   "outputs": [],
   "source": [
    "# name element aminoacid\n",
    "molecule1, molecule2, elements, transformation1, transformation2= reference.copy(), molecules_to_compare[0].copy(), ['C', 'N', 'O'],np.eye(4),np.eye(4)\n",
    "\n",
    "\n",
    "\n",
    "\n",
    "\n"
   ]
  },
  {
   "cell_type": "markdown",
   "metadata": {},
   "source": [
    "### Cumulative RMSD of all particles"
   ]
  },
  {
   "cell_type": "code",
   "execution_count": null,
   "metadata": {},
   "outputs": [],
   "source": [
    "plt.figure(figsize=(13, 8))\n",
    "plt.ylabel('cumulative RMSD')\n",
    "plt.plot(states['cumulative_error'])\n",
    "plt.grid()\n",
    "plt.show()\n",
    "print('Final cumulative RMSD:', states['cumulative_error'][-1])"
   ]
  },
  {
   "cell_type": "markdown",
   "metadata": {},
   "source": [
    "### RMSD of all the average position of all particles."
   ]
  },
  {
   "cell_type": "code",
   "execution_count": null,
   "metadata": {},
   "outputs": [],
   "source": [
    "def translation_matrix(delta_x, delta_y, delta_z, ref_x=.0, ref_y=.0, ref_z=.0):\n",
    "    T = np.eye(4)\n",
    "    T[0, -1], T[1, -1], T[2, -1] = delta_x - ref_x, delta_y - ref_y, delta_z - ref_z\n",
    "    return T"
   ]
  },
  {
   "cell_type": "code",
   "execution_count": null,
   "metadata": {},
   "outputs": [],
   "source": [
    "average_positions = np.array([np.mean(np.vstack(list(particles_position.values())), axis=0) for particles_position in states['particles_positions']])"
   ]
  },
  {
   "cell_type": "code",
   "execution_count": null,
   "metadata": {},
   "outputs": [],
   "source": [
    "rmsd = [cost_model.callable(average_position) for average_position in average_positions]\n",
    "plt.figure(figsize=(13, 8))\n",
    "plt.ylabel('RMSD error')\n",
    "plt.plot(rmsd)\n",
    "plt.grid()\n",
    "plt.show()\n",
    "print('Final average RMSD:', rmsd[-1])\n",
    "print('Final average translation:', average_positions[-1, :], 'Ångströns')"
   ]
  },
  {
   "cell_type": "code",
   "execution_count": null,
   "metadata": {},
   "outputs": [],
   "source": []
  }
 ],
 "metadata": {
  "kernelspec": {
   "display_name": "Python 3",
   "language": "python",
   "name": "python3"
  },
  "language_info": {
   "codemirror_mode": {
    "name": "ipython",
    "version": 3
   },
   "file_extension": ".py",
   "mimetype": "text/x-python",
   "name": "python",
   "nbconvert_exporter": "python",
   "pygments_lexer": "ipython3",
   "version": "3.6.8"
  }
 },
 "nbformat": 4,
 "nbformat_minor": 2
}
